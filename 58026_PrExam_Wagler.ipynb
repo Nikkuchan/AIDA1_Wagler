{
  "nbformat": 4,
  "nbformat_minor": 0,
  "metadata": {
    "colab": {
      "name": "58026_PrExam_Wagler.ipynb",
      "provenance": [],
      "collapsed_sections": [],
      "include_colab_link": true
    },
    "kernelspec": {
      "name": "python3",
      "display_name": "Python 3"
    },
    "language_info": {
      "name": "python"
    }
  },
  "cells": [
    {
      "cell_type": "markdown",
      "metadata": {
        "id": "view-in-github",
        "colab_type": "text"
      },
      "source": [
        "<a href=\"https://colab.research.google.com/github/Nikkuchan/CpE-AIML/blob/main/58026_PrExam_Wagler.ipynb\" target=\"_parent\"><img src=\"https://colab.research.google.com/assets/colab-badge.svg\" alt=\"Open In Colab\"/></a>"
      ]
    },
    {
      "cell_type": "markdown",
      "source": [
        "#**Prelim Term Assessment**"
      ],
      "metadata": {
        "id": "JOdWIrPndwm0"
      }
    },
    {
      "cell_type": "code",
      "source": [
        "import numpy as np\n",
        "import pandas as pd"
      ],
      "metadata": {
        "id": "NLhQjOSpj5-_"
      },
      "execution_count": null,
      "outputs": []
    },
    {
      "cell_type": "markdown",
      "source": [
        "##**I: Perceptron Algorithm Script**"
      ],
      "metadata": {
        "id": "o9aUsVOaqSr1"
      }
    },
    {
      "cell_type": "code",
      "source": [
        "def perceptron_script(x1,x2):\n",
        "  if(x1 == 1) and (x2 == 1):\n",
        "    return 0\n",
        "  elif(x1 == 1) and (x2 == 0):\n",
        "    return 0\n",
        "  elif(x1 == 0) and (x2 == 1):\n",
        "    return 0\n",
        "  elif (x1 == 0) and (x2 == 0):\n",
        "    return 1"
      ],
      "metadata": {
        "id": "Fd9FzubxqyLV"
      },
      "execution_count": null,
      "outputs": []
    },
    {
      "cell_type": "code",
      "source": [
        "y1 = perceptron_script(1,1)\n",
        "y2 = perceptron_script(1,0)\n",
        "y3 = perceptron_script(0,1)\n",
        "y4 = perceptron_script(0,0)"
      ],
      "metadata": {
        "id": "8z0kbjJh_9Op"
      },
      "execution_count": null,
      "outputs": []
    },
    {
      "cell_type": "code",
      "source": [
        "print (y1,y2,y3,y4)"
      ],
      "metadata": {
        "colab": {
          "base_uri": "https://localhost:8080/"
        },
        "id": "ZvSSVbUN__Lg",
        "outputId": "929b8afa-9305-44f6-cb40-5035dfbad280"
      },
      "execution_count": null,
      "outputs": [
        {
          "output_type": "stream",
          "name": "stdout",
          "text": [
            "0 0 0 1\n"
          ]
        }
      ]
    },
    {
      "cell_type": "markdown",
      "source": [
        "The perceptron algorithm script is presented with the use of ***if...elif*** function. With the use of this function it is easier to represent the **NOR truth table** as shown in the results - the if...elif statement will only occur when the set values of ***x1 and x2*** is provided the same way it was declared and each combination of these truth values is set to return an output for each if...elif statement. To show the output of the corresponding ***y values*** for each x values. The results are **y_values = [0,0,0,1]** respectively."
      ],
      "metadata": {
        "id": "TdLHLjpUAMjQ"
      }
    },
    {
      "cell_type": "markdown",
      "source": [
        "##**II-IV: Forward and Background Propagation**"
      ],
      "metadata": {
        "id": "d_1vs6kpqweF"
      }
    },
    {
      "cell_type": "code",
      "source": [
        "# declaration features and targets\n",
        "W1 = np.array([[1, -1],\n",
        "               [-1, 1]])\n",
        "W2 = np.array([[1, 2],\n",
        "               [2, 1]])\n",
        "W3 = np.array([-1, 1])\n",
        "\n",
        "x = np.array([1, 0])"
      ],
      "metadata": {
        "id": "QM9oGARtd3mT"
      },
      "execution_count": null,
      "outputs": []
    },
    {
      "cell_type": "code",
      "source": [
        "class Propagation():\n",
        "  def ForwardPropagation(X, W1, W2, W3): \n",
        "    Z1 = np.dot(X, W1)                      # product of 1st neuron from input layer and w1\n",
        "    A1 = np.round(np.tanh(Z1),2)            #vale of z1 is passed to the activation function tanh\n",
        "    Z2 = np.dot(A1, W2)                     #value of a1 passed to another hidden layer \n",
        "    A2 = np.round(np.tanh(Z2),2)            #vale of z2 is passed to the activation function tanh\n",
        "    Z3 = np.dot(A2, W3)                     #value of a2 passed to another hidden layer\n",
        "    A3 = np.round(np.tanh(Z3),2)            #vale of z3 is passed to the activation functionto get the output prediction\n",
        "    dir = {\n",
        "        'Activated Neuron A1': [A1],\n",
        "        'Activated Neuron A2': [A2],\n",
        "        'Output Prediction': [A3],\n",
        "    }\n",
        "    df1 = pd.DataFrame(dir)\n",
        "    return A1, A2, A3,df1\n",
        "  \n",
        "  def BackwardPropagation(x, W1, W2, W3):\n",
        "      A1= ForwardPropagation(x, W1, W2, W3)[0]\n",
        "      A2= ForwardPropagation(x, W1, W2, W3)[1]\n",
        "      A3= ForwardPropagation(x, W1, W2, W3)[2]\n",
        "\n",
        "      exp_y = 2.86                                  # declaration of features and targets\n",
        "      err = np.round((exp_y-A3), 2)                 # error = expected error - predicted error\n",
        "      dv3 = np.round(((1-A3)*(1+A3)),1)             #derivative of output in layer 3\n",
        "      lgrad3 = np.round((err*dv3),1)                #local gradient in layer 3 \n",
        "      learnr = 0.25\n",
        "\n",
        "      newW3 = np.round((W3-(learnr*lgrad3)*A2),1)   #new weights for layer 3\n",
        "      dv2 = np.round(((1-A2)*(1+A2)),2)             #derivative of output in layer 2\n",
        "      lgrad2 = np.dot(W3,dv2)*lgrad3\n",
        "      lgrad2.round(2)                               #local gradient in layer 2\n",
        "\n",
        "      newW2 = np.round((W2-(learnr*lgrad2)*A1),1)   #new weights for layer 2\n",
        "      dv1 = np.round(((1-A1)*(1+A1)),2)             #derivative of output in layer 1\n",
        "      lgrad1 = np.dot(W2,dv2)*lgrad2\n",
        "      lgrad1.round(2)                               #local gradient in layer 1\n",
        "      newW1 = np.round((W1-(learnr*lgrad1)*x),1)    #new weights for layer 1\n",
        "      \n",
        "      dir2 = {\n",
        "          'New Weights 1': [newW1],\n",
        "          'New Weights 2': [newW2],\n",
        "          'New Weights 3': [newW3],\n",
        "      }\n",
        "      df2 = pd.DataFrame(dir2)\n",
        "      return newW3, newW2, newW1,df2"
      ],
      "metadata": {
        "id": "TrYS-h12d75V"
      },
      "execution_count": null,
      "outputs": []
    },
    {
      "cell_type": "markdown",
      "source": [
        "For the Forward Propagation this is utilized in order to find the values of the next values of neurons which are in the given variables of ***Z1, Z2, and Z3***. As seen in the ForwardPropagation Function it has the parameters ***x, W1, W2, and W3*** which are the first neuron and given weights respectively.\n",
        "\n",
        "To find the values of the **first hidden layer** it will begin with the first input neuron, ***x*** and perfoming a dot product with ***W1***. The accumulated value of ***Z1*** is passed to the activation function ***tanh*** that is used to find the value of ***A1*** which is now the new input neuron that will be used for the second hidden layer.\n",
        "\n",
        "For the **second hidden layer** the same method is applied with the use of dot product with variables ***A1*** and ***W2*** you will come up with the value of ***Z2*** using this variable it is passed to the same activation function previously used in the first hidden layer.\n",
        "\n",
        "Lastly for the output prediction, the dot product is performed again with variables ***A2 and W3*** to produce the value of ***Z3***, then the value is  passed to the same activation function producing the output prediction which is ***A3.***"
      ],
      "metadata": {
        "id": "QjIV2quUAh8g"
      }
    },
    {
      "cell_type": "markdown",
      "source": [
        "The **BackwardPropagation** function that was added in Class Propagation contains the same parameters as the ForwardPropagation function. The previous ouputs *A1,A2,A3* from forward propagation were utilized in this function. The derived output prediction was used specifically in solving for the error signal. \n",
        "\n",
        "This error signal was used in getting the local gradient for each weights. The function **BackPropagation** will be producing the new weights by computing the dot product of the local gradient and the learning rate of 0.25 with respect to the weights of neuron. The new weights can be produced by getting the previous answer multiplied by an activated neuron and then subtracted to the previous weight.\n"
      ],
      "metadata": {
        "id": "ZwPModPsEc6Q"
      }
    },
    {
      "cell_type": "code",
      "source": [
        "Propagation.ForwardPropagation(x, W1, W2, W3)[3]"
      ],
      "metadata": {
        "colab": {
          "base_uri": "https://localhost:8080/",
          "height": 81
        },
        "id": "oA9QxXOspIrl",
        "outputId": "5a0b5358-bf5f-47f0-9e27-e98723a2933e"
      },
      "execution_count": null,
      "outputs": [
        {
          "output_type": "execute_result",
          "data": {
            "text/html": [
              "\n",
              "  <div id=\"df-3645cbf8-3386-4f81-b2be-43ca078ecff2\">\n",
              "    <div class=\"colab-df-container\">\n",
              "      <div>\n",
              "<style scoped>\n",
              "    .dataframe tbody tr th:only-of-type {\n",
              "        vertical-align: middle;\n",
              "    }\n",
              "\n",
              "    .dataframe tbody tr th {\n",
              "        vertical-align: top;\n",
              "    }\n",
              "\n",
              "    .dataframe thead th {\n",
              "        text-align: right;\n",
              "    }\n",
              "</style>\n",
              "<table border=\"1\" class=\"dataframe\">\n",
              "  <thead>\n",
              "    <tr style=\"text-align: right;\">\n",
              "      <th></th>\n",
              "      <th>Activated Neuron A1</th>\n",
              "      <th>Activated Neuron A2</th>\n",
              "      <th>Output Prediction</th>\n",
              "    </tr>\n",
              "  </thead>\n",
              "  <tbody>\n",
              "    <tr>\n",
              "      <th>0</th>\n",
              "      <td>[0.76, -0.76]</td>\n",
              "      <td>[-0.64, 0.64]</td>\n",
              "      <td>0.86</td>\n",
              "    </tr>\n",
              "  </tbody>\n",
              "</table>\n",
              "</div>\n",
              "      <button class=\"colab-df-convert\" onclick=\"convertToInteractive('df-3645cbf8-3386-4f81-b2be-43ca078ecff2')\"\n",
              "              title=\"Convert this dataframe to an interactive table.\"\n",
              "              style=\"display:none;\">\n",
              "        \n",
              "  <svg xmlns=\"http://www.w3.org/2000/svg\" height=\"24px\"viewBox=\"0 0 24 24\"\n",
              "       width=\"24px\">\n",
              "    <path d=\"M0 0h24v24H0V0z\" fill=\"none\"/>\n",
              "    <path d=\"M18.56 5.44l.94 2.06.94-2.06 2.06-.94-2.06-.94-.94-2.06-.94 2.06-2.06.94zm-11 1L8.5 8.5l.94-2.06 2.06-.94-2.06-.94L8.5 2.5l-.94 2.06-2.06.94zm10 10l.94 2.06.94-2.06 2.06-.94-2.06-.94-.94-2.06-.94 2.06-2.06.94z\"/><path d=\"M17.41 7.96l-1.37-1.37c-.4-.4-.92-.59-1.43-.59-.52 0-1.04.2-1.43.59L10.3 9.45l-7.72 7.72c-.78.78-.78 2.05 0 2.83L4 21.41c.39.39.9.59 1.41.59.51 0 1.02-.2 1.41-.59l7.78-7.78 2.81-2.81c.8-.78.8-2.07 0-2.86zM5.41 20L4 18.59l7.72-7.72 1.47 1.35L5.41 20z\"/>\n",
              "  </svg>\n",
              "      </button>\n",
              "      \n",
              "  <style>\n",
              "    .colab-df-container {\n",
              "      display:flex;\n",
              "      flex-wrap:wrap;\n",
              "      gap: 12px;\n",
              "    }\n",
              "\n",
              "    .colab-df-convert {\n",
              "      background-color: #E8F0FE;\n",
              "      border: none;\n",
              "      border-radius: 50%;\n",
              "      cursor: pointer;\n",
              "      display: none;\n",
              "      fill: #1967D2;\n",
              "      height: 32px;\n",
              "      padding: 0 0 0 0;\n",
              "      width: 32px;\n",
              "    }\n",
              "\n",
              "    .colab-df-convert:hover {\n",
              "      background-color: #E2EBFA;\n",
              "      box-shadow: 0px 1px 2px rgba(60, 64, 67, 0.3), 0px 1px 3px 1px rgba(60, 64, 67, 0.15);\n",
              "      fill: #174EA6;\n",
              "    }\n",
              "\n",
              "    [theme=dark] .colab-df-convert {\n",
              "      background-color: #3B4455;\n",
              "      fill: #D2E3FC;\n",
              "    }\n",
              "\n",
              "    [theme=dark] .colab-df-convert:hover {\n",
              "      background-color: #434B5C;\n",
              "      box-shadow: 0px 1px 3px 1px rgba(0, 0, 0, 0.15);\n",
              "      filter: drop-shadow(0px 1px 2px rgba(0, 0, 0, 0.3));\n",
              "      fill: #FFFFFF;\n",
              "    }\n",
              "  </style>\n",
              "\n",
              "      <script>\n",
              "        const buttonEl =\n",
              "          document.querySelector('#df-3645cbf8-3386-4f81-b2be-43ca078ecff2 button.colab-df-convert');\n",
              "        buttonEl.style.display =\n",
              "          google.colab.kernel.accessAllowed ? 'block' : 'none';\n",
              "\n",
              "        async function convertToInteractive(key) {\n",
              "          const element = document.querySelector('#df-3645cbf8-3386-4f81-b2be-43ca078ecff2');\n",
              "          const dataTable =\n",
              "            await google.colab.kernel.invokeFunction('convertToInteractive',\n",
              "                                                     [key], {});\n",
              "          if (!dataTable) return;\n",
              "\n",
              "          const docLinkHtml = 'Like what you see? Visit the ' +\n",
              "            '<a target=\"_blank\" href=https://colab.research.google.com/notebooks/data_table.ipynb>data table notebook</a>'\n",
              "            + ' to learn more about interactive tables.';\n",
              "          element.innerHTML = '';\n",
              "          dataTable['output_type'] = 'display_data';\n",
              "          await google.colab.output.renderOutput(dataTable, element);\n",
              "          const docLink = document.createElement('div');\n",
              "          docLink.innerHTML = docLinkHtml;\n",
              "          element.appendChild(docLink);\n",
              "        }\n",
              "      </script>\n",
              "    </div>\n",
              "  </div>\n",
              "  "
            ],
            "text/plain": [
              "  Activated Neuron A1 Activated Neuron A2  Output Prediction\n",
              "0       [0.76, -0.76]       [-0.64, 0.64]               0.86"
            ]
          },
          "metadata": {},
          "execution_count": 57
        }
      ]
    },
    {
      "cell_type": "markdown",
      "source": [
        "Calling the class Propagation and the user function ForwardPropagation with the parameters x, W1, W2, and W3 the values for A1 are **[0.76, -0.76]** and for A2 **[-0.64, 0.64]** with an output prediction = 0.86. These values are produce with the use of the given weights and activation function from the problem set."
      ],
      "metadata": {
        "id": "kfUbz5OiAk_4"
      }
    },
    {
      "cell_type": "code",
      "source": [
        "Propagation.BackwardPropagation(x, W1, W2, W3)[3]"
      ],
      "metadata": {
        "colab": {
          "base_uri": "https://localhost:8080/",
          "height": 81
        },
        "id": "x-SIuSdYpKq3",
        "outputId": "698937af-88ec-4ea6-a29d-20847f0691db"
      },
      "execution_count": null,
      "outputs": [
        {
          "output_type": "execute_result",
          "data": {
            "text/html": [
              "\n",
              "  <div id=\"df-d238f563-7118-4c07-860e-e9abfb4e3731\">\n",
              "    <div class=\"colab-df-container\">\n",
              "      <div>\n",
              "<style scoped>\n",
              "    .dataframe tbody tr th:only-of-type {\n",
              "        vertical-align: middle;\n",
              "    }\n",
              "\n",
              "    .dataframe tbody tr th {\n",
              "        vertical-align: top;\n",
              "    }\n",
              "\n",
              "    .dataframe thead th {\n",
              "        text-align: right;\n",
              "    }\n",
              "</style>\n",
              "<table border=\"1\" class=\"dataframe\">\n",
              "  <thead>\n",
              "    <tr style=\"text-align: right;\">\n",
              "      <th></th>\n",
              "      <th>New Weights 1</th>\n",
              "      <th>New Weights 2</th>\n",
              "      <th>New Weights 3</th>\n",
              "    </tr>\n",
              "  </thead>\n",
              "  <tbody>\n",
              "    <tr>\n",
              "      <th>0</th>\n",
              "      <td>[[1.0, -1.0], [-1.0, 1.0]]</td>\n",
              "      <td>[[1.0, 2.0], [2.0, 1.0]]</td>\n",
              "      <td>[-0.9, 0.9]</td>\n",
              "    </tr>\n",
              "  </tbody>\n",
              "</table>\n",
              "</div>\n",
              "      <button class=\"colab-df-convert\" onclick=\"convertToInteractive('df-d238f563-7118-4c07-860e-e9abfb4e3731')\"\n",
              "              title=\"Convert this dataframe to an interactive table.\"\n",
              "              style=\"display:none;\">\n",
              "        \n",
              "  <svg xmlns=\"http://www.w3.org/2000/svg\" height=\"24px\"viewBox=\"0 0 24 24\"\n",
              "       width=\"24px\">\n",
              "    <path d=\"M0 0h24v24H0V0z\" fill=\"none\"/>\n",
              "    <path d=\"M18.56 5.44l.94 2.06.94-2.06 2.06-.94-2.06-.94-.94-2.06-.94 2.06-2.06.94zm-11 1L8.5 8.5l.94-2.06 2.06-.94-2.06-.94L8.5 2.5l-.94 2.06-2.06.94zm10 10l.94 2.06.94-2.06 2.06-.94-2.06-.94-.94-2.06-.94 2.06-2.06.94z\"/><path d=\"M17.41 7.96l-1.37-1.37c-.4-.4-.92-.59-1.43-.59-.52 0-1.04.2-1.43.59L10.3 9.45l-7.72 7.72c-.78.78-.78 2.05 0 2.83L4 21.41c.39.39.9.59 1.41.59.51 0 1.02-.2 1.41-.59l7.78-7.78 2.81-2.81c.8-.78.8-2.07 0-2.86zM5.41 20L4 18.59l7.72-7.72 1.47 1.35L5.41 20z\"/>\n",
              "  </svg>\n",
              "      </button>\n",
              "      \n",
              "  <style>\n",
              "    .colab-df-container {\n",
              "      display:flex;\n",
              "      flex-wrap:wrap;\n",
              "      gap: 12px;\n",
              "    }\n",
              "\n",
              "    .colab-df-convert {\n",
              "      background-color: #E8F0FE;\n",
              "      border: none;\n",
              "      border-radius: 50%;\n",
              "      cursor: pointer;\n",
              "      display: none;\n",
              "      fill: #1967D2;\n",
              "      height: 32px;\n",
              "      padding: 0 0 0 0;\n",
              "      width: 32px;\n",
              "    }\n",
              "\n",
              "    .colab-df-convert:hover {\n",
              "      background-color: #E2EBFA;\n",
              "      box-shadow: 0px 1px 2px rgba(60, 64, 67, 0.3), 0px 1px 3px 1px rgba(60, 64, 67, 0.15);\n",
              "      fill: #174EA6;\n",
              "    }\n",
              "\n",
              "    [theme=dark] .colab-df-convert {\n",
              "      background-color: #3B4455;\n",
              "      fill: #D2E3FC;\n",
              "    }\n",
              "\n",
              "    [theme=dark] .colab-df-convert:hover {\n",
              "      background-color: #434B5C;\n",
              "      box-shadow: 0px 1px 3px 1px rgba(0, 0, 0, 0.15);\n",
              "      filter: drop-shadow(0px 1px 2px rgba(0, 0, 0, 0.3));\n",
              "      fill: #FFFFFF;\n",
              "    }\n",
              "  </style>\n",
              "\n",
              "      <script>\n",
              "        const buttonEl =\n",
              "          document.querySelector('#df-d238f563-7118-4c07-860e-e9abfb4e3731 button.colab-df-convert');\n",
              "        buttonEl.style.display =\n",
              "          google.colab.kernel.accessAllowed ? 'block' : 'none';\n",
              "\n",
              "        async function convertToInteractive(key) {\n",
              "          const element = document.querySelector('#df-d238f563-7118-4c07-860e-e9abfb4e3731');\n",
              "          const dataTable =\n",
              "            await google.colab.kernel.invokeFunction('convertToInteractive',\n",
              "                                                     [key], {});\n",
              "          if (!dataTable) return;\n",
              "\n",
              "          const docLinkHtml = 'Like what you see? Visit the ' +\n",
              "            '<a target=\"_blank\" href=https://colab.research.google.com/notebooks/data_table.ipynb>data table notebook</a>'\n",
              "            + ' to learn more about interactive tables.';\n",
              "          element.innerHTML = '';\n",
              "          dataTable['output_type'] = 'display_data';\n",
              "          await google.colab.output.renderOutput(dataTable, element);\n",
              "          const docLink = document.createElement('div');\n",
              "          docLink.innerHTML = docLinkHtml;\n",
              "          element.appendChild(docLink);\n",
              "        }\n",
              "      </script>\n",
              "    </div>\n",
              "  </div>\n",
              "  "
            ],
            "text/plain": [
              "                New Weights 1             New Weights 2 New Weights 3\n",
              "0  [[1.0, -1.0], [-1.0, 1.0]]  [[1.0, 2.0], [2.0, 1.0]]   [-0.9, 0.9]"
            ]
          },
          "metadata": {},
          "execution_count": 58
        }
      ]
    },
    {
      "cell_type": "markdown",
      "source": [
        "The updated weights of the MLP as shown above were displayed using a dataframe."
      ],
      "metadata": {
        "id": "WhL-mrkTEyji"
      }
    }
  ]
}
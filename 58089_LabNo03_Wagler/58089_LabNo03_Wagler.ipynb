{
  "nbformat": 4,
  "nbformat_minor": 0,
  "metadata": {
    "colab": {
      "name": "58089_LabNo03_Wagler.ipynb",
      "provenance": [],
      "include_colab_link": true
    },
    "kernelspec": {
      "name": "python3",
      "display_name": "Python 3"
    },
    "language_info": {
      "name": "python"
    }
  },
  "cells": [
    {
      "cell_type": "markdown",
      "metadata": {
        "id": "view-in-github",
        "colab_type": "text"
      },
      "source": [
        "<a href=\"https://colab.research.google.com/github/Nikkuchan/CpE-AIML/blob/main/58089_LabNo03_Wagler/58089_LabNo03_Wagler.ipynb\" target=\"_parent\"><img src=\"https://colab.research.google.com/assets/colab-badge.svg\" alt=\"Open In Colab\"/></a>"
      ]
    },
    {
      "cell_type": "markdown",
      "metadata": {
        "id": "MpJlDXlItfea"
      },
      "source": [
        "# Topic 4 Lab 1: Simple Linear Regression\n",
        "$_{\\text{©D.J. Lopez | 2021 | Fundamentals of Machine Learning}}$"
      ]
    },
    {
      "cell_type": "markdown",
      "metadata": {
        "id": "NxfvdPKXt9CA"
      },
      "source": [
        "Create a class named `LinearRegression_Simple()` wherein it can compute for the linear regression for a single variable. The class will be required to have the following helper methods:\n",
        "> 1. `covariance(vectA, vectB)`\n",
        ">> input: 2 single-dimension vectors\n",
        ">>\n",
        ">> output: the covariance between the two input vectors (scalar) \n",
        "> 2. `pearsons_R(vectA, vectB)`\n",
        ">> input: 2 single-dimension vectors\n",
        ">>\n",
        ">> output: the correlation between the two input vectors (scalar)\n",
        "> 3. `train(X, y)`\n",
        ">> input: 2 single-dimension vectors\n",
        ">>\n",
        ">> output: the weights of the linear regressor.\n",
        "> 4. `predict(x)`\n",
        ">> input: A testing vector. *Note*: this function should accept both scalar and vector values.\n",
        ">>\n",
        ">> output: the predicted value. Note: the procedure in solving for the predicted value should be vectorized. Use the concept of matrix multiplication.\n",
        "> 5. `evaluate()`\n",
        ">> input: \n",
        ">>\n",
        ">> output: a `dictionary` that displays the SST, SSR, SST, MSE, RMSE, R-squared, and the Adjusted R-squared of the model. Note: You should use the `predict()` method here.\n",
        "> 5. `visualize()`\n",
        ">> input: *none*\n",
        ">>\n",
        ">> output: a visualization of the linear regressor over the input dataset. It should be saved as a .jpg file into the running notebook with a dpi of 400."
      ]
    },
    {
      "cell_type": "code",
      "metadata": {
        "id": "HJ5d9yB8x4y5"
      },
      "source": [
        "import numpy as np\n",
        "import matplotlib.pyplot as plt\n",
        "## No other packages or libraries can be added in this cell"
      ],
      "execution_count": 143,
      "outputs": []
    },
    {
      "cell_type": "code",
      "metadata": {
        "id": "0UVg9Zo6td0j"
      },
      "source": [
        "### YOUR CODE HERE\n",
        "class LinearRegression_Simple():\n",
        " \n",
        "  ## Coding covariances\n",
        "  def covariance(self,vectA,vectB):\n",
        "    covariance = np.round(np.cov(vectA,vectB),2)\n",
        "    return covariance[0,1]\n",
        "\n",
        "  ## Coding Pearsons Correlation\n",
        "  def pearsons_r(self,vectA,vectB):\n",
        "    R = np.round(np.corrcoef(vectA,vectB)[0,1],3)\n",
        "    return R\n",
        "  \n",
        "  ## Coding the Weights of the Linear Regression\n",
        "  def train(self,X,y):\n",
        "    # compute for the std.dev of X and y\n",
        "    std_X, std_y = np.std(X), np.std(y)\n",
        "    # compute for Pearson's R\n",
        "    rho = np.corrcoef(X,y)[0,1]\n",
        "    # compute for the weights of the bias term\n",
        "    w1 = rho*(std_y/std_X)\n",
        "    # compute for the weights of the feature\n",
        "    w0 = y.mean()-w1*X.mean()\n",
        "    rndwt = np.round((w1,w0),2)\n",
        "    return rndwt\n",
        "\n",
        "  # passing the train method to model_ method\n",
        "  def __init__(self):\n",
        "    self.model_ = self.train(X,y)\n",
        "\n",
        "  ## Getting the Predicted Value  \n",
        "  def predict(self,x):\n",
        "    std_X, std_y = np.std(X), np.std(y) # compute for the std.dev of X and y\n",
        "    rho = np.corrcoef(X,y)[0,1]         # compute for Pearson's R\n",
        "    w1 = rho*(std_y/std_X)              # compute for the weights of the bias term\n",
        "    w0 = y.mean()-w1*X.mean()           # compute for the weights of the feature\n",
        "    preds = np.round(np.array(w0+w1*x),2)\n",
        "    return preds.reshape(-1,1)\n",
        "\n",
        "  ## Metrics for test 6\n",
        "  def evaluate(self):\n",
        "    n = y.size\n",
        "    n_X = X.size\n",
        "    k = 1\n",
        "    y_hat = self.predict(X).reshape(1,n_X)\n",
        "    sst = np.sum(np.square(y-y.mean()))     #Sum of Squares Total\n",
        "    ssr = np.sum(np.square(y_hat-y.mean())) #Sum of Squares Regression\n",
        "    sse = np.sum(np.square(y_hat-y))        #Sum of Squares Error\n",
        "    mse = np.mean(np.square(y_hat-y))       #Mean of Squared Error\n",
        "    rmse = np.sqrt(mse)                     #Root Mean Squared Error\n",
        "    r2 = (1-(sse/sst))                      #R-squared\n",
        "    ar2 = (1-((1-r2)*(n-1)/(n-k-1)))        #Adjusted R-squared\n",
        "    dictionary = {'Sum of Squares Total      [SST] ': [sst],\n",
        "                  'Sum of Squares Regression [SSR] ': [ssr],\n",
        "                  'Sum of Squares Error      [SSE] ': [sse],\n",
        "                  'Mean of Squared Error     [MSE] ': [mse],\n",
        "                  'Root Mean Squared Error   [RMSE]': [rmse],\n",
        "                  'R-squared                 [R²]  ': [r2],\n",
        "                  'Adjusted R-squared        [AR²] ': [ar2]}\n",
        "    return dictionary\n",
        "\n",
        "  ### You may add other helper functions in to make your code cleaner"
      ],
      "execution_count": 145,
      "outputs": []
    },
    {
      "cell_type": "code",
      "metadata": {
        "id": "WfpcPrkYxXJJ"
      },
      "source": [
        "### Testing Data\n",
        "### DO NOT DELETE NOR MODIFY THIS CELL\n",
        "\n",
        "np.random.seed(123)\n",
        "X = np.arange(0,100,1,dtype=np.float64) ## features\n",
        "m = np.random.uniform(0.3,0.8,(100,)) ## weights\n",
        "b = np.random.uniform(8,10,(100,)) ## biases\n",
        "y = -m*X-b  ## targets\n",
        "X_test = np.arange(100,300,1,dtype=np.float64)"
      ],
      "execution_count": 146,
      "outputs": []
    },
    {
      "cell_type": "code",
      "metadata": {
        "id": "04QWyv34xQMK"
      },
      "source": [
        "## TEST #1 (Max pts: 5)\n",
        "## DO NOT DELETE NOR MODIFY THIS CELL\n",
        "regressor = LinearRegression_Simple()"
      ],
      "execution_count": 147,
      "outputs": []
    },
    {
      "cell_type": "code",
      "metadata": {
        "id": "UUkoBEMryVvx",
        "colab": {
          "base_uri": "https://localhost:8080/"
        },
        "outputId": "25b24b14-99d3-4b43-a293-c90e49f976c4"
      },
      "source": [
        "## TEST #2 (Max pts: 5)\n",
        "## DO NOT DELETE NOR MODIFY THIS CELL\n",
        "cov = regressor.covariance(X,y)\n",
        "cov"
      ],
      "execution_count": 148,
      "outputs": [
        {
          "output_type": "execute_result",
          "data": {
            "text/plain": [
              "-456.66"
            ]
          },
          "metadata": {},
          "execution_count": 148
        }
      ]
    },
    {
      "cell_type": "markdown",
      "metadata": {
        "id": "juJUyR5zye-x"
      },
      "source": [
        "Expected output value:\n",
        "$$cov_{x,y} = -456.66$$"
      ]
    },
    {
      "cell_type": "code",
      "metadata": {
        "id": "jN1SaeSUyt7I",
        "colab": {
          "base_uri": "https://localhost:8080/"
        },
        "outputId": "dcd93eb5-fb82-4050-a751-a3e3137bd988"
      },
      "source": [
        "## TEST #3 (Max pts: 10)\n",
        "## DO NOT DELETE NOR MODIFY THIS CELL\n",
        "r = regressor.pearsons_r(X,y)\n",
        "r"
      ],
      "execution_count": 149,
      "outputs": [
        {
          "output_type": "execute_result",
          "data": {
            "text/plain": [
              "-0.905"
            ]
          },
          "metadata": {},
          "execution_count": 149
        }
      ]
    },
    {
      "cell_type": "markdown",
      "metadata": {
        "id": "Q3vAJZWAzBmZ"
      },
      "source": [
        "Expected output value:\n",
        "$$r = -0.90$$"
      ]
    },
    {
      "cell_type": "code",
      "metadata": {
        "id": "SFDJhUNnzUGh",
        "colab": {
          "base_uri": "https://localhost:8080/"
        },
        "outputId": "b7bd745b-1a5a-4882-ec85-292c0578b2ac"
      },
      "source": [
        "## TEST #4 (Max pts: 15)\n",
        "## DO NOT DELETE NOR MODIFY THIS CELL\n",
        "regressor.train(X,y)\n",
        "regressor.model_"
      ],
      "execution_count": 150,
      "outputs": [
        {
          "output_type": "execute_result",
          "data": {
            "text/plain": [
              "array([-0.54, -9.38])"
            ]
          },
          "metadata": {},
          "execution_count": 150
        }
      ]
    },
    {
      "cell_type": "markdown",
      "metadata": {
        "id": "-e-WrFSG0Y1Z"
      },
      "source": [
        "Expected output value:\n",
        "$$\\omega = \\begin{bmatrix}\\omega_1 \\\\ \\omega_0\\end{bmatrix} = \\begin{bmatrix}-0.54  -9.38\\end{bmatrix}$$"
      ]
    },
    {
      "cell_type": "code",
      "metadata": {
        "id": "xYiwOjWD2I18",
        "colab": {
          "base_uri": "https://localhost:8080/"
        },
        "outputId": "9f485651-d386-4a77-b18a-aa41e7e7cd93"
      },
      "source": [
        "## TEST #5 (Max pts: 25)\n",
        "## DO NOT DELETE NOR MODIFY THIS CELL\n",
        "preds = regressor.predict(X_test[:5])\n",
        "preds"
      ],
      "execution_count": 151,
      "outputs": [
        {
          "output_type": "execute_result",
          "data": {
            "text/plain": [
              "array([[-63.64],\n",
              "       [-64.18],\n",
              "       [-64.72],\n",
              "       [-65.26],\n",
              "       [-65.81]])"
            ]
          },
          "metadata": {},
          "execution_count": 151
        }
      ]
    },
    {
      "cell_type": "markdown",
      "metadata": {
        "id": "oozhSInd2esS"
      },
      "source": [
        "Expected output value:\n",
        "$$\\hat{y}_i = \\begin{bmatrix} -63.64 \\\\ -64.18 \\\\ -64.72 \\\\ -65.26 \\\\ -65.81 \\end{bmatrix}, i = \\{0,1,2,3,4\\}$$"
      ]
    },
    {
      "cell_type": "code",
      "metadata": {
        "id": "l2CTjl1805Cq",
        "colab": {
          "base_uri": "https://localhost:8080/"
        },
        "outputId": "72fe2f6f-22cd-4364-b16e-6c8775c3f322"
      },
      "source": [
        "## TEST #6 (Max pts: 30)\n",
        "## DO NOT DELETE NOR MODIFY THIS CELL\n",
        "model_stats = regressor.evaluate()\n",
        "model_stats"
      ],
      "execution_count": null,
      "outputs": [
        {
          "output_type": "execute_result",
          "data": {
            "text/plain": [
              "{'Adjusted R-squared        [AR²] ': [0.8173253162992968],\n",
              " 'Mean of Squared Error     [MSE] ': [54.14797548090916],\n",
              " 'R-squared                 [R²]  ': [0.8191705151245564],\n",
              " 'Root Mean Squared Error   [RMSE]': [7.358530796355286],\n",
              " 'Sum of Squares Error      [SSE] ': [5414.797548090916],\n",
              " 'Sum of Squares Regression [SSR] ': [24529.42062971709],\n",
              " 'Sum of Squares Total      [SST] ': [29944.21817780801]}"
            ]
          },
          "metadata": {},
          "execution_count": 124
        }
      ]
    },
    {
      "cell_type": "code",
      "metadata": {
        "id": "oH5K49uT00CB"
      },
      "source": [
        "## TEST #7 (Max pts: 10)\n",
        "## DO NOT DELETE NOR MODIFY THIS CELL\n",
        "regressor.visualize()"
      ],
      "execution_count": null,
      "outputs": []
    }
  ]
}
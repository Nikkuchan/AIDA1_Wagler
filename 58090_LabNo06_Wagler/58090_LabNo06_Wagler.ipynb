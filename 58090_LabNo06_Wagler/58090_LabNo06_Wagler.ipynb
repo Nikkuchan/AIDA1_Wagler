{
  "nbformat": 4,
  "nbformat_minor": 0,
  "metadata": {
    "colab": {
      "name": "58090_LabNo06_Wagler.ipynb",
      "provenance": [],
      "include_colab_link": true
    },
    "kernelspec": {
      "name": "python3",
      "display_name": "Python 3"
    },
    "language_info": {
      "name": "python"
    }
  },
  "cells": [
    {
      "cell_type": "markdown",
      "metadata": {
        "id": "view-in-github",
        "colab_type": "text"
      },
      "source": [
        "<a href=\"https://colab.research.google.com/github/Nikkuchan/CpE-AIML/blob/main/58090_LabNo06_Wagler/58090_LabNo06_Wagler.ipynb\" target=\"_parent\"><img src=\"https://colab.research.google.com/assets/colab-badge.svg\" alt=\"Open In Colab\"/></a>"
      ]
    },
    {
      "cell_type": "markdown",
      "metadata": {
        "id": "GDPzQ-B7jlCr"
      },
      "source": [
        "# Topic 05.2: Perceptrons, Gradient Descent, and Backpropagation\n",
        "$_{\\text{©D.J. Lopez | 2021 | Fundamentals of Machine Learning}}$\n",
        "\n"
      ]
    },
    {
      "cell_type": "markdown",
      "metadata": {
        "id": "c6PM0SLUkk4q"
      },
      "source": [
        "## Laboratory Activity\n",
        "1. For the laboratory activity, obtain a dataset of your liking from a data source. Explain the purpose of the dataset and mention any publication if it is obtained from the source. Provide a needs statement and significance for the dataset.\n",
        "\n",
        "2. Identify an algorithm or method in performing a single or multiple variable classification using the Perceptron alogrithm. \n",
        "\n",
        "3. You must re-create your Perceptron algorithm with Gradient Descent and Backpropagation using your own code in a separate Google Colab. However, you are required to observe the following:\n",
        "\n",
        ">* Enforce object-oriented programming by implementing at least two of the pillars of OOP in the entirety of the solution.\n",
        "* Dedicated functions for training, predicting, and evaluating the solution.\n",
        "* A DataFrame of the metrics of the solution\n",
        "* A visualization of the solution’s results.\n"
      ]
    },
    {
      "cell_type": "markdown",
      "source": [
        "NOTES: https://github.com/dyjdlopez/fund-of-aiml/blob/main/activities/05%20-%20Classification/fund_aiml_05v1_lec2_2021.ipynb \n"
      ],
      "metadata": {
        "id": "nXx_yBli7OhR"
      }
    },
    {
      "cell_type": "markdown",
      "source": [
        "### **Purpose of the Dataset**"
      ],
      "metadata": {
        "id": "T-nTJ2l2-EZh"
      }
    },
    {
      "cell_type": "markdown",
      "source": [
        "The dataset uploaded by Caner Dabakoglu in Kaggle in 2019 aims to classify if patients have heart disease or not according to the features presented on the dataset. The purpose of this dataset is to try to predict if a patient has heart disease or not"
      ],
      "metadata": {
        "id": "PxS-NsUf-H9n"
      }
    },
    {
      "cell_type": "markdown",
      "source": [
        "### **Needs statement**"
      ],
      "metadata": {
        "id": "cn-Ekj-x-KtO"
      }
    },
    {
      "cell_type": "markdown",
      "source": [
        "There are many factors to that come into play when knowing if patients have heart disease or not. Some risk factors cannot be controlled such as the age and family history. But there are also factors that can increase the likelihood of getting a heart disease e.g. High Blood Pressure and High Cholesterol. Knowing these conditions will help them know if they have a high chance of getting one. Predicting the likelihood of it happening can help them take the necessary steps in lowering the risks by changing certain factors that can be controlled in their lifestyle."
      ],
      "metadata": {
        "id": "3nqrtYs5-OBW"
      }
    },
    {
      "cell_type": "markdown",
      "source": [
        "### **Significance**"
      ],
      "metadata": {
        "id": "lc4FDGNf-Om6"
      }
    },
    {
      "cell_type": "markdown",
      "source": [
        "The significance of this dataset is to know if a person has heart disease or not. Knowing early on if a patient is prone to heart disease can help with stopping or mitigating the problems that the heart disease can cause. Heart disease is rampant in Americans wherein almost half of the population (47%) have at least 1 risk factors for heart disease such as high cholesterol, high blood pressure, and smoking."
      ],
      "metadata": {
        "id": "YhXa1kLO-U-h"
      }
    },
    {
      "cell_type": "code",
      "source": [
        "import numpy as np\n",
        "import pandas as pd\n",
        "import matplotlib.pyplot as plt\n",
        "import seaborn as sns\n",
        "import math\n",
        "from sklearn.linear_model import LogisticRegression\n",
        "from sklearn.model_selection import train_test_split\n",
        "from sklearn.metrics import confusion_matrix\n",
        "import os"
      ],
      "metadata": {
        "id": "aaBGIo4G7aaW"
      },
      "execution_count": null,
      "outputs": []
    },
    {
      "cell_type": "code",
      "source": [
        "heartDisease = pd.read_csv(\"/content/heart_disease.csv\")\n",
        "y = heartDisease.target.values\n",
        "x_data = heartDisease.drop(['target'], axis = 1)"
      ],
      "metadata": {
        "id": "KNb2oS5L2YMR"
      },
      "execution_count": null,
      "outputs": []
    },
    {
      "cell_type": "code",
      "source": [
        "x = (x_data - np.min(x_data)) / (np.max(x_data) - np.min(x_data)).values\n",
        "x_train, x_test, y_train, y_test = train_test_split(x,y,test_size = 0.2,random_state=0)\n",
        "x_train,y_train  = x_train.T,y_train.T\n",
        "x_test,y_test = x_test.T,y_test.T"
      ],
      "metadata": {
        "id": "wJAZqYkR6DaI"
      },
      "execution_count": null,
      "outputs": []
    },
    {
      "cell_type": "code",
      "source": [
        "def initialize(dimension):\n",
        "    weight = np.full((dimension,1),0.01)\n",
        "    bias = 0.0\n",
        "    return weight,bias"
      ],
      "metadata": {
        "id": "ju9fsPO_rLu1"
      },
      "execution_count": null,
      "outputs": []
    },
    {
      "cell_type": "code",
      "source": [
        "def sigmoid(z):  \n",
        "  sig = 1/(1+ np.exp(-z))\n",
        "  return sig"
      ],
      "metadata": {
        "id": "7wY329qVj_hl"
      },
      "execution_count": null,
      "outputs": []
    },
    {
      "cell_type": "code",
      "source": [
        "def propagation(weight,bias,x_train,y_train):\n",
        "    # FORWARD PROPAGATION \n",
        "    sig = sigmoid(np.dot(weight.T,x_train) + bias) \n",
        "    loss = -(y_train*np.log(sig) + (1-y_train)*np.log(1-sig))\n",
        "    cost = np.sum(loss) / x_train.shape[1]\n",
        "    # BACKWARD PROPAGATION\n",
        "    dw = np.dot(x_train,((sig-y_train).T))/x_train.shape[1]\n",
        "    db = np.sum(sig-y_train)/x_train.shape[1]\n",
        "    grads = {\"Derivative Weight\" : dw,\n",
        "             \"Derivative Bias\" : db}\n",
        "    return cost,grads"
      ],
      "metadata": {
        "id": "ydaqDcufrS0-"
      },
      "execution_count": null,
      "outputs": []
    },
    {
      "cell_type": "code",
      "source": [
        "def optimize(weight,bias,x_train,y_train,learningRate,iteration, print_cost = True) :\n",
        "    costs = []\n",
        "    index = []\n",
        "    \n",
        "    for i in range(iteration):\n",
        "        # Cost and gradient calculation \n",
        "        cost,grads = propagation(weight,bias,x_train,y_train)\n",
        "        # Retrieve derivatives from grads\n",
        "        weight = weight - learningRate * grads[\"Derivative Weight\"]   \n",
        "        bias = bias - learningRate * grads[\"Derivative Bias\"]\n",
        "        costs.append(cost)\n",
        "        index.append(i)\n",
        "\n",
        "        if print_cost and i % 10 == 0:\n",
        "            print (\"Cost after iteration %i: %f\" %(i, cost))\n",
        "\n",
        "    parameters = {\"weight\": weight,\"bias\": bias}\n",
        "    \n",
        "    print(\"iteration:\",iteration)\n",
        "    print(\"cost:\",cost)\n",
        "\n",
        "    plt.plot(index,costs)\n",
        "    plt.xlabel(\"Number of Iteration\")\n",
        "    plt.ylabel(\"Cost\")\n",
        "    plt.show()\n",
        "\n",
        "    return parameters, grads"
      ],
      "metadata": {
        "id": "eiHPy9l1raXF"
      },
      "execution_count": null,
      "outputs": []
    },
    {
      "cell_type": "code",
      "source": [
        "def predict(weight,bias,x_test):\n",
        "    z = np.dot(weight.T,x_test) + bias\n",
        "    sig = sigmoid(z)\n",
        "    preds = np.zeros((1,x_test.shape[1]))\n",
        "    for i in range(sig.shape[1]):\n",
        "        if sig[0,i] <= 0.5:\n",
        "            preds[0,i] = 0\n",
        "        else:\n",
        "            preds[0,i] = 1\n",
        "    return preds"
      ],
      "metadata": {
        "id": "bUuWFgaOrlNh"
      },
      "execution_count": null,
      "outputs": []
    },
    {
      "cell_type": "code",
      "source": [
        "def model(x_train,y_train,x_test,y_test,learningRate,iteration):\n",
        "    dimension = x_train.shape[0]\n",
        "    weight,bias = initialize(dimension)\n",
        "    parameters, gradients = optimize(weight,bias,x_train,y_train,learningRate,iteration)\n",
        "    predsTrain = predict(parameters[\"weight\"],parameters[\"bias\"],x_train)\n",
        "    predsTest = predict(parameters[\"weight\"],parameters[\"bias\"],x_test)\n",
        "    print(\" Train Accuracy: {:.2f}%\".format((100 - np.mean(np.abs(predsTrain - y_train))*100)))\n",
        "    print(\" Test Accuracy: {:.2f}%\".format((100 - np.mean(np.abs(predsTest - y_test))*100)))\n",
        "    "
      ],
      "metadata": {
        "id": "Wb56ZOOgrmNi"
      },
      "execution_count": null,
      "outputs": []
    },
    {
      "cell_type": "code",
      "source": [
        "neuronModel = model(x_train,y_train,x_test,y_test,1,300)"
      ],
      "metadata": {
        "colab": {
          "base_uri": "https://localhost:8080/",
          "height": 869
        },
        "id": "4eA5ZlzBrpH-",
        "outputId": "d61853d3-74f5-4f82-9677-07d1c9e937e6"
      },
      "execution_count": null,
      "outputs": [
        {
          "output_type": "stream",
          "name": "stdout",
          "text": [
            "Cost after iteration 0: 0.694856\n",
            "Cost after iteration 10: 0.382520\n",
            "Cost after iteration 20: 0.329160\n",
            "Cost after iteration 30: 0.297433\n",
            "Cost after iteration 40: 0.273495\n",
            "Cost after iteration 50: 0.254232\n",
            "Cost after iteration 60: 0.238306\n",
            "Cost after iteration 70: 0.224908\n",
            "Cost after iteration 80: 0.213476\n",
            "Cost after iteration 90: 0.203598\n",
            "Cost after iteration 100: 0.194966\n",
            "Cost after iteration 110: 0.187347\n",
            "Cost after iteration 120: 0.180559\n",
            "Cost after iteration 130: 0.174463\n",
            "Cost after iteration 140: 0.168948\n",
            "Cost after iteration 150: 0.163926\n",
            "Cost after iteration 160: 0.159326\n",
            "Cost after iteration 170: 0.155091\n",
            "Cost after iteration 180: 0.151173\n",
            "Cost after iteration 190: 0.147534\n",
            "Cost after iteration 200: 0.144140\n",
            "Cost after iteration 210: 0.140964\n",
            "Cost after iteration 220: 0.137982\n",
            "Cost after iteration 230: 0.135176\n",
            "Cost after iteration 240: 0.132527\n",
            "Cost after iteration 250: 0.130021\n",
            "Cost after iteration 260: 0.127645\n",
            "Cost after iteration 270: 0.125388\n",
            "Cost after iteration 280: 0.123240\n",
            "Cost after iteration 290: 0.121192\n",
            "iteration: 300\n",
            "cost: 0.11942761499726073\n"
          ]
        },
        {
          "output_type": "display_data",
          "data": {
            "image/png": "[encoded data removed]",
            "text/plain": [
              "<Figure size 432x288 with 1 Axes>"
            ]
          },
          "metadata": {
            "needs_background": "light"
          }
        },
        {
          "output_type": "stream",
          "name": "stdout",
          "text": [
            " Train Accuracy: 96.28%\n",
            " Test Accuracy: 98.36%\n"
          ]
        }
      ]
    },
    {
      "cell_type": "code",
      "source": [
        "logiReg = LogisticRegression()\n",
        "logiReg.fit(x_train.T,y_train.T)\n",
        "sigmoid_lr = logiReg.predict(x_test.T)\n",
        "c_matrix = confusion_matrix(y_test,sigmoid_lr)\n",
        "sns.heatmap(c_matrix,annot=True,cmap=\"inferno\")\n",
        "plt.xlabel(\"Ground Truths\")\n",
        "plt.ylabel(\"Predicted\")\n",
        "plt.title(\"Confusion Matrix\")"
      ],
      "metadata": {
        "colab": {
          "base_uri": "https://localhost:8080/",
          "height": 312
        },
        "id": "GHWIQbfjzcrL",
        "outputId": "d6b9630a-2e9b-475a-c6e5-215b7d714022"
      },
      "execution_count": null,
      "outputs": [
        {
          "output_type": "execute_result",
          "data": {
            "text/plain": [
              "Text(0.5, 1.0, 'Confusion Matrix')"
            ]
          },
          "metadata": {},
          "execution_count": 11
        },
        {
          "output_type": "display_data",
          "data": {
            "image/png": "[encoded data removed]",
            "text/plain": [
              "<Figure size 432x288 with 2 Axes>"
            ]
          },
          "metadata": {
            "needs_background": "light"
          }
        }
      ]
    },
    {
      "cell_type": "code",
      "source": [
        ""
      ],
      "metadata": {
        "id": "hDI3HK3z28NM"
      },
      "execution_count": null,
      "outputs": []
    }
  ]
}
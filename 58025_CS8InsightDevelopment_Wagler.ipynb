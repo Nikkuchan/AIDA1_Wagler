{
  "nbformat": 4,
  "nbformat_minor": 0,
  "metadata": {
    "colab": {
      "name": "58025_CS8InsightDevelopment_Wagler.ipynb",
      "provenance": [],
      "toc_visible": true,
      "include_colab_link": true
    },
    "kernelspec": {
      "name": "python3",
      "display_name": "Python 3"
    },
    "language_info": {
      "name": "python"
    }
  },
  "cells": [
    {
      "cell_type": "markdown",
      "metadata": {
        "id": "view-in-github",
        "colab_type": "text"
      },
      "source": [
        "<a href=\"https://colab.research.google.com/github/Nikkuchan/AIDA-Group8/blob/main/58025_CS8InsightDevelopment_Wagler.ipynb\" target=\"_parent\"><img src=\"https://colab.research.google.com/assets/colab-badge.svg\" alt=\"Open In Colab\"/></a>"
      ]
    },
    {
      "cell_type": "code",
      "metadata": {
        "id": "Py78apLapWmh"
      },
      "source": [
        "import pandas as pd\n",
        "import matplotlib.pyplot as plt\n",
        "import seaborn as sns\n",
        "import numpy as np"
      ],
      "execution_count": 12,
      "outputs": []
    },
    {
      "cell_type": "code",
      "metadata": {
        "id": "fnsxO6zqpfyW"
      },
      "source": [
        "gamers_perspective_df = pd.read_csv(\"Gamers_Perspective.csv\")"
      ],
      "execution_count": 13,
      "outputs": []
    },
    {
      "cell_type": "code",
      "metadata": {
        "id": "gZRIz_THHWd_"
      },
      "source": [
        "gamers_perspective_df"
      ],
      "execution_count": null,
      "outputs": []
    },
    {
      "cell_type": "code",
      "metadata": {
        "colab": {
          "base_uri": "https://localhost:8080/",
          "height": 717
        },
        "id": "PvMRpfnS6oTS",
        "outputId": "39585bc3-42c5-427c-86e7-4661c2dd70b5"
      },
      "source": [
        "gamers_perspective_df.head(5)"
      ],
      "execution_count": 15,
      "outputs": [
        {
          "output_type": "execute_result",
          "data": {
            "text/html": [
              "<div>\n",
              "<style scoped>\n",
              "    .dataframe tbody tr th:only-of-type {\n",
              "        vertical-align: middle;\n",
              "    }\n",
              "\n",
              "    .dataframe tbody tr th {\n",
              "        vertical-align: top;\n",
              "    }\n",
              "\n",
              "    .dataframe thead th {\n",
              "        text-align: right;\n",
              "    }\n",
              "</style>\n",
              "<table border=\"1\" class=\"dataframe\">\n",
              "  <thead>\n",
              "    <tr style=\"text-align: right;\">\n",
              "      <th></th>\n",
              "      <th>Timestamp</th>\n",
              "      <th>The use of this survey is clear to me and I give my consent for handling my data.</th>\n",
              "      <th>Name</th>\n",
              "      <th>Age</th>\n",
              "      <th>Gender</th>\n",
              "      <th>1. How often do you play online games?</th>\n",
              "      <th>2. Have you experienced being trash talked by other players while playing online games?</th>\n",
              "      <th>3. If you answered yes in no. 2, what do you usually feel when being trash talked by someone? (select all that apply)</th>\n",
              "      <th>4. If you answered yes in no.2, what action(s) do you usually take?</th>\n",
              "      <th>5. If you answered yes in no. 2, did any of your in-game trash talking experience escalate to a physical fight?</th>\n",
              "      <th>6. Have you ever trash talked someone while playing online games?</th>\n",
              "      <th>7. If you answered yes in no.6, what are your reasons for doing so? (Select all that apply)</th>\n",
              "      <th>Whenever a teammate is playing poorly, you tend to call them names or curse at them out of frustration.</th>\n",
              "      <th>Trash talking among players is an essential part of multiplayer gaming culture.</th>\n",
              "      <th>Trash talking gives thrill and excitement to the players during the game.</th>\n",
              "      <th>Trash talking influences the way you act towards other people.</th>\n",
              "      <th>Trash talking can be considered as a form of strategy or gaming tactics.</th>\n",
              "      <th>Trash talking competitor players provides a sense of power and freedom</th>\n",
              "      <th>Trash talking in online games is a form of harassment</th>\n",
              "      <th>Trash talking can be both friendly and toxic.</th>\n",
              "      <th>Trash talking in online game is just another form of showing competitiveness.</th>\n",
              "      <th>Receiving trash talks from other players can negatively affect one’s gaming performance.</th>\n",
              "    </tr>\n",
              "  </thead>\n",
              "  <tbody>\n",
              "    <tr>\n",
              "      <th>0</th>\n",
              "      <td>2021/04/28 12:47:21 AM GMT+8</td>\n",
              "      <td>Yes</td>\n",
              "      <td>Jasmine Clare B. Padilla</td>\n",
              "      <td>22</td>\n",
              "      <td>Female</td>\n",
              "      <td>Yes</td>\n",
              "      <td>Yes</td>\n",
              "      <td>Angry;Disheartened;Embarrassed;Entertained</td>\n",
              "      <td>Trash talk back to that player;Laugh at it</td>\n",
              "      <td>No</td>\n",
              "      <td>No</td>\n",
              "      <td>NaN</td>\n",
              "      <td>4</td>\n",
              "      <td>2</td>\n",
              "      <td>2</td>\n",
              "      <td>5</td>\n",
              "      <td>2</td>\n",
              "      <td>2</td>\n",
              "      <td>2</td>\n",
              "      <td>2</td>\n",
              "      <td>2</td>\n",
              "      <td>2</td>\n",
              "    </tr>\n",
              "    <tr>\n",
              "      <th>1</th>\n",
              "      <td>2021/04/28 12:50:17 AM GMT+8</td>\n",
              "      <td>Yes</td>\n",
              "      <td>Reyes, Adrian Philipp</td>\n",
              "      <td>20</td>\n",
              "      <td>Male</td>\n",
              "      <td>Yes</td>\n",
              "      <td>Yes</td>\n",
              "      <td>Angry;Motivated;Entertained</td>\n",
              "      <td>Ignore it;Report the player;Trash talk back to...</td>\n",
              "      <td>No</td>\n",
              "      <td>Yes</td>\n",
              "      <td>Annoyed by someone’s poor gaming performance;T...</td>\n",
              "      <td>2</td>\n",
              "      <td>1</td>\n",
              "      <td>1</td>\n",
              "      <td>2</td>\n",
              "      <td>2</td>\n",
              "      <td>2</td>\n",
              "      <td>1</td>\n",
              "      <td>1</td>\n",
              "      <td>2</td>\n",
              "      <td>1</td>\n",
              "    </tr>\n",
              "    <tr>\n",
              "      <th>2</th>\n",
              "      <td>2021/04/28 12:57:07 AM GMT+8</td>\n",
              "      <td>Yes</td>\n",
              "      <td>ADRIAN</td>\n",
              "      <td>21</td>\n",
              "      <td>Male</td>\n",
              "      <td>Always</td>\n",
              "      <td>Yes</td>\n",
              "      <td>Entertained</td>\n",
              "      <td>NaN</td>\n",
              "      <td>No</td>\n",
              "      <td>Yes</td>\n",
              "      <td>To distract them;It heightens the fun</td>\n",
              "      <td>3</td>\n",
              "      <td>4</td>\n",
              "      <td>3</td>\n",
              "      <td>3</td>\n",
              "      <td>3</td>\n",
              "      <td>3</td>\n",
              "      <td>3</td>\n",
              "      <td>1</td>\n",
              "      <td>4</td>\n",
              "      <td>3</td>\n",
              "    </tr>\n",
              "    <tr>\n",
              "      <th>3</th>\n",
              "      <td>2021/04/28 12:57:40 AM GMT+8</td>\n",
              "      <td>Yes</td>\n",
              "      <td>Charles cordero</td>\n",
              "      <td>21</td>\n",
              "      <td>Male</td>\n",
              "      <td>Always</td>\n",
              "      <td>Yes</td>\n",
              "      <td>Motivated;Entertained</td>\n",
              "      <td>Ignore it;Report the player;Trash talk back to...</td>\n",
              "      <td>No</td>\n",
              "      <td>Yes</td>\n",
              "      <td>Annoyed by someone’s poor gaming performance;T...</td>\n",
              "      <td>3</td>\n",
              "      <td>3</td>\n",
              "      <td>5</td>\n",
              "      <td>1</td>\n",
              "      <td>2</td>\n",
              "      <td>5</td>\n",
              "      <td>1</td>\n",
              "      <td>1</td>\n",
              "      <td>5</td>\n",
              "      <td>1</td>\n",
              "    </tr>\n",
              "    <tr>\n",
              "      <th>4</th>\n",
              "      <td>2021/04/28 12:59:17 AM GMT+8</td>\n",
              "      <td>Yes</td>\n",
              "      <td>Philip Julrenz A. Pionelo</td>\n",
              "      <td>21</td>\n",
              "      <td>Male</td>\n",
              "      <td>Always</td>\n",
              "      <td>Yes</td>\n",
              "      <td>Angry;Sad;Disheartened;Embarrassed;Motivated;E...</td>\n",
              "      <td>Ignore it;Report the player;Laugh at it</td>\n",
              "      <td>NaN</td>\n",
              "      <td>No</td>\n",
              "      <td>NaN</td>\n",
              "      <td>5</td>\n",
              "      <td>4</td>\n",
              "      <td>4</td>\n",
              "      <td>1</td>\n",
              "      <td>5</td>\n",
              "      <td>5</td>\n",
              "      <td>3</td>\n",
              "      <td>3</td>\n",
              "      <td>5</td>\n",
              "      <td>2</td>\n",
              "    </tr>\n",
              "  </tbody>\n",
              "</table>\n",
              "</div>"
            ],
            "text/plain": [
              "                      Timestamp  ... Receiving trash talks from other players can negatively affect one’s gaming performance.\n",
              "0  2021/04/28 12:47:21 AM GMT+8  ...                                                  2                                      \n",
              "1  2021/04/28 12:50:17 AM GMT+8  ...                                                  1                                      \n",
              "2  2021/04/28 12:57:07 AM GMT+8  ...                                                  3                                      \n",
              "3  2021/04/28 12:57:40 AM GMT+8  ...                                                  1                                      \n",
              "4  2021/04/28 12:59:17 AM GMT+8  ...                                                  2                                      \n",
              "\n",
              "[5 rows x 22 columns]"
            ]
          },
          "metadata": {
            "tags": []
          },
          "execution_count": 15
        }
      ]
    },
    {
      "cell_type": "markdown",
      "metadata": {
        "id": "nmxfCiUhN4rH"
      },
      "source": [
        "#Cleaning of Data\n",
        "In this section, certain data might be removed or modified in order to remove irrelevant data to the study. \n",
        "\n"
      ]
    },
    {
      "cell_type": "code",
      "metadata": {
        "id": "JhXDm4z28R3R"
      },
      "source": [
        "# The researchers will be creating a back up file before changing anything to the dataset \n",
        "trashtalk_df = gamers_perspective_df.copy()"
      ],
      "execution_count": 16,
      "outputs": []
    },
    {
      "cell_type": "code",
      "metadata": {
        "id": "3itsqA_39QYb"
      },
      "source": [
        "# The first two responses came from the researchers, they suggested that question #1 should be changed. \n",
        "# Hence, the first two responses for question #1  will be modified accordingly. \n",
        "trashtalk_modify_YES = (trashtalk_df['1. How often do you play online games?'][0]) = 'Often'\n",
        "trashtalk_modify_YES2 = (trashtalk_df['1. How often do you play online games?'][1]) = 'Always'\n",
        "trashtalk_df['1. How often do you play online games?'][0] = trashtalk_modify_YES\n",
        "trashtalk_df['1. How often do you play online games?'][1] = trashtalk_modify_YES2"
      ],
      "execution_count": null,
      "outputs": []
    },
    {
      "cell_type": "code",
      "metadata": {
        "id": "aFpAasSpAc03"
      },
      "source": [
        "# The first and second coulmn was removed [Timestamp and the Consent form]\n",
        "trashtalk_df.drop(['Timestamp'], axis=1, inplace = True)\n",
        "trashtalk_df.drop(['The use of this survey is clear to me and I give my consent for handling my data. '], axis=1,inplace = True)"
      ],
      "execution_count": 18,
      "outputs": []
    },
    {
      "cell_type": "code",
      "metadata": {
        "id": "LUViYq9LNYr1",
        "colab": {
          "base_uri": "https://localhost:8080/",
          "height": 372
        },
        "outputId": "dfa4f566-eef0-4342-851d-d7e9c123ccf7"
      },
      "source": [
        "trashtalk_df.head(1)"
      ],
      "execution_count": 19,
      "outputs": [
        {
          "output_type": "execute_result",
          "data": {
            "text/html": [
              "<div>\n",
              "<style scoped>\n",
              "    .dataframe tbody tr th:only-of-type {\n",
              "        vertical-align: middle;\n",
              "    }\n",
              "\n",
              "    .dataframe tbody tr th {\n",
              "        vertical-align: top;\n",
              "    }\n",
              "\n",
              "    .dataframe thead th {\n",
              "        text-align: right;\n",
              "    }\n",
              "</style>\n",
              "<table border=\"1\" class=\"dataframe\">\n",
              "  <thead>\n",
              "    <tr style=\"text-align: right;\">\n",
              "      <th></th>\n",
              "      <th>Name</th>\n",
              "      <th>Age</th>\n",
              "      <th>Gender</th>\n",
              "      <th>1. How often do you play online games?</th>\n",
              "      <th>2. Have you experienced being trash talked by other players while playing online games?</th>\n",
              "      <th>3. If you answered yes in no. 2, what do you usually feel when being trash talked by someone? (select all that apply)</th>\n",
              "      <th>4. If you answered yes in no.2, what action(s) do you usually take?</th>\n",
              "      <th>5. If you answered yes in no. 2, did any of your in-game trash talking experience escalate to a physical fight?</th>\n",
              "      <th>6. Have you ever trash talked someone while playing online games?</th>\n",
              "      <th>7. If you answered yes in no.6, what are your reasons for doing so? (Select all that apply)</th>\n",
              "      <th>Whenever a teammate is playing poorly, you tend to call them names or curse at them out of frustration.</th>\n",
              "      <th>Trash talking among players is an essential part of multiplayer gaming culture.</th>\n",
              "      <th>Trash talking gives thrill and excitement to the players during the game.</th>\n",
              "      <th>Trash talking influences the way you act towards other people.</th>\n",
              "      <th>Trash talking can be considered as a form of strategy or gaming tactics.</th>\n",
              "      <th>Trash talking competitor players provides a sense of power and freedom</th>\n",
              "      <th>Trash talking in online games is a form of harassment</th>\n",
              "      <th>Trash talking can be both friendly and toxic.</th>\n",
              "      <th>Trash talking in online game is just another form of showing competitiveness.</th>\n",
              "      <th>Receiving trash talks from other players can negatively affect one’s gaming performance.</th>\n",
              "    </tr>\n",
              "  </thead>\n",
              "  <tbody>\n",
              "    <tr>\n",
              "      <th>0</th>\n",
              "      <td>Jasmine Clare B. Padilla</td>\n",
              "      <td>22</td>\n",
              "      <td>Female</td>\n",
              "      <td>Often</td>\n",
              "      <td>Yes</td>\n",
              "      <td>Angry;Disheartened;Embarrassed;Entertained</td>\n",
              "      <td>Trash talk back to that player;Laugh at it</td>\n",
              "      <td>No</td>\n",
              "      <td>No</td>\n",
              "      <td>NaN</td>\n",
              "      <td>4</td>\n",
              "      <td>2</td>\n",
              "      <td>2</td>\n",
              "      <td>5</td>\n",
              "      <td>2</td>\n",
              "      <td>2</td>\n",
              "      <td>2</td>\n",
              "      <td>2</td>\n",
              "      <td>2</td>\n",
              "      <td>2</td>\n",
              "    </tr>\n",
              "  </tbody>\n",
              "</table>\n",
              "</div>"
            ],
            "text/plain": [
              "                       Name   ... Receiving trash talks from other players can negatively affect one’s gaming performance.\n",
              "0  Jasmine Clare B. Padilla   ...                                                  2                                      \n",
              "\n",
              "[1 rows x 20 columns]"
            ]
          },
          "metadata": {
            "tags": []
          },
          "execution_count": 19
        }
      ]
    },
    {
      "cell_type": "code",
      "metadata": {
        "id": "6YnhoXRyd9rn"
      },
      "source": [
        "# Removing some features that were collected using a likert scale\n",
        "trashtalk_df.drop(['Whenever a teammate is playing poorly, you tend to call them names or curse at them out of frustration.'], axis=1, inplace = True)\n",
        "trashtalk_df.drop(['Trash talking influences the way you act towards other people.'], axis=1, inplace = True)\n",
        "trashtalk_df.drop(['Trash talking in online game is just another form of showing competitiveness.'], axis=1, inplace = True)\n",
        "trashtalk_df.drop(['Trash talking competitor players provides a sense of power and freedom '], axis=1, inplace = True)"
      ],
      "execution_count": 20,
      "outputs": []
    },
    {
      "cell_type": "code",
      "metadata": {
        "colab": {
          "base_uri": "https://localhost:8080/",
          "height": 372
        },
        "id": "ADm7DM3Uf6zW",
        "outputId": "d85fcfdd-2267-42b9-e49b-dfa51388bff5"
      },
      "source": [
        "trashtalk_df.head(1)"
      ],
      "execution_count": 30,
      "outputs": [
        {
          "output_type": "execute_result",
          "data": {
            "text/html": [
              "<div>\n",
              "<style scoped>\n",
              "    .dataframe tbody tr th:only-of-type {\n",
              "        vertical-align: middle;\n",
              "    }\n",
              "\n",
              "    .dataframe tbody tr th {\n",
              "        vertical-align: top;\n",
              "    }\n",
              "\n",
              "    .dataframe thead th {\n",
              "        text-align: right;\n",
              "    }\n",
              "</style>\n",
              "<table border=\"1\" class=\"dataframe\">\n",
              "  <thead>\n",
              "    <tr style=\"text-align: right;\">\n",
              "      <th></th>\n",
              "      <th>Name</th>\n",
              "      <th>Age</th>\n",
              "      <th>Gender</th>\n",
              "      <th>1. How often do you play online games?</th>\n",
              "      <th>2. Have you experienced being trash talked by other players while playing online games?</th>\n",
              "      <th>3. If you answered yes in no. 2, what do you usually feel when being trash talked by someone? (select all that apply)</th>\n",
              "      <th>4. If you answered yes in no.2, what action(s) do you usually take?</th>\n",
              "      <th>5. If you answered yes in no. 2, did any of your in-game trash talking experience escalate to a physical fight?</th>\n",
              "      <th>6. Have you ever trash talked someone while playing online games?</th>\n",
              "      <th>7. If you answered yes in no.6, what are your reasons for doing so? (Select all that apply)</th>\n",
              "      <th>Trash talking among players is an essential part of multiplayer gaming culture.</th>\n",
              "      <th>Trash talking gives thrill and excitement to the players during the game.</th>\n",
              "      <th>Trash talking can be considered as a form of strategy or gaming tactics.</th>\n",
              "      <th>Trash talking in online games is a form of harassment</th>\n",
              "      <th>Trash talking can be both friendly and toxic.</th>\n",
              "      <th>Receiving trash talks from other players can negatively affect one’s gaming performance.</th>\n",
              "    </tr>\n",
              "  </thead>\n",
              "  <tbody>\n",
              "    <tr>\n",
              "      <th>0</th>\n",
              "      <td>Jasmine Clare B. Padilla</td>\n",
              "      <td>22</td>\n",
              "      <td>Female</td>\n",
              "      <td>Often</td>\n",
              "      <td>Yes</td>\n",
              "      <td>Angry;Disheartened;Embarrassed;Entertained</td>\n",
              "      <td>Trash talk back to that player;Laugh at it</td>\n",
              "      <td>No</td>\n",
              "      <td>No</td>\n",
              "      <td>NaN</td>\n",
              "      <td>2</td>\n",
              "      <td>2</td>\n",
              "      <td>2</td>\n",
              "      <td>2</td>\n",
              "      <td>2</td>\n",
              "      <td>2</td>\n",
              "    </tr>\n",
              "  </tbody>\n",
              "</table>\n",
              "</div>"
            ],
            "text/plain": [
              "                       Name   ... Receiving trash talks from other players can negatively affect one’s gaming performance.\n",
              "0  Jasmine Clare B. Padilla   ...                                                  2                                      \n",
              "\n",
              "[1 rows x 16 columns]"
            ]
          },
          "metadata": {
            "tags": []
          },
          "execution_count": 30
        }
      ]
    },
    {
      "cell_type": "code",
      "metadata": {
        "colab": {
          "base_uri": "https://localhost:8080/",
          "height": 35
        },
        "id": "FuyaKDkdVI_j",
        "outputId": "2bcc2245-776d-43b9-e7ea-9a80f9dfcaea"
      },
      "source": [
        "trashtalk_df.loc[65]['Age']"
      ],
      "execution_count": 36,
      "outputs": [
        {
          "output_type": "execute_result",
          "data": {
            "application/vnd.google.colaboratory.intrinsic+json": {
              "type": "string"
            },
            "text/plain": [
              "'MALVAR'"
            ]
          },
          "metadata": {
            "tags": []
          },
          "execution_count": 36
        }
      ]
    },
    {
      "cell_type": "code",
      "metadata": {
        "id": "5A6LR3QwN1Bq"
      },
      "source": [
        "#The researchers decided to remove the 65th recorded response from the dataset for the reason that \n",
        "# the respondent inputted \"MALVAR\" as his age and didn't select an answer for the 3rd question.\n",
        "trashtalk_df.drop(labels=65, axis=0, inplace=True)"
      ],
      "execution_count": 37,
      "outputs": []
    },
    {
      "cell_type": "code",
      "metadata": {
        "colab": {
          "base_uri": "https://localhost:8080/",
          "height": 454
        },
        "id": "MuVft5beRLxx",
        "outputId": "13761787-515d-4840-9bd4-97727394b1c4"
      },
      "source": [
        "trashtalk_df.loc[64:66]"
      ],
      "execution_count": 38,
      "outputs": [
        {
          "output_type": "execute_result",
          "data": {
            "text/html": [
              "<div>\n",
              "<style scoped>\n",
              "    .dataframe tbody tr th:only-of-type {\n",
              "        vertical-align: middle;\n",
              "    }\n",
              "\n",
              "    .dataframe tbody tr th {\n",
              "        vertical-align: top;\n",
              "    }\n",
              "\n",
              "    .dataframe thead th {\n",
              "        text-align: right;\n",
              "    }\n",
              "</style>\n",
              "<table border=\"1\" class=\"dataframe\">\n",
              "  <thead>\n",
              "    <tr style=\"text-align: right;\">\n",
              "      <th></th>\n",
              "      <th>Name</th>\n",
              "      <th>Age</th>\n",
              "      <th>Gender</th>\n",
              "      <th>1. How often do you play online games?</th>\n",
              "      <th>2. Have you experienced being trash talked by other players while playing online games?</th>\n",
              "      <th>3. If you answered yes in no. 2, what do you usually feel when being trash talked by someone? (select all that apply)</th>\n",
              "      <th>4. If you answered yes in no.2, what action(s) do you usually take?</th>\n",
              "      <th>5. If you answered yes in no. 2, did any of your in-game trash talking experience escalate to a physical fight?</th>\n",
              "      <th>6. Have you ever trash talked someone while playing online games?</th>\n",
              "      <th>7. If you answered yes in no.6, what are your reasons for doing so? (Select all that apply)</th>\n",
              "      <th>Trash talking among players is an essential part of multiplayer gaming culture.</th>\n",
              "      <th>Trash talking gives thrill and excitement to the players during the game.</th>\n",
              "      <th>Trash talking can be considered as a form of strategy or gaming tactics.</th>\n",
              "      <th>Trash talking in online games is a form of harassment</th>\n",
              "      <th>Trash talking can be both friendly and toxic.</th>\n",
              "      <th>Receiving trash talks from other players can negatively affect one’s gaming performance.</th>\n",
              "    </tr>\n",
              "  </thead>\n",
              "  <tbody>\n",
              "    <tr>\n",
              "      <th>64</th>\n",
              "      <td>Karl mathew</td>\n",
              "      <td>21</td>\n",
              "      <td>Male</td>\n",
              "      <td>Always</td>\n",
              "      <td>Yes</td>\n",
              "      <td>Entertained</td>\n",
              "      <td>Ignore it;Laugh at it</td>\n",
              "      <td>No</td>\n",
              "      <td>Yes</td>\n",
              "      <td>Annoyed by someone’s poor gaming performance;T...</td>\n",
              "      <td>2</td>\n",
              "      <td>2</td>\n",
              "      <td>1</td>\n",
              "      <td>3</td>\n",
              "      <td>2</td>\n",
              "      <td>2</td>\n",
              "    </tr>\n",
              "    <tr>\n",
              "      <th>66</th>\n",
              "      <td>Ayen Quiñones</td>\n",
              "      <td>17</td>\n",
              "      <td>Male</td>\n",
              "      <td>Always</td>\n",
              "      <td>Yes</td>\n",
              "      <td>Angry;Sad;Disheartened;Embarrassed;Motivated;E...</td>\n",
              "      <td>Ignore it;Report the player;Trash talk back to...</td>\n",
              "      <td>No</td>\n",
              "      <td>Yes</td>\n",
              "      <td>Annoyed by someone’s poor gaming performance;T...</td>\n",
              "      <td>1</td>\n",
              "      <td>4</td>\n",
              "      <td>1</td>\n",
              "      <td>2</td>\n",
              "      <td>1</td>\n",
              "      <td>1</td>\n",
              "    </tr>\n",
              "  </tbody>\n",
              "</table>\n",
              "</div>"
            ],
            "text/plain": [
              "            Name   ... Receiving trash talks from other players can negatively affect one’s gaming performance.\n",
              "64    Karl mathew  ...                                                  2                                      \n",
              "66  Ayen Quiñones  ...                                                  1                                      \n",
              "\n",
              "[2 rows x 16 columns]"
            ]
          },
          "metadata": {
            "tags": []
          },
          "execution_count": 38
        }
      ]
    },
    {
      "cell_type": "code",
      "metadata": {
        "colab": {
          "base_uri": "https://localhost:8080/"
        },
        "id": "2TQs9eCzSbxQ",
        "outputId": "aa560b52-6a0d-49da-b2a6-6fd47524f2bb"
      },
      "source": [
        "trashtalk_df.loc[138]['Age'], trashtalk_df.loc[156]['Age'], "
      ],
      "execution_count": 39,
      "outputs": [
        {
          "output_type": "execute_result",
          "data": {
            "text/plain": [
              "('18 Years old', '16 years old')"
            ]
          },
          "metadata": {
            "tags": []
          },
          "execution_count": 39
        }
      ]
    },
    {
      "cell_type": "code",
      "metadata": {
        "id": "aB8lcEv0SCkG"
      },
      "source": [
        "# removing \"y/Years old\" string in AGE column\n",
        "trashtalk_df['Age'] = trashtalk_df['Age'].map(lambda x: x.rstrip('yYears old'))"
      ],
      "execution_count": 40,
      "outputs": []
    },
    {
      "cell_type": "code",
      "metadata": {
        "colab": {
          "base_uri": "https://localhost:8080/"
        },
        "id": "1T5bT2eATtfn",
        "outputId": "7edf7e09-15d5-4868-c19c-2db946f9d6f0"
      },
      "source": [
        "trashtalk_df.loc[138]['Age'], trashtalk_df.loc[156]['Age']"
      ],
      "execution_count": 41,
      "outputs": [
        {
          "output_type": "execute_result",
          "data": {
            "text/plain": [
              "('18', '16')"
            ]
          },
          "metadata": {
            "tags": []
          },
          "execution_count": 41
        }
      ]
    },
    {
      "cell_type": "code",
      "metadata": {
        "id": "Ip_2u732PBLX"
      },
      "source": [
        "#Question number 1 was changed and due to that when the researchers were testing the questionnaire one of the answer does not respond to the frequency of how often they play games.\n",
        "# with some of the inputted answers or the given set of choices (ex. someone inputted 'Amused' which is similar to Entertained trashtalkq3_df)\n",
        "q1_df = trashtalk_df['1. How often do you play online games?']\n"
      ],
      "execution_count": 42,
      "outputs": []
    },
    {
      "cell_type": "code",
      "metadata": {
        "colab": {
          "base_uri": "https://localhost:8080/"
        },
        "id": "kjwU_GzQPg5n",
        "outputId": "dc0c7aa2-7735-4de8-eeb8-b19800b02ded"
      },
      "source": [
        "q1_df.loc[0], q1_df.loc[1]"
      ],
      "execution_count": 43,
      "outputs": [
        {
          "output_type": "execute_result",
          "data": {
            "text/plain": [
              "('Often', 'Always')"
            ]
          },
          "metadata": {
            "tags": []
          },
          "execution_count": 43
        }
      ]
    },
    {
      "cell_type": "code",
      "metadata": {
        "id": "WZ6P2qGqlP9n"
      },
      "source": [
        "#Question number 3 is an open-ended question. Some inputted responses are similar to or hold similar meaning\n",
        "# with some of the inputted answers or the given set of choices (ex. someone inputted 'Amused' which is similar to Entertained trashtalkq3_df)\n",
        "q3_df = trashtalk_df['3. If you answered yes in no. 2, what do you usually feel when being trash talked by someone? (select all that apply) ']\n"
      ],
      "execution_count": 44,
      "outputs": []
    },
    {
      "cell_type": "code",
      "metadata": {
        "colab": {
          "base_uri": "https://localhost:8080/"
        },
        "id": "zzePjHLptjni",
        "outputId": "7b6095bf-8036-43ef-e273-344f88bd7777"
      },
      "source": [
        "q3_df.loc[105], q3_df.loc[192], q3_df.loc[183], q3_df.loc[20], q3_df.loc[96], q3_df.loc[170], q3_df.loc[26], q3_df.loc[58]"
      ],
      "execution_count": 45,
      "outputs": [
        {
          "output_type": "execute_result",
          "data": {
            "text/plain": [
              "('Challenged',\n",
              " 'Angry;sometimes dedma',\n",
              " 'Angry;not that much',\n",
              " 'Entertained;indifferent',\n",
              " \"Don't care. I know I did my best, and toxic players decrease chance of winning.\",\n",
              " 'Motivated;Entertained;Amused',\n",
              " 'Angry;Disheartened;Embarrassed;Motivated;Entertained;Salty',\n",
              " 'Annoyed/nababastos ako madalas hahaha')"
            ]
          },
          "metadata": {
            "tags": []
          },
          "execution_count": 45
        }
      ]
    },
    {
      "cell_type": "code",
      "metadata": {
        "id": "cH0AYyP7tUsK"
      },
      "source": [
        "q3_dclean = (q3_df.loc[105]) = 'Motivated'\n",
        "q3_dclean = (q3_df.loc[192]) = 'Angry;Nothing'\n",
        "q3_dclean = (q3_df.loc[183]) = 'Angry;Nothing'\n",
        "q3_dclean = (q3_df.loc[20]) = 'Entertained;Nothing'\n",
        "q3_dclean = (q3_df.loc[96]) = 'Nothing'\n",
        "q3_dclean = (q3_df.loc[170]) = 'Motivated;Entertained'\n",
        "q3_dclean = (q3_df.loc[26]) = 'Angry;Disheartened;Embarrassed;Motivated;Entertained'\n",
        "q3_dclean = (q3_df.loc[58]) = 'Annoyed'"
      ],
      "execution_count": null,
      "outputs": []
    },
    {
      "cell_type": "code",
      "metadata": {
        "colab": {
          "base_uri": "https://localhost:8080/"
        },
        "id": "eX_qE_2s4gsH",
        "outputId": "3c86dc22-0f96-4df2-dd62-7080af7fe778"
      },
      "source": [
        "q3_df.loc[105], q3_df.loc[192], q3_df.loc[183], q3_df.loc[20], q3_df.loc[96], q3_df.loc[170], q3_df.loc[26], q3_df.loc[58]"
      ],
      "execution_count": 47,
      "outputs": [
        {
          "output_type": "execute_result",
          "data": {
            "text/plain": [
              "('Motivated',\n",
              " 'Angry;Nothing',\n",
              " 'Angry;Nothing',\n",
              " 'Entertained;Nothing',\n",
              " 'Nothing',\n",
              " 'Motivated;Entertained',\n",
              " 'Angry;Disheartened;Embarrassed;Motivated;Entertained',\n",
              " 'Annoyed')"
            ]
          },
          "metadata": {
            "tags": []
          },
          "execution_count": 47
        }
      ]
    },
    {
      "cell_type": "code",
      "metadata": {
        "id": "DJCjkvlYkkBY"
      },
      "source": [
        "#Question number 4 involves a choice where respondents can put other actions they do if it is not in the choices. However, some of those holds similar meaning to the given actions.\n",
        "# with some of the inputted answers or the given set of choices (ex. someone inputted 'Amused' which is similar to Entertained trashtalkq3_df)\n",
        "q4_df = trashtalk_df['4. If you answered yes in no.2, what action(s) do you usually take?']"
      ],
      "execution_count": 48,
      "outputs": []
    },
    {
      "cell_type": "code",
      "metadata": {
        "colab": {
          "base_uri": "https://localhost:8080/"
        },
        "id": "sK_GEH9gmKPn",
        "outputId": "3f27f0bd-3452-4d52-cfc0-14c6f1cf78bb"
      },
      "source": [
        "q4_df.loc[122], q4_df.loc[175]"
      ],
      "execution_count": 49,
      "outputs": [
        {
          "output_type": "execute_result",
          "data": {
            "text/plain": [
              "('Report the player;Trash talk back to that player;Usually depends upon the situation. When I am in a bad mood, I talk back to the player aggressively. When in good mood, I usually tell them not to be toxic and just play. If my teammate talks trash against me, I usually ignore them or induce their conscience. If an enemy talks trash, I mute them. I always report them.',\n",
              " 'Ignore it;Report the player;Trash talk back to that player;Laugh at it;iniignore ko lang yung trashtalk pag kulang ako sa oras hahaha pero legit nirereport ko ')"
            ]
          },
          "metadata": {
            "tags": []
          },
          "execution_count": 49
        }
      ]
    },
    {
      "cell_type": "code",
      "metadata": {
        "id": "MlJ0K83_s_sz"
      },
      "source": [
        "q4_dclean = (q4_df.loc[122]) = 'Report the player;Trash talk back to that player'\n",
        "q4_dclean = (q4_df.loc[175]) = 'Ignore it;Report the player;Trash talk back to that player;Laugh at it'"
      ],
      "execution_count": null,
      "outputs": []
    },
    {
      "cell_type": "code",
      "metadata": {
        "colab": {
          "base_uri": "https://localhost:8080/"
        },
        "id": "PKV1DRzrt2GD",
        "outputId": "3bfe5a88-cd34-435f-b063-24ee4c6e9ba5"
      },
      "source": [
        "q4_df.loc[122], q4_df.loc[175]"
      ],
      "execution_count": 51,
      "outputs": [
        {
          "output_type": "execute_result",
          "data": {
            "text/plain": [
              "('Report the player;Trash talk back to that player',\n",
              " 'Ignore it;Report the player;Trash talk back to that player;Laugh at it')"
            ]
          },
          "metadata": {
            "tags": []
          },
          "execution_count": 51
        }
      ]
    },
    {
      "cell_type": "code",
      "metadata": {
        "id": "xJp4wumgVQsk",
        "colab": {
          "base_uri": "https://localhost:8080/",
          "height": 35
        },
        "outputId": "713630f4-5c8c-40c4-9592-b148d5165b67"
      },
      "source": [
        "q4_df.loc[87]"
      ],
      "execution_count": 52,
      "outputs": [
        {
          "output_type": "execute_result",
          "data": {
            "application/vnd.google.colaboratory.intrinsic+json": {
              "type": "string"
            },
            "text/plain": [
              "'Laugh at it;Revenge. Do the best that I can and win the game.'"
            ]
          },
          "metadata": {
            "tags": []
          },
          "execution_count": 52
        }
      ]
    },
    {
      "cell_type": "code",
      "metadata": {
        "id": "nl0rJ1RhVc25"
      },
      "source": [
        "q4_dclean = (q4_df.loc[87]) = 'Laugh at it;Ignore it'"
      ],
      "execution_count": null,
      "outputs": []
    },
    {
      "cell_type": "code",
      "metadata": {
        "id": "c5ALn9_EVltI",
        "colab": {
          "base_uri": "https://localhost:8080/",
          "height": 35
        },
        "outputId": "7a81980c-76e7-4549-b901-834ad57c212b"
      },
      "source": [
        "q4_df.loc[87]"
      ],
      "execution_count": 54,
      "outputs": [
        {
          "output_type": "execute_result",
          "data": {
            "application/vnd.google.colaboratory.intrinsic+json": {
              "type": "string"
            },
            "text/plain": [
              "'Laugh at it;Ignore it'"
            ]
          },
          "metadata": {
            "tags": []
          },
          "execution_count": 54
        }
      ]
    },
    {
      "cell_type": "code",
      "metadata": {
        "id": "lA3FjcH1uRo6"
      },
      "source": [
        "#Question number 7 involves a choice where respondents can put other actions they do if it is not in the choices. However, some of those holds similar meaning to the given actions.\n",
        "# with some of the inputted answers or the given set of choices (ex. someone inputted 'Amused' which is similar to Entertained trashtalkq3_df)\n",
        "q7_df = trashtalk_df['7. If you answered yes in no.6, what are your reasons for doing so? (Select all that apply) ']"
      ],
      "execution_count": 55,
      "outputs": []
    },
    {
      "cell_type": "code",
      "metadata": {
        "colab": {
          "base_uri": "https://localhost:8080/"
        },
        "id": "u88fyR1TvUHZ",
        "outputId": "c7e3e2fe-df8f-45a4-88fc-6bc1108fe911"
      },
      "source": [
        "q7_df.loc[47], q7_df.loc[28], q7_df.loc[57], q7_df.loc[58], q7_df.loc[75], q7_df.loc[87], q7_df.loc[111], q7_df.loc[122], q7_df.loc[175], q7_df.loc[179], q7_df.loc[184], q7_df.loc[196], q7_df.loc[20], q7_df.loc[109], q7_df.loc[149], q7_df.loc[183]"
      ],
      "execution_count": 56,
      "outputs": [
        {
          "output_type": "execute_result",
          "data": {
            "text/plain": [
              "(\"I just trash talk players who does it first. Also, when I'm triggered by their badmouthing. Sometimes, they just need to get a taste of their own medicine.\",\n",
              " 'Only when someone trash talked me',\n",
              " 'It heightens the fun;To assert my competitiveness;Because he/she is my close friend',\n",
              " 'Naka off-mic naman ako saka di ko chinachat so ako lang nakakaalam na trinatrasvtk ko na sila counted ba yun hhahahahahha',\n",
              " 'Annoyed by someone’s poor gaming performance;It heightens the fun;Trashtalk back at them ',\n",
              " \"It heightens the fun;Basically, I'm just giving back the trashtalk that they gave to me.\",\n",
              " 'If they talk trash to me first, i will fight back.',\n",
              " 'I only talk trash when they talked trash against me first.',\n",
              " 'tinatrashtalk ko lang yung mga nang tatrashtalk sakin or sa mga kasama ko mag laro ',\n",
              " 'It heightens the fun;If they trashtalk first',\n",
              " 'When they started it.',\n",
              " 'Annoyed by someone’s poor gaming performance;To distract them;It heightens the fun;To assert my competitiveness;Fight Back lol, your not a weakling xD',\n",
              " \"I know the person so I'm just kidding him/her\",\n",
              " \"Annoyed by someone’s poor gaming performance;It heightens the fun;it's plain banter if with friends\",\n",
              " 'Annoyed by someone’s poor gaming performance;to hype the game',\n",
              " 'It heightens the fun;To assert my competitiveness;tilting the player to ensure the win')"
            ]
          },
          "metadata": {
            "tags": []
          },
          "execution_count": 56
        }
      ]
    },
    {
      "cell_type": "code",
      "metadata": {
        "id": "u96j6oZM1uhT"
      },
      "source": [
        "q7_dclean = (q7_df.loc[47]) = 'Trash talk back to the player'\n",
        "q7_dclean = (q7_df.loc[28]) = 'Trash talk back to the player'\n",
        "q7_dclean = (q7_df.loc[57]) = 'It heightens the fun;To assert my competitiveness;I know the person so Im just kidding him/her'\n",
        "q7_dclean = (q7_df.loc[58]) = 'Trash talk back to the player'\n",
        "q7_dclean = (q7_df.loc[75]) = 'Annoyed by someone’s poor gaming performance;It heightens the fun;Trash talk back to the player'\n",
        "q7_dclean = (q7_df.loc[87]) = \"It heightens the fun;Trash talk back to the player\"\n",
        "q7_dclean = (q7_df.loc[111]) = 'Trash talk back to the player'\n",
        "q7_dclean = (q7_df.loc[122]) = 'Trash talk back to the player'\n",
        "q7_dclean = (q7_df.loc[175]) = 'Trash talk back to the player;I know the person Im just kidding him/her'\n",
        "q7_dclean = (q7_df.loc[179]) = 'It heightens the fun;Trash talk back to the player'\n",
        "q7_dclean = (q7_df.loc[184]) = 'Trash talk back to the player'\n",
        "q7_dclean = (q7_df.loc[196]) = 'Annoyed by someone’s poor gaming performance;To distract them;It heightens the fun;To assert my competitiveness;Trash talk back to the player'\n",
        "q7_dclean = (q7_df.loc[20]) = \"I know the person so I'm just kidding him/her\"\n",
        "q7_dclean = (q7_df.loc[109]) = \"Annoyed by someone’s poor gaming performance;It heightens the fun;I know the person Im just kidding him/her\"\n",
        "q7_dclean = (q7_df.loc[149]) = 'Annoyed by someone’s poor gaming performance;It heightens the fun'\n",
        "q7_dclean = (q7_df.loc[183]) = 'It heightens the fun;To assert my competitiveness'"
      ],
      "execution_count": null,
      "outputs": []
    },
    {
      "cell_type": "code",
      "metadata": {
        "colab": {
          "base_uri": "https://localhost:8080/"
        },
        "id": "_T_Yx4Fm4-lc",
        "outputId": "f39a52ba-0fb2-4575-80e3-02eb640b8447"
      },
      "source": [
        "q7_df.loc[47], q7_df.loc[28], q7_df.loc[57], q7_df.loc[58], q7_df.loc[75], q7_df.loc[87], q7_df.loc[111], q7_df.loc[122], q7_df.loc[175], q7_df.loc[179], q7_df.loc[184], q7_df.loc[196], q7_df.loc[20], q7_df.loc[109], q7_df.loc[149], q7_df.loc[183]"
      ],
      "execution_count": 58,
      "outputs": [
        {
          "output_type": "execute_result",
          "data": {
            "text/plain": [
              "('Trash talk back to the player',\n",
              " 'Trash talk back to the player',\n",
              " 'It heightens the fun;To assert my competitiveness;I know the person so Im just kidding him/her',\n",
              " 'Trash talk back to the player',\n",
              " 'Annoyed by someone’s poor gaming performance;It heightens the fun;Trash talk back to the player',\n",
              " 'It heightens the fun;Trash talk back to the player',\n",
              " 'Trash talk back to the player',\n",
              " 'Trash talk back to the player',\n",
              " 'Trash talk back to the player;I know the person Im just kidding him/her',\n",
              " 'It heightens the fun;Trash talk back to the player',\n",
              " 'Trash talk back to the player',\n",
              " 'Annoyed by someone’s poor gaming performance;To distract them;It heightens the fun;To assert my competitiveness;Trash talk back to the player',\n",
              " \"I know the person so I'm just kidding him/her\",\n",
              " 'Annoyed by someone’s poor gaming performance;It heightens the fun;I know the person Im just kidding him/her',\n",
              " 'Annoyed by someone’s poor gaming performance;It heightens the fun',\n",
              " 'It heightens the fun;To assert my competitiveness')"
            ]
          },
          "metadata": {
            "tags": []
          },
          "execution_count": 58
        }
      ]
    },
    {
      "cell_type": "code",
      "metadata": {
        "id": "LlMkK4MaieV9"
      },
      "source": [
        "#NOTE: Once the data cleaning is performed, save it as a new dataset.\n",
        "trashtalk_df.to_csv(\"trashtalk.csv\")"
      ],
      "execution_count": 59,
      "outputs": []
    },
    {
      "cell_type": "markdown",
      "metadata": {
        "id": "rJGwaJFJ7Wpk"
      },
      "source": [
        "# Data Visualization"
      ]
    },
    {
      "cell_type": "code",
      "metadata": {
        "colab": {
          "base_uri": "https://localhost:8080/",
          "height": 705
        },
        "id": "9Ycwcfv_JTvQ",
        "outputId": "72c403e6-897d-463f-8543-eff464f1859a"
      },
      "source": [
        "ax = trashtalk_df['1. How often do you play online games?'].value_counts().plot.bar(width=.8, color='#c79fef')\n",
        "ax.set_xlabel('Frequency')\n",
        "ax.set_ylabel('# of Respondents')\n",
        "\n",
        "plt.style.use('seaborn-poster')\n",
        "sns.set_context('poster')"
      ],
      "execution_count": 60,
      "outputs": [
        {
          "output_type": "display_data",
          "data": {
            "image/png": "[encoded data removed]",
            "text/plain": [
              "<Figure size 921.6x633.6 with 1 Axes>"
            ]
          },
          "metadata": {
            "tags": [],
            "needs_background": "light"
          }
        }
      ]
    },
    {
      "cell_type": "code",
      "metadata": {
        "colab": {
          "base_uri": "https://localhost:8080/",
          "height": 596
        },
        "id": "vJ8Wfy-dKTc7",
        "outputId": "e806605e-821c-486f-b819-cb0ba8d116a2"
      },
      "source": [
        "ax = trashtalk_df['2. Have you experienced being trash talked by other players while playing online games?'].value_counts().plot.bar(color='#800080')\n",
        "ax.set_xlabel('Yes or No')\n",
        "ax.set_ylabel('# of Respondents')\n",
        "\n",
        "plt.style.use('seaborn-pastel')\n",
        "sns.set_context('poster')"
      ],
      "execution_count": 32,
      "outputs": [
        {
          "output_type": "display_data",
          "data": {
            "image/png": "[encoded data removed]",
            "text/plain": [
              "<Figure size 921.6x633.6 with 1 Axes>"
            ]
          },
          "metadata": {
            "tags": [],
            "needs_background": "light"
          }
        }
      ]
    },
    {
      "cell_type": "code",
      "metadata": {
        "colab": {
          "base_uri": "https://localhost:8080/",
          "height": 697
        },
        "id": "PocZYCyvQMHq",
        "outputId": "b1853f0b-ca9a-451d-d483-bc8be05a6875"
      },
      "source": [
        "ax = trashtalk_df['Age'].value_counts().plot.bar(width=.95, color='#ff796c')\n",
        "ax.set_xlabel('Age')\n",
        "ax.set_ylabel('# of Respondents')\n",
        "\n",
        "plt.style.use('seaborn-pastel')\n",
        "sns.set_context('poster')"
      ],
      "execution_count": 33,
      "outputs": [
        {
          "output_type": "display_data",
          "data": {
            "image/png": "[encoded data removed]",
            "text/plain": [
              "<Figure size 921.6x633.6 with 1 Axes>"
            ]
          },
          "metadata": {
            "tags": [],
            "needs_background": "light"
          }
        }
      ]
    },
    {
      "cell_type": "code",
      "metadata": {
        "colab": {
          "base_uri": "https://localhost:8080/",
          "height": 605
        },
        "id": "DVOA2zleRaZp",
        "outputId": "5903ce12-1bca-468b-f5f8-6b9fe544f3ab"
      },
      "source": [
        "Feelings = ['Angry','Sad','Disheartened','Embarassed','Motivated','Entertained','Nothing']\n",
        "Respondents = [101,27,49,51,89,138,6]\n",
        "\n",
        "plt.style.use('seaborn-pastel')\n",
        "sns.set_context('poster')\n",
        "\n",
        "plt.barh(Feelings,Respondents)\n",
        "plt.title('What they usually feel')\n",
        "plt.ylabel('Feelings')\n",
        "plt.xlabel('Respondents')\n",
        "plt.show()"
      ],
      "execution_count": 34,
      "outputs": [
        {
          "output_type": "display_data",
          "data": {
            "image/png": "[encoded data removed]",
            "text/plain": [
              "<Figure size 921.6x633.6 with 1 Axes>"
            ]
          },
          "metadata": {
            "tags": [],
            "needs_background": "light"
          }
        }
      ]
    },
    {
      "cell_type": "code",
      "metadata": {
        "id": "WCUuX5TPecaY",
        "colab": {
          "base_uri": "https://localhost:8080/",
          "height": 520
        },
        "outputId": "353d1b1c-2443-4573-afcb-7077d6a0ece7"
      },
      "source": [
        "Actions = ['Ignore it','Report the player','Trash talk back to that player','Laugh at it','Mute the player']\n",
        "Respondents = [130,101,122,139,2]\n",
        "\n",
        "sns.set_context('poster')\n",
        "sns.set_palette(\"Blues_d\")\n",
        "\n",
        "plt.barh(Actions,Respondents)\n",
        "plt.title('Actions they do')\n",
        "plt.ylabel('Actions')\n",
        "plt.xlabel('Respondents')\n",
        "plt.show()"
      ],
      "execution_count": 35,
      "outputs": [
        {
          "output_type": "display_data",
          "data": {
            "image/png": "[encoded data removed]",
            "text/plain": [
              "<Figure size 921.6x633.6 with 1 Axes>"
            ]
          },
          "metadata": {
            "tags": [],
            "needs_background": "light"
          }
        }
      ]
    }
  ]
}
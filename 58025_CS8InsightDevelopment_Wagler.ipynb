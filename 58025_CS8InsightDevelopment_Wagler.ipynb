{
  "nbformat": 4,
  "nbformat_minor": 0,
  "metadata": {
    "colab": {
      "name": "58025_CS8InsightDevelopment_Wagler.ipynb",
      "provenance": [],
      "authorship_tag": "ABX9TyPxdn3spFnGKzVbz920OBKS",
      "include_colab_link": true
    },
    "kernelspec": {
      "name": "python3",
      "display_name": "Python 3"
    },
    "language_info": {
      "name": "python"
    }
  },
  "cells": [
    {
      "cell_type": "markdown",
      "metadata": {
        "id": "view-in-github",
        "colab_type": "text"
      },
      "source": [
        "<a href=\"https://colab.research.google.com/github/Nikkuchan/AIDA-Group8/blob/main/58025_CS8InsightDevelopment_Wagler.ipynb\" target=\"_parent\"><img src=\"https://colab.research.google.com/assets/colab-badge.svg\" alt=\"Open In Colab\"/></a>"
      ]
    },
    {
      "cell_type": "code",
      "metadata": {
        "id": "Py78apLapWmh"
      },
      "source": [
        "import pandas as pd\n",
        "import matplotlib.pyplot as plt\n",
        "import seaborn as sns\n",
        "import numpy as np"
      ],
      "execution_count": 1,
      "outputs": []
    },
    {
      "cell_type": "code",
      "metadata": {
        "id": "fnsxO6zqpfyW"
      },
      "source": [
        "gamers_perspective_df = pd.read_csv(\"Gamers_Perspective.csv\")"
      ],
      "execution_count": 59,
      "outputs": []
    },
    {
      "cell_type": "code",
      "metadata": {
        "colab": {
          "base_uri": "https://localhost:8080/",
          "height": 717
        },
        "id": "PvMRpfnS6oTS",
        "outputId": "351d1c16-bcc4-444f-ce83-558434175161"
      },
      "source": [
        "gamers_perspective_df.head(5)"
      ],
      "execution_count": 90,
      "outputs": [
        {
          "output_type": "execute_result",
          "data": {
            "text/html": [
              "<div>\n",
              "<style scoped>\n",
              "    .dataframe tbody tr th:only-of-type {\n",
              "        vertical-align: middle;\n",
              "    }\n",
              "\n",
              "    .dataframe tbody tr th {\n",
              "        vertical-align: top;\n",
              "    }\n",
              "\n",
              "    .dataframe thead th {\n",
              "        text-align: right;\n",
              "    }\n",
              "</style>\n",
              "<table border=\"1\" class=\"dataframe\">\n",
              "  <thead>\n",
              "    <tr style=\"text-align: right;\">\n",
              "      <th></th>\n",
              "      <th>Timestamp</th>\n",
              "      <th>The use of this survey is clear to me and I give my consent for handling my data.</th>\n",
              "      <th>Name</th>\n",
              "      <th>Age</th>\n",
              "      <th>Gender</th>\n",
              "      <th>1. How often do you play online games?</th>\n",
              "      <th>2. Have you experienced being trash talked by other players while playing online games?</th>\n",
              "      <th>3. If you answered yes in no. 2, what do you usually feel when being trash talked by someone? (select all that apply)</th>\n",
              "      <th>4. If you answered yes in no.2, what action(s) do you usually take?</th>\n",
              "      <th>5. If you answered yes in no. 2, did any of your in-game trash talking experience escalate to a physical fight?</th>\n",
              "      <th>6. Have you ever trash talked someone while playing online games?</th>\n",
              "      <th>7. If you answered yes in no.6, what are your reasons for doing so? (Select all that apply)</th>\n",
              "      <th>Whenever a teammate is playing poorly, you tend to call them names or curse at them out of frustration.</th>\n",
              "      <th>Trash talking among players is an essential part of multiplayer gaming culture.</th>\n",
              "      <th>Trash talking gives thrill and excitement to the players during the game.</th>\n",
              "      <th>Trash talking influences the way you act towards other people.</th>\n",
              "      <th>Trash talking can be considered as a form of strategy or gaming tactics.</th>\n",
              "      <th>Trash talking competitor players provides a sense of power and freedom</th>\n",
              "      <th>Trash talking in online games is a form of harassment</th>\n",
              "      <th>Trash talking can be both friendly and toxic.</th>\n",
              "      <th>Trash talking in online game is just another form of showing competitiveness.</th>\n",
              "      <th>Receiving trash talks from other players can negatively affect one’s gaming performance.</th>\n",
              "    </tr>\n",
              "  </thead>\n",
              "  <tbody>\n",
              "    <tr>\n",
              "      <th>0</th>\n",
              "      <td>2021/04/28 12:47:21 AM GMT+8</td>\n",
              "      <td>Yes</td>\n",
              "      <td>Jasmine Clare B. Padilla</td>\n",
              "      <td>22</td>\n",
              "      <td>Female</td>\n",
              "      <td>Yes</td>\n",
              "      <td>Yes</td>\n",
              "      <td>Angry;Disheartened;Embarrassed;Entertained</td>\n",
              "      <td>Trash talk back to that player;Laugh at it</td>\n",
              "      <td>No</td>\n",
              "      <td>No</td>\n",
              "      <td>NaN</td>\n",
              "      <td>4</td>\n",
              "      <td>2</td>\n",
              "      <td>2</td>\n",
              "      <td>5</td>\n",
              "      <td>2</td>\n",
              "      <td>2</td>\n",
              "      <td>2</td>\n",
              "      <td>2</td>\n",
              "      <td>2</td>\n",
              "      <td>2</td>\n",
              "    </tr>\n",
              "    <tr>\n",
              "      <th>1</th>\n",
              "      <td>2021/04/28 12:50:17 AM GMT+8</td>\n",
              "      <td>Yes</td>\n",
              "      <td>Reyes, Adrian Philipp</td>\n",
              "      <td>20</td>\n",
              "      <td>Male</td>\n",
              "      <td>Yes</td>\n",
              "      <td>Yes</td>\n",
              "      <td>Angry;Motivated;Entertained</td>\n",
              "      <td>Ignore it;Report the player;Trash talk back to...</td>\n",
              "      <td>No</td>\n",
              "      <td>Yes</td>\n",
              "      <td>Annoyed by someone’s poor gaming performance;T...</td>\n",
              "      <td>2</td>\n",
              "      <td>1</td>\n",
              "      <td>1</td>\n",
              "      <td>2</td>\n",
              "      <td>2</td>\n",
              "      <td>2</td>\n",
              "      <td>1</td>\n",
              "      <td>1</td>\n",
              "      <td>2</td>\n",
              "      <td>1</td>\n",
              "    </tr>\n",
              "    <tr>\n",
              "      <th>2</th>\n",
              "      <td>2021/04/28 12:57:07 AM GMT+8</td>\n",
              "      <td>Yes</td>\n",
              "      <td>ADRIAN</td>\n",
              "      <td>21</td>\n",
              "      <td>Male</td>\n",
              "      <td>Always</td>\n",
              "      <td>Yes</td>\n",
              "      <td>Entertained</td>\n",
              "      <td>NaN</td>\n",
              "      <td>No</td>\n",
              "      <td>Yes</td>\n",
              "      <td>To distract them;It heightens the fun</td>\n",
              "      <td>3</td>\n",
              "      <td>4</td>\n",
              "      <td>3</td>\n",
              "      <td>3</td>\n",
              "      <td>3</td>\n",
              "      <td>3</td>\n",
              "      <td>3</td>\n",
              "      <td>1</td>\n",
              "      <td>4</td>\n",
              "      <td>3</td>\n",
              "    </tr>\n",
              "    <tr>\n",
              "      <th>3</th>\n",
              "      <td>2021/04/28 12:57:40 AM GMT+8</td>\n",
              "      <td>Yes</td>\n",
              "      <td>Charles cordero</td>\n",
              "      <td>21</td>\n",
              "      <td>Male</td>\n",
              "      <td>Always</td>\n",
              "      <td>Yes</td>\n",
              "      <td>Motivated;Entertained</td>\n",
              "      <td>Ignore it;Report the player;Trash talk back to...</td>\n",
              "      <td>No</td>\n",
              "      <td>Yes</td>\n",
              "      <td>Annoyed by someone’s poor gaming performance;T...</td>\n",
              "      <td>3</td>\n",
              "      <td>3</td>\n",
              "      <td>5</td>\n",
              "      <td>1</td>\n",
              "      <td>2</td>\n",
              "      <td>5</td>\n",
              "      <td>1</td>\n",
              "      <td>1</td>\n",
              "      <td>5</td>\n",
              "      <td>1</td>\n",
              "    </tr>\n",
              "    <tr>\n",
              "      <th>4</th>\n",
              "      <td>2021/04/28 12:59:17 AM GMT+8</td>\n",
              "      <td>Yes</td>\n",
              "      <td>Philip Julrenz A. Pionelo</td>\n",
              "      <td>21</td>\n",
              "      <td>Male</td>\n",
              "      <td>Always</td>\n",
              "      <td>Yes</td>\n",
              "      <td>Angry;Sad;Disheartened;Embarrassed;Motivated;E...</td>\n",
              "      <td>Ignore it;Report the player;Laugh at it</td>\n",
              "      <td>NaN</td>\n",
              "      <td>No</td>\n",
              "      <td>NaN</td>\n",
              "      <td>5</td>\n",
              "      <td>4</td>\n",
              "      <td>4</td>\n",
              "      <td>1</td>\n",
              "      <td>5</td>\n",
              "      <td>5</td>\n",
              "      <td>3</td>\n",
              "      <td>3</td>\n",
              "      <td>5</td>\n",
              "      <td>2</td>\n",
              "    </tr>\n",
              "  </tbody>\n",
              "</table>\n",
              "</div>"
            ],
            "text/plain": [
              "                      Timestamp  ... Receiving trash talks from other players can negatively affect one’s gaming performance.\n",
              "0  2021/04/28 12:47:21 AM GMT+8  ...                                                  2                                      \n",
              "1  2021/04/28 12:50:17 AM GMT+8  ...                                                  1                                      \n",
              "2  2021/04/28 12:57:07 AM GMT+8  ...                                                  3                                      \n",
              "3  2021/04/28 12:57:40 AM GMT+8  ...                                                  1                                      \n",
              "4  2021/04/28 12:59:17 AM GMT+8  ...                                                  2                                      \n",
              "\n",
              "[5 rows x 22 columns]"
            ]
          },
          "metadata": {
            "tags": []
          },
          "execution_count": 90
        }
      ]
    },
    {
      "cell_type": "markdown",
      "metadata": {
        "id": "nmxfCiUhN4rH"
      },
      "source": [
        "#Cleaning of Data\n",
        "In this section, certain data might be removed or modified in order to remove irrelevant data to the study. \n",
        "\n"
      ]
    },
    {
      "cell_type": "code",
      "metadata": {
        "id": "JhXDm4z28R3R"
      },
      "source": [
        "# The researchers will be creating a back up file before changing anything to the dataset \n",
        "trashtalk_df = gamers_perspective_df.copy()"
      ],
      "execution_count": 188,
      "outputs": []
    },
    {
      "cell_type": "code",
      "metadata": {
        "id": "3itsqA_39QYb"
      },
      "source": [
        "# The first two responses came from the researchers, they suggested that question #1 should be changed. \n",
        "# Hence, the first two responses for question #1  will be modified accordingly. \n",
        "trashtalk_modify_YES = (trashtalk_df['1. How often do you play online games?'][0]) = 'Often'\n",
        "trashtalk_modify_YES2 = (trashtalk_df['1. How often do you play online games?'][1]) = 'Always'\n",
        "trashtalk_df['1. How often do you play online games?'][0] = trashtalk_modify_YES\n",
        "trashtalk_df['1. How often do you play online games?'][1] = trashtalk_modify_YES2"
      ],
      "execution_count": null,
      "outputs": []
    },
    {
      "cell_type": "code",
      "metadata": {
        "id": "aFpAasSpAc03"
      },
      "source": [
        "# The first and second coulmn was removed [Timestamp and the Consent form]\n",
        "trashtalk_df.drop(['Timestamp'], axis=1, inplace = True)\n",
        "trashtalk_df.drop(['The use of this survey is clear to me and I give my consent for handling my data. '], axis=1,inplace = True)"
      ],
      "execution_count": 190,
      "outputs": []
    },
    {
      "cell_type": "code",
      "metadata": {
        "id": "LUViYq9LNYr1"
      },
      "source": [
        "trashtalk_df.head(1)"
      ],
      "execution_count": null,
      "outputs": []
    },
    {
      "cell_type": "code",
      "metadata": {
        "colab": {
          "base_uri": "https://localhost:8080/",
          "height": 35
        },
        "id": "FuyaKDkdVI_j",
        "outputId": "0f74b785-c552-4eb7-8b63-9061f6c0c2dd"
      },
      "source": [
        "trashtalk_df.loc[65]['Age']"
      ],
      "execution_count": 192,
      "outputs": [
        {
          "output_type": "execute_result",
          "data": {
            "application/vnd.google.colaboratory.intrinsic+json": {
              "type": "string"
            },
            "text/plain": [
              "'MALVAR'"
            ]
          },
          "metadata": {
            "tags": []
          },
          "execution_count": 192
        }
      ]
    },
    {
      "cell_type": "code",
      "metadata": {
        "id": "5A6LR3QwN1Bq"
      },
      "source": [
        "#The researchers decided to remove the 65th recorded response from the dataset for the reason that \n",
        "# the respondent inputted \"MALVAR\" as his age and didn't select an answer for the 3rd question.\n",
        "trashtalk_df.drop(labels=65, axis=0, inplace=True)"
      ],
      "execution_count": 193,
      "outputs": []
    },
    {
      "cell_type": "code",
      "metadata": {
        "colab": {
          "base_uri": "https://localhost:8080/",
          "height": 454
        },
        "id": "MuVft5beRLxx",
        "outputId": "ee361052-8825-48cd-9f3f-665d6d83e794"
      },
      "source": [
        "trashtalk_df.loc[64:66]"
      ],
      "execution_count": 194,
      "outputs": [
        {
          "output_type": "execute_result",
          "data": {
            "text/html": [
              "<div>\n",
              "<style scoped>\n",
              "    .dataframe tbody tr th:only-of-type {\n",
              "        vertical-align: middle;\n",
              "    }\n",
              "\n",
              "    .dataframe tbody tr th {\n",
              "        vertical-align: top;\n",
              "    }\n",
              "\n",
              "    .dataframe thead th {\n",
              "        text-align: right;\n",
              "    }\n",
              "</style>\n",
              "<table border=\"1\" class=\"dataframe\">\n",
              "  <thead>\n",
              "    <tr style=\"text-align: right;\">\n",
              "      <th></th>\n",
              "      <th>Name</th>\n",
              "      <th>Age</th>\n",
              "      <th>Gender</th>\n",
              "      <th>1. How often do you play online games?</th>\n",
              "      <th>2. Have you experienced being trash talked by other players while playing online games?</th>\n",
              "      <th>3. If you answered yes in no. 2, what do you usually feel when being trash talked by someone? (select all that apply)</th>\n",
              "      <th>4. If you answered yes in no.2, what action(s) do you usually take?</th>\n",
              "      <th>5. If you answered yes in no. 2, did any of your in-game trash talking experience escalate to a physical fight?</th>\n",
              "      <th>6. Have you ever trash talked someone while playing online games?</th>\n",
              "      <th>7. If you answered yes in no.6, what are your reasons for doing so? (Select all that apply)</th>\n",
              "      <th>Whenever a teammate is playing poorly, you tend to call them names or curse at them out of frustration.</th>\n",
              "      <th>Trash talking among players is an essential part of multiplayer gaming culture.</th>\n",
              "      <th>Trash talking gives thrill and excitement to the players during the game.</th>\n",
              "      <th>Trash talking influences the way you act towards other people.</th>\n",
              "      <th>Trash talking can be considered as a form of strategy or gaming tactics.</th>\n",
              "      <th>Trash talking competitor players provides a sense of power and freedom</th>\n",
              "      <th>Trash talking in online games is a form of harassment</th>\n",
              "      <th>Trash talking can be both friendly and toxic.</th>\n",
              "      <th>Trash talking in online game is just another form of showing competitiveness.</th>\n",
              "      <th>Receiving trash talks from other players can negatively affect one’s gaming performance.</th>\n",
              "    </tr>\n",
              "  </thead>\n",
              "  <tbody>\n",
              "    <tr>\n",
              "      <th>64</th>\n",
              "      <td>Karl mathew</td>\n",
              "      <td>21</td>\n",
              "      <td>Male</td>\n",
              "      <td>Always</td>\n",
              "      <td>Yes</td>\n",
              "      <td>Entertained</td>\n",
              "      <td>Ignore it;Laugh at it</td>\n",
              "      <td>No</td>\n",
              "      <td>Yes</td>\n",
              "      <td>Annoyed by someone’s poor gaming performance;T...</td>\n",
              "      <td>5</td>\n",
              "      <td>2</td>\n",
              "      <td>2</td>\n",
              "      <td>4</td>\n",
              "      <td>1</td>\n",
              "      <td>2</td>\n",
              "      <td>3</td>\n",
              "      <td>2</td>\n",
              "      <td>2</td>\n",
              "      <td>2</td>\n",
              "    </tr>\n",
              "    <tr>\n",
              "      <th>66</th>\n",
              "      <td>Ayen Quiñones</td>\n",
              "      <td>17</td>\n",
              "      <td>Male</td>\n",
              "      <td>Always</td>\n",
              "      <td>Yes</td>\n",
              "      <td>Angry;Sad;Disheartened;Embarrassed;Motivated;E...</td>\n",
              "      <td>Ignore it;Report the player;Trash talk back to...</td>\n",
              "      <td>No</td>\n",
              "      <td>Yes</td>\n",
              "      <td>Annoyed by someone’s poor gaming performance;T...</td>\n",
              "      <td>3</td>\n",
              "      <td>1</td>\n",
              "      <td>4</td>\n",
              "      <td>1</td>\n",
              "      <td>1</td>\n",
              "      <td>3</td>\n",
              "      <td>2</td>\n",
              "      <td>1</td>\n",
              "      <td>2</td>\n",
              "      <td>1</td>\n",
              "    </tr>\n",
              "  </tbody>\n",
              "</table>\n",
              "</div>"
            ],
            "text/plain": [
              "            Name   ... Receiving trash talks from other players can negatively affect one’s gaming performance.\n",
              "64    Karl mathew  ...                                                  2                                      \n",
              "66  Ayen Quiñones  ...                                                  1                                      \n",
              "\n",
              "[2 rows x 20 columns]"
            ]
          },
          "metadata": {
            "tags": []
          },
          "execution_count": 194
        }
      ]
    },
    {
      "cell_type": "code",
      "metadata": {
        "colab": {
          "base_uri": "https://localhost:8080/"
        },
        "id": "2TQs9eCzSbxQ",
        "outputId": "5f8668f2-5097-43d0-f232-c2508ffefe99"
      },
      "source": [
        "trashtalk_df.loc[138]['Age'], trashtalk_df.loc[156]['Age'], "
      ],
      "execution_count": 195,
      "outputs": [
        {
          "output_type": "execute_result",
          "data": {
            "text/plain": [
              "('18 Years old', '16 years old')"
            ]
          },
          "metadata": {
            "tags": []
          },
          "execution_count": 195
        }
      ]
    },
    {
      "cell_type": "code",
      "metadata": {
        "id": "aB8lcEv0SCkG"
      },
      "source": [
        "# removing \"y/Years old\" string in AGE column\n",
        "trashtalk_df['Age'] = trashtalk_df['Age'].map(lambda x: x.rstrip('yYears old'))"
      ],
      "execution_count": 196,
      "outputs": []
    },
    {
      "cell_type": "code",
      "metadata": {
        "colab": {
          "base_uri": "https://localhost:8080/"
        },
        "id": "1T5bT2eATtfn",
        "outputId": "f94f52cb-247e-4f8e-8ecd-94d13e3c371f"
      },
      "source": [
        "trashtalk_df.loc[138]['Age'], trashtalk_df.loc[156]['Age']"
      ],
      "execution_count": 197,
      "outputs": [
        {
          "output_type": "execute_result",
          "data": {
            "text/plain": [
              "('18', '16')"
            ]
          },
          "metadata": {
            "tags": []
          },
          "execution_count": 197
        }
      ]
    },
    {
      "cell_type": "code",
      "metadata": {
        "id": "WZ6P2qGqlP9n"
      },
      "source": [
        "#Question number 3 is an open-ended question. Some inputted responses are similar to or hold similar meaning\n",
        "# with some of the inputted answers or the given set of choices (ex. someone inputted 'Amused' which is similar to Entertained trashtalkq3_df)\n",
        "q3_df = trashtalk_df['3. If you answered yes in no. 2, what do you usually feel when being trash talked by someone? (select all that apply) ']\n"
      ],
      "execution_count": 198,
      "outputs": []
    },
    {
      "cell_type": "code",
      "metadata": {
        "colab": {
          "base_uri": "https://localhost:8080/"
        },
        "id": "zzePjHLptjni",
        "outputId": "d8a641bd-3a39-4656-d15d-f77fe7939618"
      },
      "source": [
        "q3_df.loc[105], q3_df.loc[192], q3_df.loc[183], q3_df.loc[20], q3_df.loc[96], q3_df.loc[170], q3_df.loc[26], q3_df.loc[58]"
      ],
      "execution_count": 199,
      "outputs": [
        {
          "output_type": "execute_result",
          "data": {
            "text/plain": [
              "('Challenged',\n",
              " 'Angry;sometimes dedma',\n",
              " 'Angry;not that much',\n",
              " 'Entertained;indifferent',\n",
              " \"Don't care. I know I did my best, and toxic players decrease chance of winning.\",\n",
              " 'Motivated;Entertained;Amused',\n",
              " 'Angry;Disheartened;Embarrassed;Motivated;Entertained;Salty',\n",
              " 'Annoyed/nababastos ako madalas hahaha')"
            ]
          },
          "metadata": {
            "tags": []
          },
          "execution_count": 199
        }
      ]
    },
    {
      "cell_type": "code",
      "metadata": {
        "id": "cH0AYyP7tUsK"
      },
      "source": [
        "q3_dclean = (q3_df.loc[105]) = 'Motivated'\n",
        "q3_dclean = (q3_df.loc[192]) = 'Angry;Nothing'\n",
        "q3_dclean = (q3_df.loc[183]) = 'Angry;Nothing'\n",
        "q3_dclean = (q3_df.loc[20]) = 'Entertained;Nothing'\n",
        "q3_dclean = (q3_df.loc[96]) = 'Nothing'\n",
        "q3_dclean = (q3_df.loc[170]) = 'Motivated;Entertained'\n",
        "q3_dclean = (q3_df.loc[26]) = 'Angry;Disheartened;Embarrassed;Motivated;Entertained'\n",
        "q3_dclean = (q3_df.loc[58]) = 'Annoyed'"
      ],
      "execution_count": null,
      "outputs": []
    },
    {
      "cell_type": "code",
      "metadata": {
        "colab": {
          "base_uri": "https://localhost:8080/"
        },
        "id": "eX_qE_2s4gsH",
        "outputId": "fd9c13cc-2943-44bc-fc75-fc41fa23e7c8"
      },
      "source": [
        "q3_df.loc[105], q3_df.loc[192], q3_df.loc[183], q3_df.loc[20], q3_df.loc[96], q3_df.loc[170], q3_df.loc[26], q3_df.loc[58]"
      ],
      "execution_count": 207,
      "outputs": [
        {
          "output_type": "execute_result",
          "data": {
            "text/plain": [
              "('Motivated',\n",
              " 'Angry;Nothing',\n",
              " 'Angry;Nothing',\n",
              " 'Entertained;Nothing',\n",
              " 'Nothing',\n",
              " 'Motivated;Entertained',\n",
              " 'Angry;Disheartened;Embarrassed;Motivated;Entertained',\n",
              " 'Annoyed')"
            ]
          },
          "metadata": {
            "tags": []
          },
          "execution_count": 207
        }
      ]
    }
  ]
}
{
  "nbformat": 4,
  "nbformat_minor": 0,
  "metadata": {
    "colab": {
      "name": "fund-aiml-01v1-2021.ipynb",
      "provenance": [],
      "collapsed_sections": [],
      "include_colab_link": true
    },
    "kernelspec": {
      "name": "python3",
      "display_name": "Python 3"
    },
    "language_info": {
      "name": "python"
    }
  },
  "cells": [
    {
      "cell_type": "markdown",
      "metadata": {
        "id": "view-in-github",
        "colab_type": "text"
      },
      "source": [
        "<a href=\"https://colab.research.google.com/github/Nikkuchan/Wagler/blob/main/activities/01%20-%20Software%20Engineering%20Concepts%20and%20Review/fund_aiml_01v1_2021.ipynb\" target=\"_parent\"><img src=\"https://colab.research.google.com/assets/colab-badge.svg\" alt=\"Open In Colab\"/></a>"
      ]
    },
    {
      "cell_type": "markdown",
      "metadata": {
        "id": "Ob49EcB9H7h2"
      },
      "source": [
        "# Topic 01: Software Engineering Concepts Review\n",
        "$_{\\text{©D.J. Lopez | 2021 | Fudamentals of Machine Learning}}$\n",
        "\n",
        "Data Science or Machine Learning is more than math or business application. It is also important to remember that AI, ML, or DS are being integrated into industry and companies for product delivery. So it is important to keep code clean, manage your files properly, and also assure readability for your projects and their codes.\n",
        "This module is dedicated to reviewing the concepts of software engineering and integrating their concepts in Machine Learning programming. For this notebook we will be covering:\n",
        "* Modular Programming\n",
        "* Object-oriented Programming Concepts\n",
        "* Documentation\n",
        "* Version Control\t\n"
      ]
    },
    {
      "cell_type": "markdown",
      "metadata": {
        "id": "7t8h1u-2KPlN"
      },
      "source": [
        "# 1. Modular Programming\n",
        "Creating readable and understandable code is needed in the industry or any project that you might do. It does not just benefit yourself in understanding your code or project but also other teams, users, and even future researchers. In this module, we are going to discuss how to format your projects and codes for readability and understandability. One of the techniques to achieve this is through modular programming.\n",
        "\n",
        "The idea of modular programming is to make your code granular for reusability. It does not only makes your code simpler but also optimal. The goal of making your code more efficient does not only look into visual representation but also its optimization.\n"
      ]
    },
    {
      "cell_type": "markdown",
      "metadata": {
        "id": "qnV_a_1ossnR"
      },
      "source": [
        "## 1.1 Refactoring\n",
        "\n",
        "Refactoring your code means restructuring your code without changing the expected output. We consider code refactoring while optimizing our code in terms of naming or even in optimizing methods. The first activity of refactoring that we will do or consider is renaming and the other is \"functionizing\" your code. "
      ]
    },
    {
      "cell_type": "markdown",
      "metadata": {
        "id": "9byGZ0_WsyTg"
      },
      "source": [
        "### *Renaming*"
      ]
    },
    {
      "cell_type": "markdown",
      "metadata": {
        "id": "TsyGtv7wtGJp"
      },
      "source": [
        "You might think discussing this topic must be pointless or too simplistic but it is actually one of the most frequent mistakes that data scientists, professors, or researchers usually do. Naming variables and functions properly will bring clarity to understanding the code."
      ]
    },
    {
      "cell_type": "code",
      "metadata": {
        "id": "AzqU8FaqtFQI"
      },
      "source": [
        "'''\n",
        "    CASE 1: Setting the class grades.\n",
        "\n",
        "    The case for this section would be computing for the grades of a \n",
        "    certain class. For the next cells will be looking in how can we create a \n",
        "    class analytics implementation.\n",
        "'''\n",
        "### Example of bad naming in module import nicknames.\n",
        "### Nicknames should be short and still relevant to the module.\n",
        "\n",
        "# import pandas as food_panda \n",
        "## bad, since not representative and long\n",
        "#import pandas as nd \n",
        "##bad, although short it is not representative\n",
        "import pandas as pd \n",
        "##good, aside form community acceptance it is short and representative\n",
        "\n",
        "ln = [\"Ingles\", \"Español\", \"Cruz\", \"Jones\"]\n",
        "# bad, since \"ln\" is ambiguous.\n",
        "\n",
        "names = [\"Ingles\", \"Español\", \"Cruz\", \"Jones\"] \n",
        "# good, since descriptive\n",
        "\n",
        "lnames = [\"Ingles\", \"Español\", \"Cruz\", \"Jones\"]\n",
        "# better, more specific that itis about last names\n",
        "\n",
        "last_names_of_the_class = [\"Ingles\", \"Español\", \"Cruz\", \"Jones\"] \n",
        "# bad, too long\n"
      ],
      "execution_count": null,
      "outputs": []
    },
    {
      "cell_type": "markdown",
      "metadata": {
        "id": "w9_g4Wq4RXgi"
      },
      "source": [
        "### Task 1: Setting the Class Grades\n",
        "1. Create variable declarations for:\n",
        "        - Last Names\n",
        "        - First Names\n",
        "        - Grades for Prelims\n",
        "        - Grades for Midterms\n",
        "        - Grades for Finals \n",
        "2. Create a DataFrame (Pandas) for consolidating the data from Task 1.1"
      ]
    },
    {
      "cell_type": "code",
      "metadata": {
        "id": "-grA0uH6yuwl"
      },
      "source": [
        "### CODE HERE ###"
      ],
      "execution_count": null,
      "outputs": []
    },
    {
      "cell_type": "markdown",
      "metadata": {
        "id": "0pr8y4LUs2Vg"
      },
      "source": [
        "### *Code Reusability*\n",
        "\n",
        "Just like in any writing we want to reduce redundancies in our content. Just like following the rules of brevity we also consider that in creating cleaner code. One way of applying brevity to code is code reusability wherein you refrain from creating code that you repeat in encoding. This is where the use of functions will be most used. Consider the following code below."
      ]
    },
    {
      "cell_type": "code",
      "metadata": {
        "id": "mC9I6ZnhAKNC",
        "colab": {
          "base_uri": "https://localhost:8080/"
        },
        "outputId": "08982374-70a1-40b3-b66e-55bedbf477da"
      },
      "source": [
        "'''\n",
        "    CASE 2: Computing grades.\n",
        "\n",
        "    For this cell we are going to look into creating functions for the class.\n",
        "    This includes computing for their grades and some classroom management\n",
        "    routines.\n",
        "'''\n",
        "### Consider this procedural programming script\n",
        "gs_1 = [89.4, 78.2, 88.0, 28.5, 67.3]\n",
        "# Get average grades of the class\n",
        "class_g = 0\n",
        "for g in gs_1:\n",
        "  class_g += g\n",
        "cmean = class_g/len(gs_1)\n",
        "print(cmean)"
      ],
      "execution_count": null,
      "outputs": [
        {
          "output_type": "stream",
          "name": "stdout",
          "text": [
            "70.28\n"
          ]
        }
      ]
    },
    {
      "cell_type": "code",
      "metadata": {
        "colab": {
          "base_uri": "https://localhost:8080/"
        },
        "id": "_SSjhGSM-iLM",
        "outputId": "ad293ab3-e8c8-479b-9da2-e775110c9e7e"
      },
      "source": [
        "### Now let's say you want to reuse the code above for a different class\n",
        "### you might just copy and paste in like the code below and change some \n",
        "### variable naming\n",
        "\n",
        "gs_2 = [99.4, 64.5, 87.2, 68.5, 57.]\n",
        "# Get average grades of the class\n",
        "class_g = 0\n",
        "for g in gs_2:\n",
        "  class_g += g\n",
        "cmean = class_g/len(gs_2)\n",
        "print(cmean)"
      ],
      "execution_count": null,
      "outputs": [
        {
          "output_type": "stream",
          "name": "stdout",
          "text": [
            "75.32000000000001\n"
          ]
        }
      ]
    },
    {
      "cell_type": "code",
      "metadata": {
        "id": "zsfe5hrl-5Dj",
        "colab": {
          "base_uri": "https://localhost:8080/"
        },
        "outputId": "19df0286-898c-4c46-b84f-4f8104b91237"
      },
      "source": [
        "### That works but if you keep doing that for production, it would just look\n",
        "### like spaghetti code. Instead, if you are repeating code, consider creating\n",
        "### a function.\n",
        "\n",
        "def average(grades):\n",
        "  grades_class = 0\n",
        "  for g in grades:\n",
        "    grades_class += g\n",
        "  avg = grades_class/len(grades)\n",
        "  return avg\n",
        "\n",
        "print(average(gs_1))\n",
        "print(average(gs_2))\n"
      ],
      "execution_count": null,
      "outputs": [
        {
          "output_type": "stream",
          "name": "stdout",
          "text": [
            "70.28\n",
            "75.32000000000001\n"
          ]
        }
      ]
    },
    {
      "cell_type": "code",
      "metadata": {
        "id": "cM06F8qkAkwz"
      },
      "source": [
        "### The code above would be reusable but it is not easy to read. We need to \n",
        "### enforce the code refactoring for renaming not just the variables but also\n",
        "### the functions we are creating. So if we would refactor the 'average' \n",
        "### Function earlier it could be:\n",
        "\n",
        "def get_class_ave(arr):\n",
        "  class_grades = 0\n",
        "  for grade in arr:\n",
        "    class_grades += grade \n",
        "  class_avg = class_grades/len(arr) \n",
        "  return class_avg"
      ],
      "execution_count": null,
      "outputs": []
    },
    {
      "cell_type": "markdown",
      "metadata": {
        "id": "QZWa_LNqRVOJ"
      },
      "source": [
        "### Task 2: Getting Class Statistics\n",
        "1. Create a function named `get_grades()` for computing the semestral grade of each student:\n",
        "\n",
        "  `inputs`: `DataFrame` of a class grade sheet.\n",
        "  \n",
        "  `outpus`: `DataFrame` showing:\n",
        "  * The prelim, midterms, and finals grades of each student\n",
        "  * The semestral grade of each student\n",
        "\n",
        "2. Create a function named `get_class_stats()`.\n",
        "  \n",
        "  `inputs`: `DataFrame` from `get_grades()`.\n",
        "  \n",
        "  `outpus`: `DataFrame` showing:\n",
        "  * The lowest and highest prelim, midterm, finals, and semestral grades\n",
        "  * the mean, median, mode, and standard deviation of the grades\n"
      ]
    },
    {
      "cell_type": "code",
      "metadata": {
        "id": "mCruoe6AMdjX"
      },
      "source": [
        "### CODE HERE ###\n",
        "import pandas as pd\n",
        "import numpy as np\n",
        "\n",
        "classGrades_df = pd.read_csv(\"class_grades.csv\")\n",
        "classGrades_df"
      ],
      "execution_count": 117,
      "outputs": []
    },
    {
      "cell_type": "code",
      "metadata": {
        "id": "bHLoFlxqfqjO"
      },
      "source": [
        "#making a separate group for prelim, midterm, and final grades\n",
        "pmf_grades = classGrades_df[['prelim_grades','midterm_grades','final_grades']]"
      ],
      "execution_count": 119,
      "outputs": []
    },
    {
      "cell_type": "code",
      "metadata": {
        "id": "n06NFNKdWgqN",
        "colab": {
          "base_uri": "https://localhost:8080/"
        },
        "outputId": "964dc98c-81f2-41e3-a807-3387b4a35786"
      },
      "source": [
        "#Create a function named get_grades() for computing the semestral grade of each student\n",
        "\n",
        "def get_grades(classGrades_df):\n",
        "  sem_grade = 0\n",
        "  pre = classGrades_df['prelim_grades']\n",
        "  mid = classGrades_df['midterm_grades']\n",
        "  fin = classGrades_df['final_grades']\n",
        "\n",
        "  for pmf_grades in classGrades_df: \n",
        "    sem_grade = (0.3 * pre + 0.3 * mid + 0.4 * fin)\n",
        "  return sem_grade\n",
        "  \n",
        "print(get_grades(classGrades_df.loc[0]))"
      ],
      "execution_count": 120,
      "outputs": [
        {
          "output_type": "stream",
          "name": "stdout",
          "text": [
            "93.95367999999999\n"
          ]
        }
      ]
    },
    {
      "cell_type": "code",
      "metadata": {
        "id": "7HIGsRj1nVTO"
      },
      "source": [
        "#adding a new column/feature to the classGrades_df dataset\n",
        "classGrades_df['semestral_grade'] = get_grades(classGrades_df.loc[0:26])\n",
        "classGrades_df"
      ],
      "execution_count": 121,
      "outputs": []
    },
    {
      "cell_type": "code",
      "metadata": {
        "id": "HVEVPFV4oq4-"
      },
      "source": [
        "#saving it as new dataset\n",
        "classGrades_df.to_csv(\"semestralGrades.csv\") "
      ],
      "execution_count": 123,
      "outputs": []
    },
    {
      "cell_type": "code",
      "metadata": {
        "id": "xm7016655FU1"
      },
      "source": [
        "#Using dataframe obtained from previous function\n",
        "semGrades_df = pd.read_csv(\"semestralGrades.csv\")\n",
        "semGrades_df"
      ],
      "execution_count": 124,
      "outputs": []
    },
    {
      "cell_type": "code",
      "metadata": {
        "id": "s8xDqil8_ADP"
      },
      "source": [
        "#creating a sub dataframe\n",
        "pmfSem_grades = semGrades_df[['prelim_grades','midterm_grades','final_grades','semestral_grade']]"
      ],
      "execution_count": null,
      "outputs": []
    },
    {
      "cell_type": "code",
      "metadata": {
        "id": "w0120G7qA_2L"
      },
      "source": [
        "#Creating a function named get_class_stats()\n",
        "\n",
        "def get_class_stats(semGrades_df):\n",
        "  pre = semGrades_df['prelim_grades']\n",
        "  mid = semGrades_df['midterm_grades']\n",
        "  fin = semGrades_df['final_grades']\n",
        "  sem = semGrades_df['semestral_grade'] \n",
        "\n",
        "  for pmfSem_grades in semGrades_df:\n",
        "    low_pre = pre.min()\n",
        "    low_mid = mid.min()\n",
        "    low_fin = fin.min()\n",
        "    low_sem = sem.min()\n",
        "\n",
        "    high_pre = pre.max()\n",
        "    high_mid = mid.max()\n",
        "    high_fin = fin.max()\n",
        "    high_sem = sem.max()\n",
        "\n",
        "    mean_pre = pre.mean()\n",
        "    mean_mid = mid.mean()\n",
        "    mean_fin = fin.mean()\n",
        "    mean_sem = sem.mean()\n",
        "    \n",
        "    median_pre = pre.median()\n",
        "    median_mid = mid.median()\n",
        "    median_fin = fin.median()\n",
        "    median_sem = sem.median()\n",
        "\n",
        "    std_pre = pre.std()\n",
        "    std_mid = mid.std()\n",
        "    std_fin = fin.std()\n",
        "    std_sem = sem.std()\n",
        "\n",
        "    mode_pre = pre.mode()\n",
        "    mode_mid = mid.mode()\n",
        "    mode_fin = fin.mode()\n",
        "    mode_sem = sem.mode()\n",
        "\n",
        "  return pd.Series([low_pre,low_mid,low_fin,low_sem,high_pre,high_mid,high_fin,high_sem,\n",
        "                    mean_pre,mean_mid,mean_fin, mean_sem,median_pre,median_mid,median_fin,median_sem,\n",
        "                    std_pre,std_mid,std_fin,std_sem,mode_pre,mode_mid,mode_fin,mode_sem],\n",
        "                   index=['lowest_prelim','lowest_midterm','lowest_final','lowest_semestral',\n",
        "                         'highest_prelim','highest_midterm','highest_final','highest_semestral',\n",
        "                           'mean_prelim','mean_midterm','mean_final','mean_semestral',\n",
        "                          'median_prelim','median_midterm','median_final','median_semestral',\n",
        "                          'std_prelim','std_midterm','std_final','std_semestral',\n",
        "                          'mode_prelim','mode_midterm','mode_final','mode_semestral'])\n",
        "\n",
        "print(get_class_stats(semGrades_df))"
      ],
      "execution_count": null,
      "outputs": []
    },
    {
      "cell_type": "code",
      "metadata": {
        "id": "3hBMQ5rDOb0s",
        "colab": {
          "base_uri": "https://localhost:8080/",
          "height": 799
        },
        "outputId": "800cd23b-ec41-4936-c2ac-a4d2495001e4"
      },
      "source": [
        "classStats_df = pd.DataFrame(get_class_stats(semGrades_df))\n",
        "classStats_df"
      ],
      "execution_count": 145,
      "outputs": [
        {
          "output_type": "execute_result",
          "data": {
            "text/html": [
              "<div>\n",
              "<style scoped>\n",
              "    .dataframe tbody tr th:only-of-type {\n",
              "        vertical-align: middle;\n",
              "    }\n",
              "\n",
              "    .dataframe tbody tr th {\n",
              "        vertical-align: top;\n",
              "    }\n",
              "\n",
              "    .dataframe thead th {\n",
              "        text-align: right;\n",
              "    }\n",
              "</style>\n",
              "<table border=\"1\" class=\"dataframe\">\n",
              "  <thead>\n",
              "    <tr style=\"text-align: right;\">\n",
              "      <th></th>\n",
              "      <th>0</th>\n",
              "    </tr>\n",
              "  </thead>\n",
              "  <tbody>\n",
              "    <tr>\n",
              "      <th>lowest_prelim</th>\n",
              "      <td>60.7882</td>\n",
              "    </tr>\n",
              "    <tr>\n",
              "      <th>lowest_midterm</th>\n",
              "      <td>68</td>\n",
              "    </tr>\n",
              "    <tr>\n",
              "      <th>lowest_final</th>\n",
              "      <td>50.336</td>\n",
              "    </tr>\n",
              "    <tr>\n",
              "      <th>lowest_semestral</th>\n",
              "      <td>67.2341</td>\n",
              "    </tr>\n",
              "    <tr>\n",
              "      <th>highest_prelim</th>\n",
              "      <td>96.4067</td>\n",
              "    </tr>\n",
              "    <tr>\n",
              "      <th>highest_midterm</th>\n",
              "      <td>97.3</td>\n",
              "    </tr>\n",
              "    <tr>\n",
              "      <th>highest_final</th>\n",
              "      <td>95.6528</td>\n",
              "    </tr>\n",
              "    <tr>\n",
              "      <th>highest_semestral</th>\n",
              "      <td>95.6451</td>\n",
              "    </tr>\n",
              "    <tr>\n",
              "      <th>mean_prelim</th>\n",
              "      <td>85.6321</td>\n",
              "    </tr>\n",
              "    <tr>\n",
              "      <th>mean_midterm</th>\n",
              "      <td>89.456</td>\n",
              "    </tr>\n",
              "    <tr>\n",
              "      <th>mean_final</th>\n",
              "      <td>85.2418</td>\n",
              "    </tr>\n",
              "    <tr>\n",
              "      <th>mean_semestral</th>\n",
              "      <td>86.6647</td>\n",
              "    </tr>\n",
              "    <tr>\n",
              "      <th>median_prelim</th>\n",
              "      <td>85.7267</td>\n",
              "    </tr>\n",
              "    <tr>\n",
              "      <th>median_midterm</th>\n",
              "      <td>92.485</td>\n",
              "    </tr>\n",
              "    <tr>\n",
              "      <th>median_final</th>\n",
              "      <td>84.1472</td>\n",
              "    </tr>\n",
              "    <tr>\n",
              "      <th>median_semestral</th>\n",
              "      <td>86.428</td>\n",
              "    </tr>\n",
              "    <tr>\n",
              "      <th>std_prelim</th>\n",
              "      <td>9.40295</td>\n",
              "    </tr>\n",
              "    <tr>\n",
              "      <th>std_midterm</th>\n",
              "      <td>7.17958</td>\n",
              "    </tr>\n",
              "    <tr>\n",
              "      <th>std_final</th>\n",
              "      <td>8.6075</td>\n",
              "    </tr>\n",
              "    <tr>\n",
              "      <th>std_semestral</th>\n",
              "      <td>7.10605</td>\n",
              "    </tr>\n",
              "    <tr>\n",
              "      <th>mode_prelim</th>\n",
              "      <td>0    78.173333\n",
              "1    93.980000\n",
              "2    94.960000\n",
              "d...</td>\n",
              "    </tr>\n",
              "    <tr>\n",
              "      <th>mode_midterm</th>\n",
              "      <td>0    82.000\n",
              "1    92.485\n",
              "2    95.260\n",
              "3    97.30...</td>\n",
              "    </tr>\n",
              "    <tr>\n",
              "      <th>mode_final</th>\n",
              "      <td>0    81.2792\n",
              "1    82.7792\n",
              "2    83.8672\n",
              "3    84...</td>\n",
              "    </tr>\n",
              "    <tr>\n",
              "      <th>mode_semestral</th>\n",
              "      <td>0    85.48800\n",
              "1    93.95368\n",
              "2    95.64512\n",
              "dtyp...</td>\n",
              "    </tr>\n",
              "  </tbody>\n",
              "</table>\n",
              "</div>"
            ],
            "text/plain": [
              "                                                                   0\n",
              "lowest_prelim                                                60.7882\n",
              "lowest_midterm                                                    68\n",
              "lowest_final                                                  50.336\n",
              "lowest_semestral                                             67.2341\n",
              "highest_prelim                                               96.4067\n",
              "highest_midterm                                                 97.3\n",
              "highest_final                                                95.6528\n",
              "highest_semestral                                            95.6451\n",
              "mean_prelim                                                  85.6321\n",
              "mean_midterm                                                  89.456\n",
              "mean_final                                                   85.2418\n",
              "mean_semestral                                               86.6647\n",
              "median_prelim                                                85.7267\n",
              "median_midterm                                                92.485\n",
              "median_final                                                 84.1472\n",
              "median_semestral                                              86.428\n",
              "std_prelim                                                   9.40295\n",
              "std_midterm                                                  7.17958\n",
              "std_final                                                     8.6075\n",
              "std_semestral                                                7.10605\n",
              "mode_prelim        0    78.173333\n",
              "1    93.980000\n",
              "2    94.960000\n",
              "d...\n",
              "mode_midterm       0    82.000\n",
              "1    92.485\n",
              "2    95.260\n",
              "3    97.30...\n",
              "mode_final         0    81.2792\n",
              "1    82.7792\n",
              "2    83.8672\n",
              "3    84...\n",
              "mode_semestral     0    85.48800\n",
              "1    93.95368\n",
              "2    95.64512\n",
              "dtyp..."
            ]
          },
          "metadata": {},
          "execution_count": 145
        }
      ]
    },
    {
      "cell_type": "code",
      "metadata": {
        "id": "5tFq6Hq-fPc3"
      },
      "source": [
        "#saving it as new dataset\n",
        "classStats_df.to_csv(\"classStats.csv\") "
      ],
      "execution_count": 146,
      "outputs": []
    },
    {
      "cell_type": "markdown",
      "metadata": {
        "id": "NCPH2Iy_s6Ox"
      },
      "source": [
        "## 1.2 Code Optimization\n",
        "\n",
        "When we consider your code to be part of production or for customer delivery we must consider that they are not laggy nor too space-consuming for devices. This is a common practice in data science and machine learning wherein training algorithms take up resources from computers or considering the space a model consumes at your workspace or your customer’s device."
      ]
    },
    {
      "cell_type": "markdown",
      "metadata": {
        "id": "IfNVUwU5tApZ"
      },
      "source": [
        "### *Space Complexity*\n",
        "\n",
        "This would specifically refer to your choice of data structures. This is a job for reviewing data structures and algorithms for space complexity. Although in Python for AI we are looking into more data structures like matrices and data frames."
      ]
    },
    {
      "cell_type": "code",
      "metadata": {
        "id": "viiNhOeaKv8V"
      },
      "source": [
        "'''\n",
        "    CASE 3: Class management.\n",
        "\n",
        "    For this cell we are going to look into optimizing functions for the class.\n",
        "    This includes finding unique data and similar data amnong class materials.\n",
        "'''\n",
        "## The following code will optimize how to efficiently store data into memory\n",
        "enrollees_2016_2020 = ['15022', '18302', '8845', '9203', '10035']\n",
        "enrollees_2016_2020 = [15022, 18302, 8845, 9203, 10035]"
      ],
      "execution_count": null,
      "outputs": []
    },
    {
      "cell_type": "code",
      "metadata": {
        "colab": {
          "base_uri": "https://localhost:8080/"
        },
        "id": "_qU1hQQKDbZj",
        "outputId": "0832d286-9566-49cc-bf19-2f4ddfc53b90"
      },
      "source": [
        "img1 = [[125.4543, 254.0001], [64.2132, 84.5336]]\n",
        "img1"
      ],
      "execution_count": null,
      "outputs": [
        {
          "output_type": "execute_result",
          "data": {
            "text/plain": [
              "[[125.4543, 254.0001], [64.2132, 84.5336]]"
            ]
          },
          "metadata": {},
          "execution_count": 12
        }
      ]
    },
    {
      "cell_type": "code",
      "metadata": {
        "colab": {
          "base_uri": "https://localhost:8080/"
        },
        "id": "JV2hWEmcEMyw",
        "outputId": "3d345730-2b22-4c9a-fa8c-ec3223cfd9c2"
      },
      "source": [
        "import numpy as np\n",
        "img1_vector = np.array(img1)\n",
        "img1_vector"
      ],
      "execution_count": null,
      "outputs": [
        {
          "output_type": "execute_result",
          "data": {
            "text/plain": [
              "array([[125.4543, 254.0001],\n",
              "       [ 64.2132,  84.5336]])"
            ]
          },
          "metadata": {},
          "execution_count": 13
        }
      ]
    },
    {
      "cell_type": "code",
      "metadata": {
        "colab": {
          "base_uri": "https://localhost:8080/"
        },
        "id": "8b4cIeOgERdo",
        "outputId": "7a00779f-6ec3-4e5c-ff84-15ee37b2f56b"
      },
      "source": [
        "img1_quantized = np.array(img1_vector, dtype='int32')\n",
        "img1_quantized"
      ],
      "execution_count": null,
      "outputs": [
        {
          "output_type": "execute_result",
          "data": {
            "text/plain": [
              "array([[125, 254],\n",
              "       [ 64,  84]], dtype=int32)"
            ]
          },
          "metadata": {},
          "execution_count": 15
        }
      ]
    },
    {
      "cell_type": "markdown",
      "metadata": {
        "id": "NY2uePQzs9gZ"
      },
      "source": [
        "### *Time Complexity*\n",
        "\n",
        "If you would recall back in your data structures and algorithms this pertains to the Big-O notation. However, in this notebook, we’ll look into specific and intuitive samples of time complexity. We are going to look at specific AI use such as the concept of vectorization."
      ]
    },
    {
      "cell_type": "code",
      "metadata": {
        "id": "5WlqePejs10Z"
      },
      "source": [
        "## The following code wil try to optimize getting unique elements from the given\n",
        "## list of class codes\n",
        "\n",
        "curr_2018_courses = ['220', '270', '318', '450', '101', '768', '223L', '223',\n",
        "                     '727', '418', '673', '672', '450', '124', '771', '654',\n",
        "                     '231', '768', '768', '224', '654', '673']\n",
        "### print an array that shows only the unique elements\n",
        "### Code from Geeks for Geeks\n",
        "def unique(arr):\n",
        "     # initialize a null list\n",
        "    unique_list = []\n",
        "     \n",
        "    # traverse for all elements\n",
        "    for item in arr:\n",
        "        # check if exists in unique_list or not\n",
        "        if item not in unique_list:\n",
        "            unique_list.append(item)\n",
        "    return sorted(unique_list)\n",
        "\n",
        "unique(curr_2018_courses)  "
      ],
      "execution_count": null,
      "outputs": []
    },
    {
      "cell_type": "code",
      "metadata": {
        "id": "G0bFhzBfGz75"
      },
      "source": [
        "### Optimized way\n",
        "sorted(list(set(curr_2018_courses)))"
      ],
      "execution_count": null,
      "outputs": []
    },
    {
      "cell_type": "code",
      "metadata": {
        "colab": {
          "base_uri": "https://localhost:8080/"
        },
        "id": "8qQsScWhUybw",
        "outputId": "a3f3815d-e27f-491a-ec7a-6ec794feb14a"
      },
      "source": [
        "### Optimizing Functions\n",
        "import math\n",
        "def get_floor_binlog(num):\n",
        "  return math.floor(math.log2(num))\n",
        "get_floor_binlog(31)"
      ],
      "execution_count": null,
      "outputs": [
        {
          "output_type": "execute_result",
          "data": {
            "text/plain": [
              "4"
            ]
          },
          "metadata": {},
          "execution_count": 3
        }
      ]
    },
    {
      "cell_type": "code",
      "metadata": {
        "colab": {
          "base_uri": "https://localhost:8080/"
        },
        "id": "6atMBkMBWRP7",
        "outputId": "4fb52316-6410-4fed-8738-d1997d25ac2e"
      },
      "source": [
        "### Lambda Functions\n",
        "binlog = lambda num: math.floor(math.log2(num))\n",
        "binlog(31)"
      ],
      "execution_count": null,
      "outputs": [
        {
          "output_type": "execute_result",
          "data": {
            "text/plain": [
              "4"
            ]
          },
          "metadata": {},
          "execution_count": 16
        }
      ]
    },
    {
      "cell_type": "code",
      "metadata": {
        "id": "ugT6Y-zBWjqD"
      },
      "source": [
        "### Optimizing Booleans\n",
        "val = 1\n",
        "if val%2 == 0:\n",
        "  val = 1\n",
        "else:\n",
        "  val = 2"
      ],
      "execution_count": null,
      "outputs": []
    },
    {
      "cell_type": "code",
      "metadata": {
        "colab": {
          "base_uri": "https://localhost:8080/"
        },
        "id": "uH-xQX6zUyqK",
        "outputId": "3d8abbc8-1c59-481d-b2fe-9aaf1aa4febf"
      },
      "source": [
        "### Singe-line Boolean Statemets\n",
        "val = 1\n",
        "val = 1 if val%2 == 0 else 2\n",
        "val"
      ],
      "execution_count": null,
      "outputs": [
        {
          "output_type": "execute_result",
          "data": {
            "text/plain": [
              "2"
            ]
          },
          "metadata": {},
          "execution_count": 18
        }
      ]
    },
    {
      "cell_type": "code",
      "metadata": {
        "colab": {
          "base_uri": "https://localhost:8080/"
        },
        "id": "WTU6lB6CXCIQ",
        "outputId": "a1f0f065-58b4-45f9-ac5f-282e8ac4d615"
      },
      "source": [
        "### Optimizing Iterations\n",
        "bits = [1,0,1,1,1]\n",
        "not_bits = []\n",
        "for bit in bits:\n",
        "  not_bits.append(int(not(bit)))\n",
        "print(not_bits)"
      ],
      "execution_count": null,
      "outputs": [
        {
          "output_type": "stream",
          "text": [
            "[0, 1, 0, 0, 0]\n"
          ],
          "name": "stdout"
        }
      ]
    },
    {
      "cell_type": "code",
      "metadata": {
        "colab": {
          "base_uri": "https://localhost:8080/"
        },
        "id": "g9Z2mzLzVNVi",
        "outputId": "aaedbfc7-4626-4be2-828b-ce4a2bfc91df"
      },
      "source": [
        "### List Comprehensions\n",
        "bits = [1,0,1,0,1]\n",
        "not_bits = [int(not(bit)) for bit in bits]\n",
        "not_bits"
      ],
      "execution_count": null,
      "outputs": [
        {
          "output_type": "execute_result",
          "data": {
            "text/plain": [
              "[0, 1, 0, 1, 0]"
            ]
          },
          "metadata": {},
          "execution_count": 11
        }
      ]
    },
    {
      "cell_type": "code",
      "metadata": {
        "colab": {
          "base_uri": "https://localhost:8080/"
        },
        "id": "W9y04uVjYInF",
        "outputId": "ee35af7e-9895-4aef-b67e-a52ce032946a"
      },
      "source": [
        "### A Networks Example\n",
        "def get_floor_binlog(num):\n",
        "  return math.floor(math.log2(num))\n",
        "def get_subnet_bits(user_count):\n",
        "  \n",
        "  floor_bin = get_floor_binlog(user_count) # gets the floor bits from \n",
        "                                           # the user count\n",
        "  if floor_bin == 0: # assign 1 if bit count is 0.\n",
        "    floor_bin = 1\n",
        "  bits = [] # instantiate the bit container\n",
        "  for i in range(floor_bin): # add a bit to the list of bits according to the\n",
        "                             # bit count.\n",
        "    bits.append(1) \n",
        "  return bits\n",
        "\n",
        "get_subnet_bits(32)"
      ],
      "execution_count": null,
      "outputs": [
        {
          "output_type": "execute_result",
          "data": {
            "text/plain": [
              "[1, 1, 1, 1, 1]"
            ]
          },
          "metadata": {},
          "execution_count": 19
        }
      ]
    },
    {
      "cell_type": "code",
      "metadata": {
        "colab": {
          "base_uri": "https://localhost:8080/"
        },
        "id": "c1U3rj0iZvx5",
        "outputId": "1270579b-fd0a-4582-e504-e6c66099c823"
      },
      "source": [
        "#### An Optimized Networks Example\n",
        "floor_bin = lambda num: math.floor(math.log2(num))\n",
        "\n",
        "def get_subnet_bits(user_count):\n",
        "  \n",
        "  nbits = floor_bin(user_count) # gets the floor bits from the user count\n",
        "  nbits = 1 if nbits==0 else nbits # assign 1 if bit count is 0.\n",
        "  bits = [1 for i in range(nbits)] # add a bit to the list of bits according \n",
        "                                   # to the bit count.\n",
        "  return bits\n",
        "\n",
        "get_subnet_bits(32)"
      ],
      "execution_count": null,
      "outputs": [
        {
          "output_type": "execute_result",
          "data": {
            "text/plain": [
              "[1, 1, 1, 1, 1]"
            ]
          },
          "metadata": {},
          "execution_count": 20
        }
      ]
    },
    {
      "cell_type": "code",
      "metadata": {
        "id": "COZLgumcIJ2u"
      },
      "source": [
        "## The following code wil try to optimize solving for the inner product of two\n",
        "## lists\n",
        "vectA = [1,2,3,1,-1,2]\n",
        "vectB = [-1,4,5,3,2,0]"
      ],
      "execution_count": null,
      "outputs": []
    },
    {
      "cell_type": "code",
      "metadata": {
        "colab": {
          "base_uri": "https://localhost:8080/"
        },
        "id": "8490guPfF1iy",
        "outputId": "37aefb51-a3fa-47ff-f716-bf012eb1b0b5"
      },
      "source": [
        "def inner_product(vect1, vect2):\n",
        "  result = 0 \n",
        "  for va,vb in zip(vectA, vectB):\n",
        "    result += va*vb\n",
        "  return result\n",
        "inner_product(vectA, vectB)"
      ],
      "execution_count": null,
      "outputs": [
        {
          "output_type": "execute_result",
          "data": {
            "text/plain": [
              "23"
            ]
          },
          "metadata": {},
          "execution_count": 36
        }
      ]
    },
    {
      "cell_type": "code",
      "metadata": {
        "colab": {
          "base_uri": "https://localhost:8080/"
        },
        "id": "qiNiZnFQJcC5",
        "outputId": "720628dc-40fa-451b-884a-602950200d85"
      },
      "source": [
        "## Optimized method\n",
        "np.array(vectA) @ np.array(vectB) "
      ],
      "execution_count": null,
      "outputs": [
        {
          "output_type": "execute_result",
          "data": {
            "text/plain": [
              "23"
            ]
          },
          "metadata": {},
          "execution_count": 37
        }
      ]
    },
    {
      "cell_type": "markdown",
      "metadata": {
        "id": "23uTdW9eTTsC"
      },
      "source": [
        "### Task 3: Advanced Class Functions\n",
        "1. Optimize `get_grades()` by eliminating for loops in your function.\n",
        "2. Create a function named `get_similar_students()`\n",
        "  \n",
        "  `inputs`: two (2) class `DataFrames`\n",
        "  \n",
        "  `outputs`: list of common student numbers.\n",
        "\n",
        "  *Note*: The function should not contain iterative code blocks (i.e. `for` or `while` loops, or list comprehension)"
      ]
    },
    {
      "cell_type": "code",
      "metadata": {
        "id": "nGO2PPWcRTV7"
      },
      "source": [
        "### CODE HERE: TASK 3 NUMBER 1 ###\n",
        "semestralGrades_df = pd.read_csv('semestralGrades.csv')"
      ],
      "execution_count": null,
      "outputs": []
    },
    {
      "cell_type": "code",
      "metadata": {
        "colab": {
          "base_uri": "https://localhost:8080/",
          "height": 417
        },
        "id": "5970MCLlremT",
        "outputId": "d3c15a08-ce14-4f65-a7a2-b4410cb1d561"
      },
      "source": [
        "semestralGrades_df"
      ],
      "execution_count": null,
      "outputs": [
        {
          "output_type": "execute_result",
          "data": {
            "text/html": [
              "<div>\n",
              "<style scoped>\n",
              "    .dataframe tbody tr th:only-of-type {\n",
              "        vertical-align: middle;\n",
              "    }\n",
              "\n",
              "    .dataframe tbody tr th {\n",
              "        vertical-align: top;\n",
              "    }\n",
              "\n",
              "    .dataframe thead th {\n",
              "        text-align: right;\n",
              "    }\n",
              "</style>\n",
              "<table border=\"1\" class=\"dataframe\">\n",
              "  <thead>\n",
              "    <tr style=\"text-align: right;\">\n",
              "      <th></th>\n",
              "      <th>Unnamed: 0</th>\n",
              "      <th>name</th>\n",
              "      <th>id</th>\n",
              "      <th>prelim_grades</th>\n",
              "      <th>midterm_grades</th>\n",
              "      <th>final_grades</th>\n",
              "      <th>semestral_grade</th>\n",
              "    </tr>\n",
              "  </thead>\n",
              "  <tbody>\n",
              "    <tr>\n",
              "      <th>0</th>\n",
              "      <td>0</td>\n",
              "      <td>alpha</td>\n",
              "      <td>1</td>\n",
              "      <td>94.960000</td>\n",
              "      <td>95.260</td>\n",
              "      <td>92.2192</td>\n",
              "      <td>93.95368</td>\n",
              "    </tr>\n",
              "    <tr>\n",
              "      <th>1</th>\n",
              "      <td>1</td>\n",
              "      <td>aleph</td>\n",
              "      <td>2</td>\n",
              "      <td>94.960000</td>\n",
              "      <td>95.260</td>\n",
              "      <td>92.7792</td>\n",
              "      <td>94.17768</td>\n",
              "    </tr>\n",
              "    <tr>\n",
              "      <th>2</th>\n",
              "      <td>2</td>\n",
              "      <td>beta</td>\n",
              "      <td>3</td>\n",
              "      <td>78.173333</td>\n",
              "      <td>94.360</td>\n",
              "      <td>84.3200</td>\n",
              "      <td>85.48800</td>\n",
              "    </tr>\n",
              "    <tr>\n",
              "      <th>3</th>\n",
              "      <td>3</td>\n",
              "      <td>beth</td>\n",
              "      <td>4</td>\n",
              "      <td>78.173333</td>\n",
              "      <td>81.372</td>\n",
              "      <td>84.6400</td>\n",
              "      <td>81.71960</td>\n",
              "    </tr>\n",
              "    <tr>\n",
              "      <th>4</th>\n",
              "      <td>4</td>\n",
              "      <td>cuprum</td>\n",
              "      <td>5</td>\n",
              "      <td>94.960000</td>\n",
              "      <td>95.260</td>\n",
              "      <td>92.2192</td>\n",
              "      <td>93.95368</td>\n",
              "    </tr>\n",
              "    <tr>\n",
              "      <th>...</th>\n",
              "      <td>...</td>\n",
              "      <td>...</td>\n",
              "      <td>...</td>\n",
              "      <td>...</td>\n",
              "      <td>...</td>\n",
              "      <td>...</td>\n",
              "      <td>...</td>\n",
              "    </tr>\n",
              "    <tr>\n",
              "      <th>22</th>\n",
              "      <td>22</td>\n",
              "      <td>phalanx</td>\n",
              "      <td>23</td>\n",
              "      <td>84.826667</td>\n",
              "      <td>92.485</td>\n",
              "      <td>82.7792</td>\n",
              "      <td>86.30518</td>\n",
              "    </tr>\n",
              "    <tr>\n",
              "      <th>23</th>\n",
              "      <td>23</td>\n",
              "      <td>peta</td>\n",
              "      <td>24</td>\n",
              "      <td>94.960000</td>\n",
              "      <td>95.260</td>\n",
              "      <td>92.2192</td>\n",
              "      <td>93.95368</td>\n",
              "    </tr>\n",
              "    <tr>\n",
              "      <th>24</th>\n",
              "      <td>24</td>\n",
              "      <td>pi</td>\n",
              "      <td>25</td>\n",
              "      <td>79.806667</td>\n",
              "      <td>87.460</td>\n",
              "      <td>81.2792</td>\n",
              "      <td>82.69168</td>\n",
              "    </tr>\n",
              "    <tr>\n",
              "      <th>25</th>\n",
              "      <td>25</td>\n",
              "      <td>yotta</td>\n",
              "      <td>26</td>\n",
              "      <td>93.980000</td>\n",
              "      <td>97.300</td>\n",
              "      <td>94.8528</td>\n",
              "      <td>95.32512</td>\n",
              "    </tr>\n",
              "    <tr>\n",
              "      <th>26</th>\n",
              "      <td>26</td>\n",
              "      <td>zeta</td>\n",
              "      <td>27</td>\n",
              "      <td>86.626667</td>\n",
              "      <td>84.850</td>\n",
              "      <td>83.8672</td>\n",
              "      <td>84.98988</td>\n",
              "    </tr>\n",
              "  </tbody>\n",
              "</table>\n",
              "<p>27 rows × 7 columns</p>\n",
              "</div>"
            ],
            "text/plain": [
              "    Unnamed: 0     name  id  prelim_grades  midterm_grades  final_grades  \\\n",
              "0            0    alpha   1      94.960000          95.260       92.2192   \n",
              "1            1    aleph   2      94.960000          95.260       92.7792   \n",
              "2            2     beta   3      78.173333          94.360       84.3200   \n",
              "3            3     beth   4      78.173333          81.372       84.6400   \n",
              "4            4   cuprum   5      94.960000          95.260       92.2192   \n",
              "..         ...      ...  ..            ...             ...           ...   \n",
              "22          22  phalanx  23      84.826667          92.485       82.7792   \n",
              "23          23     peta  24      94.960000          95.260       92.2192   \n",
              "24          24       pi  25      79.806667          87.460       81.2792   \n",
              "25          25    yotta  26      93.980000          97.300       94.8528   \n",
              "26          26     zeta  27      86.626667          84.850       83.8672   \n",
              "\n",
              "    semestral_grade  \n",
              "0          93.95368  \n",
              "1          94.17768  \n",
              "2          85.48800  \n",
              "3          81.71960  \n",
              "4          93.95368  \n",
              "..              ...  \n",
              "22         86.30518  \n",
              "23         93.95368  \n",
              "24         82.69168  \n",
              "25         95.32512  \n",
              "26         84.98988  \n",
              "\n",
              "[27 rows x 7 columns]"
            ]
          },
          "metadata": {},
          "execution_count": 90
        }
      ]
    },
    {
      "cell_type": "code",
      "metadata": {
        "colab": {
          "base_uri": "https://localhost:8080/",
          "height": 417
        },
        "id": "_kVdeJtqrxa1",
        "outputId": "a0317cb3-0def-4272-b432-f25f4f6c689c"
      },
      "source": [
        "semestralGrades_df = semestralGrades_df.replace(np.nan,0)\n",
        "semestralGrades_df"
      ],
      "execution_count": null,
      "outputs": [
        {
          "output_type": "execute_result",
          "data": {
            "text/html": [
              "<div>\n",
              "<style scoped>\n",
              "    .dataframe tbody tr th:only-of-type {\n",
              "        vertical-align: middle;\n",
              "    }\n",
              "\n",
              "    .dataframe tbody tr th {\n",
              "        vertical-align: top;\n",
              "    }\n",
              "\n",
              "    .dataframe thead th {\n",
              "        text-align: right;\n",
              "    }\n",
              "</style>\n",
              "<table border=\"1\" class=\"dataframe\">\n",
              "  <thead>\n",
              "    <tr style=\"text-align: right;\">\n",
              "      <th></th>\n",
              "      <th>Unnamed: 0</th>\n",
              "      <th>name</th>\n",
              "      <th>id</th>\n",
              "      <th>prelim_grades</th>\n",
              "      <th>midterm_grades</th>\n",
              "      <th>final_grades</th>\n",
              "      <th>semestral_grade</th>\n",
              "    </tr>\n",
              "  </thead>\n",
              "  <tbody>\n",
              "    <tr>\n",
              "      <th>0</th>\n",
              "      <td>0</td>\n",
              "      <td>alpha</td>\n",
              "      <td>1</td>\n",
              "      <td>94.960000</td>\n",
              "      <td>95.260</td>\n",
              "      <td>92.2192</td>\n",
              "      <td>93.95368</td>\n",
              "    </tr>\n",
              "    <tr>\n",
              "      <th>1</th>\n",
              "      <td>1</td>\n",
              "      <td>aleph</td>\n",
              "      <td>2</td>\n",
              "      <td>94.960000</td>\n",
              "      <td>95.260</td>\n",
              "      <td>92.7792</td>\n",
              "      <td>94.17768</td>\n",
              "    </tr>\n",
              "    <tr>\n",
              "      <th>2</th>\n",
              "      <td>2</td>\n",
              "      <td>beta</td>\n",
              "      <td>3</td>\n",
              "      <td>78.173333</td>\n",
              "      <td>94.360</td>\n",
              "      <td>84.3200</td>\n",
              "      <td>85.48800</td>\n",
              "    </tr>\n",
              "    <tr>\n",
              "      <th>3</th>\n",
              "      <td>3</td>\n",
              "      <td>beth</td>\n",
              "      <td>4</td>\n",
              "      <td>78.173333</td>\n",
              "      <td>81.372</td>\n",
              "      <td>84.6400</td>\n",
              "      <td>81.71960</td>\n",
              "    </tr>\n",
              "    <tr>\n",
              "      <th>4</th>\n",
              "      <td>4</td>\n",
              "      <td>cuprum</td>\n",
              "      <td>5</td>\n",
              "      <td>94.960000</td>\n",
              "      <td>95.260</td>\n",
              "      <td>92.2192</td>\n",
              "      <td>93.95368</td>\n",
              "    </tr>\n",
              "    <tr>\n",
              "      <th>...</th>\n",
              "      <td>...</td>\n",
              "      <td>...</td>\n",
              "      <td>...</td>\n",
              "      <td>...</td>\n",
              "      <td>...</td>\n",
              "      <td>...</td>\n",
              "      <td>...</td>\n",
              "    </tr>\n",
              "    <tr>\n",
              "      <th>22</th>\n",
              "      <td>22</td>\n",
              "      <td>phalanx</td>\n",
              "      <td>23</td>\n",
              "      <td>84.826667</td>\n",
              "      <td>92.485</td>\n",
              "      <td>82.7792</td>\n",
              "      <td>86.30518</td>\n",
              "    </tr>\n",
              "    <tr>\n",
              "      <th>23</th>\n",
              "      <td>23</td>\n",
              "      <td>peta</td>\n",
              "      <td>24</td>\n",
              "      <td>94.960000</td>\n",
              "      <td>95.260</td>\n",
              "      <td>92.2192</td>\n",
              "      <td>93.95368</td>\n",
              "    </tr>\n",
              "    <tr>\n",
              "      <th>24</th>\n",
              "      <td>24</td>\n",
              "      <td>pi</td>\n",
              "      <td>25</td>\n",
              "      <td>79.806667</td>\n",
              "      <td>87.460</td>\n",
              "      <td>81.2792</td>\n",
              "      <td>82.69168</td>\n",
              "    </tr>\n",
              "    <tr>\n",
              "      <th>25</th>\n",
              "      <td>25</td>\n",
              "      <td>yotta</td>\n",
              "      <td>26</td>\n",
              "      <td>93.980000</td>\n",
              "      <td>97.300</td>\n",
              "      <td>94.8528</td>\n",
              "      <td>95.32512</td>\n",
              "    </tr>\n",
              "    <tr>\n",
              "      <th>26</th>\n",
              "      <td>26</td>\n",
              "      <td>zeta</td>\n",
              "      <td>27</td>\n",
              "      <td>86.626667</td>\n",
              "      <td>84.850</td>\n",
              "      <td>83.8672</td>\n",
              "      <td>84.98988</td>\n",
              "    </tr>\n",
              "  </tbody>\n",
              "</table>\n",
              "<p>27 rows × 7 columns</p>\n",
              "</div>"
            ],
            "text/plain": [
              "    Unnamed: 0     name  id  prelim_grades  midterm_grades  final_grades  \\\n",
              "0            0    alpha   1      94.960000          95.260       92.2192   \n",
              "1            1    aleph   2      94.960000          95.260       92.7792   \n",
              "2            2     beta   3      78.173333          94.360       84.3200   \n",
              "3            3     beth   4      78.173333          81.372       84.6400   \n",
              "4            4   cuprum   5      94.960000          95.260       92.2192   \n",
              "..         ...      ...  ..            ...             ...           ...   \n",
              "22          22  phalanx  23      84.826667          92.485       82.7792   \n",
              "23          23     peta  24      94.960000          95.260       92.2192   \n",
              "24          24       pi  25      79.806667          87.460       81.2792   \n",
              "25          25    yotta  26      93.980000          97.300       94.8528   \n",
              "26          26     zeta  27      86.626667          84.850       83.8672   \n",
              "\n",
              "    semestral_grade  \n",
              "0          93.95368  \n",
              "1          94.17768  \n",
              "2          85.48800  \n",
              "3          81.71960  \n",
              "4          93.95368  \n",
              "..              ...  \n",
              "22         86.30518  \n",
              "23         93.95368  \n",
              "24         82.69168  \n",
              "25         95.32512  \n",
              "26         84.98988  \n",
              "\n",
              "[27 rows x 7 columns]"
            ]
          },
          "metadata": {},
          "execution_count": 87
        }
      ]
    },
    {
      "cell_type": "code",
      "metadata": {
        "id": "dNULiXfr19Sp"
      },
      "source": [
        "del semestralGrades_df['Unnamed: 0']"
      ],
      "execution_count": null,
      "outputs": []
    },
    {
      "cell_type": "code",
      "metadata": {
        "id": "kcxjKOWAtN_h"
      },
      "source": [
        "def optimized_get_grades(df):\n",
        "  prelim = df[\"prelim_grades\"]\n",
        "  midterm = df[\"midterm_grades\"]\n",
        "  final = df[\"final_grades\"]\n",
        "  df = sem_grades = prelim * 0.3 + midterm * 0.3 + final * 0.4\n",
        "  df[\"semestral_grades\"] = sem_grades\n",
        "  return df"
      ],
      "execution_count": null,
      "outputs": []
    },
    {
      "cell_type": "code",
      "metadata": {
        "colab": {
          "base_uri": "https://localhost:8080/",
          "height": 417
        },
        "id": "pbNwDfN8uzrq",
        "outputId": "c4f47e7c-bf7b-4024-bef5-6c989d193656"
      },
      "source": [
        "optimized_get_grades(semestralGrades_df)\n",
        "semestralGrades_df"
      ],
      "execution_count": null,
      "outputs": [
        {
          "output_type": "execute_result",
          "data": {
            "text/html": [
              "<div>\n",
              "<style scoped>\n",
              "    .dataframe tbody tr th:only-of-type {\n",
              "        vertical-align: middle;\n",
              "    }\n",
              "\n",
              "    .dataframe tbody tr th {\n",
              "        vertical-align: top;\n",
              "    }\n",
              "\n",
              "    .dataframe thead th {\n",
              "        text-align: right;\n",
              "    }\n",
              "</style>\n",
              "<table border=\"1\" class=\"dataframe\">\n",
              "  <thead>\n",
              "    <tr style=\"text-align: right;\">\n",
              "      <th></th>\n",
              "      <th>name</th>\n",
              "      <th>id</th>\n",
              "      <th>prelim_grades</th>\n",
              "      <th>midterm_grades</th>\n",
              "      <th>final_grades</th>\n",
              "      <th>semestral_grade</th>\n",
              "    </tr>\n",
              "  </thead>\n",
              "  <tbody>\n",
              "    <tr>\n",
              "      <th>0</th>\n",
              "      <td>alpha</td>\n",
              "      <td>1</td>\n",
              "      <td>94.960000</td>\n",
              "      <td>95.260</td>\n",
              "      <td>92.2192</td>\n",
              "      <td>93.95368</td>\n",
              "    </tr>\n",
              "    <tr>\n",
              "      <th>1</th>\n",
              "      <td>aleph</td>\n",
              "      <td>2</td>\n",
              "      <td>94.960000</td>\n",
              "      <td>95.260</td>\n",
              "      <td>92.7792</td>\n",
              "      <td>94.17768</td>\n",
              "    </tr>\n",
              "    <tr>\n",
              "      <th>2</th>\n",
              "      <td>beta</td>\n",
              "      <td>3</td>\n",
              "      <td>78.173333</td>\n",
              "      <td>94.360</td>\n",
              "      <td>84.3200</td>\n",
              "      <td>85.48800</td>\n",
              "    </tr>\n",
              "    <tr>\n",
              "      <th>3</th>\n",
              "      <td>beth</td>\n",
              "      <td>4</td>\n",
              "      <td>78.173333</td>\n",
              "      <td>81.372</td>\n",
              "      <td>84.6400</td>\n",
              "      <td>81.71960</td>\n",
              "    </tr>\n",
              "    <tr>\n",
              "      <th>4</th>\n",
              "      <td>cuprum</td>\n",
              "      <td>5</td>\n",
              "      <td>94.960000</td>\n",
              "      <td>95.260</td>\n",
              "      <td>92.2192</td>\n",
              "      <td>93.95368</td>\n",
              "    </tr>\n",
              "    <tr>\n",
              "      <th>...</th>\n",
              "      <td>...</td>\n",
              "      <td>...</td>\n",
              "      <td>...</td>\n",
              "      <td>...</td>\n",
              "      <td>...</td>\n",
              "      <td>...</td>\n",
              "    </tr>\n",
              "    <tr>\n",
              "      <th>22</th>\n",
              "      <td>phalanx</td>\n",
              "      <td>23</td>\n",
              "      <td>84.826667</td>\n",
              "      <td>92.485</td>\n",
              "      <td>82.7792</td>\n",
              "      <td>86.30518</td>\n",
              "    </tr>\n",
              "    <tr>\n",
              "      <th>23</th>\n",
              "      <td>peta</td>\n",
              "      <td>24</td>\n",
              "      <td>94.960000</td>\n",
              "      <td>95.260</td>\n",
              "      <td>92.2192</td>\n",
              "      <td>93.95368</td>\n",
              "    </tr>\n",
              "    <tr>\n",
              "      <th>24</th>\n",
              "      <td>pi</td>\n",
              "      <td>25</td>\n",
              "      <td>79.806667</td>\n",
              "      <td>87.460</td>\n",
              "      <td>81.2792</td>\n",
              "      <td>82.69168</td>\n",
              "    </tr>\n",
              "    <tr>\n",
              "      <th>25</th>\n",
              "      <td>yotta</td>\n",
              "      <td>26</td>\n",
              "      <td>93.980000</td>\n",
              "      <td>97.300</td>\n",
              "      <td>94.8528</td>\n",
              "      <td>95.32512</td>\n",
              "    </tr>\n",
              "    <tr>\n",
              "      <th>26</th>\n",
              "      <td>zeta</td>\n",
              "      <td>27</td>\n",
              "      <td>86.626667</td>\n",
              "      <td>84.850</td>\n",
              "      <td>83.8672</td>\n",
              "      <td>84.98988</td>\n",
              "    </tr>\n",
              "  </tbody>\n",
              "</table>\n",
              "<p>27 rows × 6 columns</p>\n",
              "</div>"
            ],
            "text/plain": [
              "       name  id  prelim_grades  midterm_grades  final_grades  semestral_grade\n",
              "0     alpha   1      94.960000          95.260       92.2192         93.95368\n",
              "1     aleph   2      94.960000          95.260       92.7792         94.17768\n",
              "2      beta   3      78.173333          94.360       84.3200         85.48800\n",
              "3      beth   4      78.173333          81.372       84.6400         81.71960\n",
              "4    cuprum   5      94.960000          95.260       92.2192         93.95368\n",
              "..      ...  ..            ...             ...           ...              ...\n",
              "22  phalanx  23      84.826667          92.485       82.7792         86.30518\n",
              "23     peta  24      94.960000          95.260       92.2192         93.95368\n",
              "24       pi  25      79.806667          87.460       81.2792         82.69168\n",
              "25    yotta  26      93.980000          97.300       94.8528         95.32512\n",
              "26     zeta  27      86.626667          84.850       83.8672         84.98988\n",
              "\n",
              "[27 rows x 6 columns]"
            ]
          },
          "metadata": {},
          "execution_count": 93
        }
      ]
    },
    {
      "cell_type": "code",
      "metadata": {
        "colab": {
          "base_uri": "https://localhost:8080/"
        },
        "id": "vnpTJNVQvidJ",
        "outputId": "44732485-0d75-4199-fea5-c03a8ba2f7a1"
      },
      "source": [
        "### CODE HERE: TASK 3 NUMBER 2 ###\n",
        "classlists_df = pd.read_excel('classlists.xlsx', sheet_name=['class1','class2'])\n",
        "classlists_df"
      ],
      "execution_count": null,
      "outputs": [
        {
          "output_type": "execute_result",
          "data": {
            "text/plain": [
              "{'class1':      201009754\n",
              " 0    201109795\n",
              " 1    201005713\n",
              " 2    201009855\n",
              " 3    201006171\n",
              " 4    201103568\n",
              " ..         ...\n",
              " 994  201108927\n",
              " 995  201005697\n",
              " 996  201005744\n",
              " 997  201109959\n",
              " 998  201109382\n",
              " \n",
              " [999 rows x 1 columns], 'class2':      201103056\n",
              " 0    201105136\n",
              " 1    201002284\n",
              " 2    201104588\n",
              " 3    201004799\n",
              " 4    201005725\n",
              " ..         ...\n",
              " 994  201101346\n",
              " 995  201007625\n",
              " 996  201003815\n",
              " 997  201102428\n",
              " 998  201006876\n",
              " \n",
              " [999 rows x 1 columns]}"
            ]
          },
          "metadata": {},
          "execution_count": 78
        }
      ]
    },
    {
      "cell_type": "code",
      "metadata": {
        "id": "in5c1WiMx7qB"
      },
      "source": [
        "def get_similar_students(df):\n",
        "  df_counts = df['class2'].value_counts()\n",
        "  df = pd.DataFrame(df_counts)\n",
        "  return df"
      ],
      "execution_count": null,
      "outputs": []
    },
    {
      "cell_type": "code",
      "metadata": {
        "colab": {
          "base_uri": "https://localhost:8080/",
          "height": 447
        },
        "id": "E9oLY1vTyKyA",
        "outputId": "07a9dbed-7d49-4708-df40-46c1fb41920b"
      },
      "source": [
        "get_similar_students(classlists_df)"
      ],
      "execution_count": null,
      "outputs": [
        {
          "output_type": "execute_result",
          "data": {
            "text/html": [
              "<div>\n",
              "<style scoped>\n",
              "    .dataframe tbody tr th:only-of-type {\n",
              "        vertical-align: middle;\n",
              "    }\n",
              "\n",
              "    .dataframe tbody tr th {\n",
              "        vertical-align: top;\n",
              "    }\n",
              "\n",
              "    .dataframe thead th {\n",
              "        text-align: right;\n",
              "    }\n",
              "</style>\n",
              "<table border=\"1\" class=\"dataframe\">\n",
              "  <thead>\n",
              "    <tr style=\"text-align: right;\">\n",
              "      <th></th>\n",
              "      <th>0</th>\n",
              "    </tr>\n",
              "    <tr>\n",
              "      <th>201103056</th>\n",
              "      <th></th>\n",
              "    </tr>\n",
              "  </thead>\n",
              "  <tbody>\n",
              "    <tr>\n",
              "      <th>201107845</th>\n",
              "      <td>3</td>\n",
              "    </tr>\n",
              "    <tr>\n",
              "      <th>201104795</th>\n",
              "      <td>3</td>\n",
              "    </tr>\n",
              "    <tr>\n",
              "      <th>201007563</th>\n",
              "      <td>2</td>\n",
              "    </tr>\n",
              "    <tr>\n",
              "      <th>201006369</th>\n",
              "      <td>2</td>\n",
              "    </tr>\n",
              "    <tr>\n",
              "      <th>201105325</th>\n",
              "      <td>2</td>\n",
              "    </tr>\n",
              "    <tr>\n",
              "      <th>...</th>\n",
              "      <td>...</td>\n",
              "    </tr>\n",
              "    <tr>\n",
              "      <th>201103418</th>\n",
              "      <td>1</td>\n",
              "    </tr>\n",
              "    <tr>\n",
              "      <th>201103385</th>\n",
              "      <td>1</td>\n",
              "    </tr>\n",
              "    <tr>\n",
              "      <th>201103344</th>\n",
              "      <td>1</td>\n",
              "    </tr>\n",
              "    <tr>\n",
              "      <th>201103332</th>\n",
              "      <td>1</td>\n",
              "    </tr>\n",
              "    <tr>\n",
              "      <th>201001032</th>\n",
              "      <td>1</td>\n",
              "    </tr>\n",
              "  </tbody>\n",
              "</table>\n",
              "<p>973 rows × 1 columns</p>\n",
              "</div>"
            ],
            "text/plain": [
              "           0\n",
              "201103056   \n",
              "201107845  3\n",
              "201104795  3\n",
              "201007563  2\n",
              "201006369  2\n",
              "201105325  2\n",
              "...       ..\n",
              "201103418  1\n",
              "201103385  1\n",
              "201103344  1\n",
              "201103332  1\n",
              "201001032  1\n",
              "\n",
              "[973 rows x 1 columns]"
            ]
          },
          "metadata": {},
          "execution_count": 79
        }
      ]
    },
    {
      "cell_type": "markdown",
      "metadata": {
        "id": "mJoJ5ZjbKWFt"
      },
      "source": [
        "# 2. Some Object-Oriented Programming Concepts\n",
        "\n",
        "Object-oriented programming (OOP) is undoubtedly a foundational programming course for Software Engineering. The idea of OOP is to transform procedural programming into a more modular programming style. In this section, we are going to review the fundamentals of OOP such as objects, classes, and encapsulation."
      ]
    },
    {
      "cell_type": "markdown",
      "metadata": {
        "id": "5yuIoWHU1_0v"
      },
      "source": [
        "## 2.1 Objects and Classes\n",
        "Learning about objects and classes is one of the foundations of OOP. Think of objects as any object that you could see. Like cars, shirts, humans, professions, even your favorite anime characters. Classes on the other hand are the categories or concepts of those things. In this section, we’ll review how to instantiate classes and objects."
      ]
    },
    {
      "cell_type": "markdown",
      "metadata": {
        "id": "90KYzkth2VLX"
      },
      "source": [
        "### *Attributes and Methods*\n",
        "Just like any object are just things we could describe them or they could have what we call descriptions or characteristics. In OOP we call these attributes. Attributes can be any value representing an aspect of the object which is inclusive to its concept of class. For example, a tree (object)  under the category of plants (class) could have attributes such as its name, age, height, or even the amount of oxygen it produces.\n",
        "\n",
        "Methods, on the other hand, are interactions that could be done by the object or could be done onto the object. For example for our tree, it could grow, photosynthesize, absorb water, or we could harvest its fruits. In this example, we can try to review the attributes and methods of a class or object."
      ]
    },
    {
      "cell_type": "code",
      "metadata": {
        "id": "xguJ6ns5pVfc"
      },
      "source": [
        "'''\n",
        "    CASE 4: Class of Classes\n",
        "\n",
        "    For this section we are going to look at implementing the fundamentals of\n",
        "    OOP for our class routines.\n",
        "'''\n",
        "class Section:\n",
        "  def __init__(self, max_pop, class_list):\n",
        "    self.max_pop = max_pop\n",
        "    self.class_list = class_list\n",
        "  \n",
        "  def count_class(self):\n",
        "    return len(self.class_list)\n",
        "\n",
        "  def is_overloaded(self):\n",
        "    is_overload = True if self.count_class() > self.max_pop else False\n",
        "    return is_overload"
      ],
      "execution_count": null,
      "outputs": []
    },
    {
      "cell_type": "markdown",
      "metadata": {
        "id": "mF2MlzFv2ZQw"
      },
      "source": [
        "### *Class Instantiation*\n",
        "Now that we have created our class let’s try to put them to use in code. To use classes and objects in your code we are going to instantiate them. There are several ways to instantiate an object and we will be trying them out in this section."
      ]
    },
    {
      "cell_type": "code",
      "metadata": {
        "id": "8kJC6vsWpTET",
        "colab": {
          "base_uri": "https://localhost:8080/"
        },
        "outputId": "841de3f3-e223-40cd-9203-6ca36bf5a69c"
      },
      "source": [
        "CpE_58053 = Section(40, ['John'])\n",
        "print(CpE_58053.is_overloaded())\n",
        "print(CpE_58053.count_class())"
      ],
      "execution_count": null,
      "outputs": [
        {
          "output_type": "execute_result",
          "data": {
            "text/plain": [
              "False"
            ]
          },
          "metadata": {},
          "execution_count": 28
        }
      ]
    },
    {
      "cell_type": "markdown",
      "metadata": {
        "id": "mhDqZEML3hRf"
      },
      "source": [
        "## 2.2 Encapsulation\n",
        "The idea of incapsulation is to restrict users or developers from using or tampering with the internal attributes or methods of a class. This would be similar to using the private or public property in Java, C++, or C#. Python also enforces this in programming but in a different way. \n",
        "\n",
        "Not every procedure or transaction in a class should be shown to the users. We used the concept of encapsulation to solve this. In Python, all attributes, variables, or methods are public by default. In this section, we will see how to make methods and attributes private."
      ]
    },
    {
      "cell_type": "code",
      "metadata": {
        "id": "uGGueFuLpSDk"
      },
      "source": [
        "class Section:\n",
        "  def __init__(self, max_pop, class_list):\n",
        "    self.max_pop = max_pop\n",
        "    self.class_list = class_list\n",
        "  \n",
        "  def __count_class(self):\n",
        "    return len(self.class_list)\n",
        "\n",
        "  def is_overloaded(self):\n",
        "    is_overload = True if self.__count_class() > self.max_pop else False\n",
        "    return is_overload"
      ],
      "execution_count": null,
      "outputs": []
    },
    {
      "cell_type": "code",
      "metadata": {
        "id": "cJai7CiAeZPj"
      },
      "source": [
        "CpE_58054 = Section(2, ['Jeanne', 'Pietro', 'Dude'])\n",
        "print(CpE_58054.is_overloaded())\n",
        "print(CpE_58054.__count_class())"
      ],
      "execution_count": null,
      "outputs": []
    },
    {
      "cell_type": "markdown",
      "metadata": {
        "id": "Kp9E7V_ZgNmz"
      },
      "source": [
        "### Task 4: Class of Classes\n",
        "1. Modify the `class` `Section` and integrate the functions from Tasks 1 to 3 as its methods. Make sure that the codes are optimized.\n",
        "2. Create a `method` named `get_failed()` wherein it will create a list of all the failed students in the class.\n",
        "3. Create a `method` named `fail_count()` wherein it will return the count of the failed students.\n",
        "\n",
        "** **Note:** due to data privacy, the data privacy office has mandated your code to print the names of the failed students as well as to mask the names of the students if their grades are also displayed."
      ]
    },
    {
      "cell_type": "code",
      "metadata": {
        "id": "vpDE-npFgNBe"
      },
      "source": [
        "### CODE HERE ###"
      ],
      "execution_count": null,
      "outputs": []
    },
    {
      "cell_type": "markdown",
      "metadata": {
        "id": "UA_rrYvEihQ9"
      },
      "source": [
        "\n",
        "\n",
        "---\n",
        "**END OF LABORATORY**\n",
        "\n",
        "---\n"
      ]
    }
  ]
}
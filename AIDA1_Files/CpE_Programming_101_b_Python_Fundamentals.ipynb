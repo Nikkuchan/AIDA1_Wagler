{
  "nbformat": 4,
  "nbformat_minor": 0,
  "metadata": {
    "colab": {
      "name": "CpE Programming 101.b - Python Fundamentals",
      "provenance": [],
      "collapsed_sections": [],
      "toc_visible": true,
      "include_colab_link": true
    },
    "kernelspec": {
      "name": "python3",
      "display_name": "Python 3"
    }
  },
  "cells": [
    {
      "cell_type": "markdown",
      "metadata": {
        "id": "view-in-github",
        "colab_type": "text"
      },
      "source": [
        "<a href=\"https://colab.research.google.com/github/Nikkuchan/AIDA-Group8/blob/main/CpE_Programming_101_b_Python_Fundamentals.ipynb\" target=\"_parent\"><img src=\"https://colab.research.google.com/assets/colab-badge.svg\" alt=\"Open In Colab\"/></a>"
      ]
    },
    {
      "cell_type": "markdown",
      "metadata": {
        "id": "QnAdk8hy7Bl9"
      },
      "source": [
        "# Welcome to Python Fundamentals\r\n",
        "In this module, we are going to establish or review our skills in Python programming. In this notebook we are going to cover:\r\n",
        "* Variables and Data Types \r\n",
        "* Operations\r\n",
        "* Input and Output Operations\r\n",
        "* Logic Control\r\n",
        "* Iterables\r\n",
        "* Functions"
      ]
    },
    {
      "cell_type": "markdown",
      "metadata": {
        "id": "T6ABRAjTT1Ta"
      },
      "source": [
        "## **Variable and Data Types**\r\n",
        "---\r\n",
        "\r\n",
        "*Variables are used as a memory location for values that are eventutally used in programming. Setting variables should usually be a unique one since there are some terms that can duplicate as a function when programming [4].*\r\n",
        "\r\n",
        "*Common variables that are used when programming are: a,b,c,x,y,z. Most of these letters are used as a memory location for values, but when your programs includes a lot of terms and functions using a more unique name for each variable that will also hold values that are important to the program is helpful to avoid confusion.*\r\n",
        "\r\n",
        "*Setting variables in python will actually read it how it is listed. Below are examples of how variables function and used.*"
      ]
    },
    {
      "cell_type": "markdown",
      "metadata": {
        "id": "sI9fmC9NKeqh"
      },
      "source": [
        "**Variables:**\r\n",
        "In line 8, x is used as memory location for the value 1, wherein for a and b the values are listed but they are stored respectively."
      ]
    },
    {
      "cell_type": "code",
      "metadata": {
        "id": "G8JI3DTZ616F"
      },
      "source": [
        "x = 1\r\n",
        "a,b = 0, -1"
      ],
      "execution_count": null,
      "outputs": []
    },
    {
      "cell_type": "markdown",
      "metadata": {
        "id": "hmXKojM2KytX"
      },
      "source": [
        "**type() Function:**\r\n",
        "Using the type function, you can know the data type of the value that is stored in that variable.\r\n",
        "\r\n",
        "In line 9, you can see that the data type that is stored in x is an integer and for line 10 the data type is float."
      ]
    },
    {
      "cell_type": "code",
      "metadata": {
        "id": "QLT9rz2dUJ95",
        "colab": {
          "base_uri": "https://localhost:8080/"
        },
        "outputId": "2c993ef7-7972-456c-f316-3385885fbb20"
      },
      "source": [
        "type(x)"
      ],
      "execution_count": null,
      "outputs": [
        {
          "output_type": "execute_result",
          "data": {
            "text/plain": [
              "int"
            ]
          },
          "metadata": {
            "tags": []
          },
          "execution_count": 9
        }
      ]
    },
    {
      "cell_type": "code",
      "metadata": {
        "id": "TR_rvX4SUWqx",
        "colab": {
          "base_uri": "https://localhost:8080/"
        },
        "outputId": "e0c99c4e-8ed5-4ff8-9a39-63bc3d441886"
      },
      "source": [
        "y = 1.0\r\n",
        "type(y)"
      ],
      "execution_count": null,
      "outputs": [
        {
          "output_type": "execute_result",
          "data": {
            "text/plain": [
              "float"
            ]
          },
          "metadata": {
            "tags": []
          },
          "execution_count": 10
        }
      ]
    },
    {
      "cell_type": "code",
      "metadata": {
        "id": "FqV2upOiXcnC",
        "colab": {
          "base_uri": "https://localhost:8080/"
        },
        "outputId": "3a758635-9358-4a7d-cc3b-4f91c2f019c8"
      },
      "source": [
        "x = float(x)\r\n",
        "type(x)"
      ],
      "execution_count": null,
      "outputs": [
        {
          "output_type": "execute_result",
          "data": {
            "text/plain": [
              "float"
            ]
          },
          "metadata": {
            "tags": []
          },
          "execution_count": 11
        }
      ]
    },
    {
      "cell_type": "code",
      "metadata": {
        "id": "2tuyqwmyXiDb",
        "colab": {
          "base_uri": "https://localhost:8080/"
        },
        "outputId": "a40ee7f3-9d98-4c47-83c6-925f3f046374"
      },
      "source": [
        "s,t,u = \"0\", '1', 'one'\r\n",
        "type(s)"
      ],
      "execution_count": null,
      "outputs": [
        {
          "output_type": "execute_result",
          "data": {
            "text/plain": [
              "str"
            ]
          },
          "metadata": {
            "tags": []
          },
          "execution_count": 12
        }
      ]
    },
    {
      "cell_type": "code",
      "metadata": {
        "id": "6JwWqHx3XlmB",
        "colab": {
          "base_uri": "https://localhost:8080/"
        },
        "outputId": "aba90697-d8d8-43af-8a8c-2ad763ebb39c"
      },
      "source": [
        "s_int = int(s)\r\n",
        "s_int"
      ],
      "execution_count": null,
      "outputs": [
        {
          "output_type": "execute_result",
          "data": {
            "text/plain": [
              "0"
            ]
          },
          "metadata": {
            "tags": []
          },
          "execution_count": 13
        }
      ]
    },
    {
      "cell_type": "markdown",
      "metadata": {
        "id": "9RgPwQR4YVG5"
      },
      "source": [
        "## **Operations**\r\n",
        "---\r\n",
        "In Python, we use operators which are special symbols that performs certain computations. There are many types of operations in python including the *arithmetic, assignment, comparison, logical, and identity operators [5].*"
      ]
    },
    {
      "cell_type": "markdown",
      "metadata": {
        "id": "mvoS_zuJYbsg"
      },
      "source": [
        "### **Arithmetic**\r\n",
        "*These are used to perform the basic operators that we have been used to using from our earlier days in mathematics. The arithmetic operators consists of: addition, subtraction, multiplication, division, floor division, exponentiation, and modulo. Some of this terms are new since this are used differently with basic mathematics. Below are there functions within Python Programming. [5]*"
      ]
    },
    {
      "cell_type": "code",
      "metadata": {
        "id": "DSjUO0KcYoE-"
      },
      "source": [
        "a,b,c,d = 2.0, -0.5, 0, -32"
      ],
      "execution_count": null,
      "outputs": []
    },
    {
      "cell_type": "markdown",
      "metadata": {
        "id": "nZsmN-uB5iYI"
      },
      "source": [
        "**Assignment of Values:**\r\n",
        "In this line of codes, you can see that the variables a, b, c, and d are set with values respectively. These variables which holds those values would become useful whenever you are to use operators in programming. These variables would be called whenever you are to use an arithmetic operator, the numbers which they hold are the one being used with the operator.\r\n",
        "\r\n",
        "*To use these values. Run the code first.*"
      ]
    },
    {
      "cell_type": "code",
      "metadata": {
        "id": "o_kk0XFzYX9o",
        "colab": {
          "base_uri": "https://localhost:8080/"
        },
        "outputId": "bc970ef6-12fe-41dc-e14d-cfa41420269a"
      },
      "source": [
        "### Addition\r\n",
        "S = a+b\r\n",
        "S"
      ],
      "execution_count": null,
      "outputs": [
        {
          "output_type": "execute_result",
          "data": {
            "text/plain": [
              "1.5"
            ]
          },
          "metadata": {
            "tags": []
          },
          "execution_count": 3
        }
      ]
    },
    {
      "cell_type": "markdown",
      "metadata": {
        "id": "qPZB7wHb6m7A"
      },
      "source": [
        "**Addition Arithmetic Operator:**\r\n",
        "This arithmetic operator adds values on either side of the operators [5]. The codes above is an example. Running the codes gaves us the sum of 1.5\r\n",
        "\r\n",
        "![SAMPLE 0 ADDITION.png](data:image/png;base64,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)"
      ]
    },
    {
      "cell_type": "code",
      "metadata": {
        "id": "TC5oFq3MY4jk",
        "colab": {
          "base_uri": "https://localhost:8080/"
        },
        "outputId": "7f219568-a293-4d92-a566-d4dc7df6a9d6"
      },
      "source": [
        "### Subtraction\r\n",
        "D = b-a\r\n",
        "D"
      ],
      "execution_count": null,
      "outputs": [
        {
          "output_type": "execute_result",
          "data": {
            "text/plain": [
              "-2.5"
            ]
          },
          "metadata": {
            "tags": []
          },
          "execution_count": 8
        }
      ]
    },
    {
      "cell_type": "markdown",
      "metadata": {
        "id": "Cdl2sNCo-KpA"
      },
      "source": [
        "**Subtraction Arithmetic Operator:**\r\n",
        "This arithmetic operator subtracts values from right side operand to left side operand [5]. Running the codes above will give you an ideal answer which is a positive difference, but if the right hand operand has a lesser value than the left hand operand you will get a negative differnce.\r\n",
        "\r\n",
        "![SAMPLE 1 SUBTRACTION.png](data:image/png;base64,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)  ![SAMPLE 2 SUBTRACTION.png](data:image/png;base64,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)"
      ]
    },
    {
      "cell_type": "code",
      "metadata": {
        "id": "j0bGayj5Y9wr",
        "colab": {
          "base_uri": "https://localhost:8080/"
        },
        "outputId": "4c736a1c-34df-4fc4-bc74-e9b87cf63f74"
      },
      "source": [
        "### Multiplication\r\n",
        "P = a*d\r\n",
        "P"
      ],
      "execution_count": null,
      "outputs": [
        {
          "output_type": "execute_result",
          "data": {
            "text/plain": [
              "-64.0"
            ]
          },
          "metadata": {
            "tags": []
          },
          "execution_count": 9
        }
      ]
    },
    {
      "cell_type": "markdown",
      "metadata": {
        "id": "ePUDwovCA8EX"
      },
      "source": [
        "**Multiplication Arithmetic Operator:**\r\n",
        "This arithmetic operator is similar to how the addition arithmetic operator functions. The multiplication operator multiplies values on either side of the operator [5].\r\n",
        "\r\n",
        "![SAMPLE 3 MULTIPLICATION.png](data:image/png;base64,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)"
      ]
    },
    {
      "cell_type": "code",
      "metadata": {
        "id": "FnMWmq5LZLEU",
        "colab": {
          "base_uri": "https://localhost:8080/"
        },
        "outputId": "03774388-0998-4f67-bae0-6e4bb2a987cf"
      },
      "source": [
        "### Division\r\n",
        "Q = c/a\r\n",
        "Q"
      ],
      "execution_count": null,
      "outputs": [
        {
          "output_type": "execute_result",
          "data": {
            "text/plain": [
              "0.0"
            ]
          },
          "metadata": {
            "tags": []
          },
          "execution_count": 18
        }
      ]
    },
    {
      "cell_type": "markdown",
      "metadata": {
        "id": "B8FdTcImBdSX"
      },
      "source": [
        "**Division Arithmetic Operator:**\r\n",
        "This arithmetic operator also has its own restrictions. To use the division operator (/) it divides from the left hand operand to the right hand operand [5]. Another thing about this type of division is that it follows the rule of what a normal division is. Since variable c holds a negative value it will give us the quotient value of 0.0\r\n",
        "\r\n",
        "![SAMPLE 4 DIVISION.png](data:image/png;base64,iVBORw0KGgoAAAANSUhEUgAAAPEAAACiCAYAAACQ0StQAAAAAXNSR0IArs4c6QAAAARnQU1BAACxjwv8YQUAAAAJcEhZcwAAEnQAABJ0Ad5mH3gAABIcSURBVHhe7d1vbBRnfgfwnwnkWIgCnCEmRXAbwpFcdVViqM5taMSql0SplMSBKmcIVXFEXvAifxQpknVviMMbZBQpf5QXvKExUgk4UY84aXsnQlqfdCRxVM6gK72EcGRDzhd8QMCAvQZj0+f77POsZ2dn17P2s+ud9fcjDTszOzv+w3zn+TczrrmhCBFFVtEhZuaJKkvBEDOwRJUvJ8QMLlG0ZEIcNrwMOVFl0SEuFMxC7xHR1KsZHR3NSWlQcBlmosqUFWJ/UMdbJqKplwmxN6D55iFMkBl2ovLRIQ4Krf8VvPPgXyai8qsZGRnJJNEbXO+8lW+eiKZOJsT+4PonVWJn3rO880Q0NXSIbRhtWDHZebz6J7utl3+ZiMqj5vr16zp9CKEKtH5FeM+ePas3iLq6ujozR1SdZuAfG2BAgFWw9TwRVb5MiAFBxjQ8PKyXiajyzUCA7WRL4WvXrpm3iajSZUKMAGNCKcwQE0VHpjqNAKMqzZKYKFpyqtM2yEQUDbokBm+VmiEmio6sEHtLYyKKhqwhJhtkIoqOwBCjNCaiaNAdW0QUXTVDQ0M30JGF8WE1LwMDA3Lx4kVZuHCh2cStL774QgYHB+X06dN6edmyZTJnzhy566679LJrvHaaql0mxBgbvnr1qly5ckX6+/udhhiB/fDDD6Wnp0cHOAiCXF9fLw8++KAOtisMMVW7koYYgd23b58cPnzYrAlnzZo1snHjRh3syWKIqdqVLMQofd988005d+6cWVMcfP1nnnlm0qUyQ0zVLjNO7BICvHPnzgkHGPBZ7MO2nYkomPMQowqNEjhf27cYLvc1LRxrk1hbTGK7OqTPrJqwMx2yAftqa5Nus2ri+qRjF/YVk7ZjZhU54zzEb7/99qRKYD/sC/skomBO28So+ra2tpqlYEuXLtXBTKVSZk04qFpP5HsK3SZGybPngKzbvF+aFquy49AGiZ9/QVJNDWaDtO6OmCSky6zvlra2VyVuPjMG6xMiD6ek5R61iBLyk7gktzZJMS10/bWSZiGjUdpzvh5NZ05L4oMHD5q5/FatWiUtLS06zMV47733zFwp1UvchCN5vjM9E6CxNp6eOZOUnvRcgEaJm8T2nc2/1bjmtUuyJSUpMyVXizTvicmGQ5OuMFOVcBpijAOHgR5nBPm+++4za8Z39OhRM1cifUnpnBeXdDz7JHnBE9aM9Pr6RTad6jOe4GfocPtOCAviRZXC+dQ9sF+61LfVeeR56ThjVtq2sJ06cluxKNWD27eoNXg+k2kLm6lQ+9q/bc7+x9rC6WnD2Pecw3wfebdNv482NWpJY9u5aLNHm7MQ40qsYqrIGAN++umnZcuWLRKLxcza/NC5ha/hnA3Ar1QzoL9Z4vrAiEtzP4IS1++1HbMHY3p966/MAYTPSKskMI+D3R7Ue5pVuM16NekqcTKh512UoA1r21U53ykH/tfs654WU1InpX1eepVfw93p77XL37F0rEutVVX0tabZsLhJ9ptSHyeLvHTzo1lkdTJTS0htjsurWSeQOmnaat57uEAzS/8fJKTHsy9b4/B3hOF3r5s5ejv8vOr37KIjL8KchXiiPci4sCNs9bokvdQmAMnVjSJx1dbVBwcObHXAqDYtllvusQejOeA32wNNfcZWd9HetQHAAZupBqeD1WgO0P0PuCiP0zrP5zSY87snkf6ZPs8ut7o/x/e6ThLFtrF1LaRR1v3Y8/Pg5/f1IYxPnSA/Ud+D+t17fzd1D7yuf2+tn/gCit9r5mvUSWKF+j/oT0oRv4mq4yzEkxnPDVu9LuWYcVYbWFeHx9q0Gb42cL5qcnYbWB1gqvTOVMFdWBxXlfViNUgzTjrJLk/1s1u61NHfuCJRfFW/Lq5rA817ClWRQzjTJQfU7ye36RIc0Al9r1XOaZt4smpqaszc1Mg9kIIEtIGDOGoDByrYoZZf3Y/XqeB5qtTHULNolRcmUjvQtQ58HkE2zYtJtE/zn+R6JDmZk8Q04CzEk7k80l7hNd411i5vjLBsxwvarbYNnG7TmoMT7S3bbi7Q1kXbLd15pNpsR1QJbdajraersbod7agTRldl1T7vLrLqujgh61BFNVVqXZWOJ1QZPVENqgaVblqk27z43bjuaAp50pzGnIV4ojcrILhhL690cUOE31hbVx2Cpg2c09b1tpszbV1/u1kd0k2Yz24D24O7S3+mZRKBsUwbEoHBGHRRVNv+b9VndZU6XZUu+kSQD35H+mctsuT0nVjG9EnXSXWqmtRJZnpwFmLcDxyml9lCJ9Xu3bv1FKbDCvsu1T3Hab42cL7qcNb6gHazkVU9zAxdTRZ6yU0P+cMTPCHoDi51UulQJyF1Qmou+kSQhmEef8+xLtmLLjntiSWRtb++Q8+rn9PTa055OW0T437gMMJWn73C7ntCgjqsAuR2fgVJd2RZk7rQAzLDXphUgBeke9D1lWCGrcbbIbCxqnzQtcoNklBnlNZka2AnkXcMVjcXPF/fOzyG8erE5/brmu0voJbiObl4x5H1cJyn/ewdFjKleGboTk3xI/Wq9sIr08Io+2WXaNfisstih4tKftklUUQ5LYkR0DDDRMUGGPucSICJpgOnIYYnn3xSamtrzdLkYV/YJxEFcx5i9CA/++yzRXVy5YN9YF+l6JUmqhbOQwz2CqzJlMj4LPZRirFhompS8gfl4Yb+jz/+2KwJB21gVKFdlMDs2KJqV9IQW+jMwr3GuFUx351OqDpjGOnxxx93+rUZYqp2ZQmxFx8eT+RW2UNcbgwxVbuSdGwRUfkwxEQRxxBXq8/aJBbbIB29ZpmqFkNcpbo/ahXZ9oI0LTErqGoxxFZvh2yIxfRQV3qKcCmmfpZXt4u0/pS38U0HDLHS984Gia1olvpfp/Q4NqaubZ3SvCImbZ+ZjSKk7/CB9BNIfmJWUFVjiKVb2jd3qqpnl7R4DvqGnyelfb0qzV6vhMehdktbVi2h0CNw0j9P457mwIcGdO/w7kdNO9w+TIfKjyH+DI/ZaZT2f/Yf8nWSaGwU+cUB6ZrKarXuoEpIqzrJ2FpCKpWQrnzhMz/PujW54+OocXT9dKy2kTrZLo3bEwxyxE37EOsOIDxSJqADqC6Op4l0SjJ0iPukY5OvpPNOm4ot1dX+XkcHlQrwz70nmQZpyVoeU6hDq+5n+7NqG7KkSV7Ypl63ex9jS1HDktipOmna6ynp/NPe4v6gmvR2yYFfFNFBNYEOrfidqrZBkcYQaz1FlLZl1Jv+KwtBtYQgukNrfbs05+3Q8retYxJHfwBF2rQPcaGSqC+Jh9yFD5Hz6vSS9F9ZCHeCMR1ajfn+QgICrNrWKuRJT+0guYclcdRN+xDXrcFfReiUA4f98bK91sVcMOG4Oq1CjFZ560chWqwFOrQ0/b7a1/NFfg9U8VidNp07nZvjWWPC3TvwfOagXutyapBmlJTbE7LhHe9JRpWqWT3KtgOswAlHl+rZJwQMN7E6HX28FdHA8Ev2Ad0qXSkXf7HBAQwzrUU5avm+N1xtZi5Wyep99vPtp3FPUl6X59XPXV85PysVjSHOYtqNOUM6lU2fgDrXSbLY6jpVBVans9jq66tj102j9KroiyHG69CiaseSOADaiontZgHt4pP7eTcQVSyGmCjiWJ0mijiGmCjiGGKiiGOIiSKOISaKOIaYKOIYYqKIY4iJIo4htqrpkbU0rTDESrU9spamF4Y4c/N/JT+ylig/hrjSH1lLNI5pH2K3j6wlKj+WxEQRxxBrFfrIWqIQpn2I3T6ylqj8pn2I3T6ylqj8WJ2u6EfWEo2Pj+cxKvqRtUQFsCQ28BcDU6n0X0nQf4WQAaaIYIizRPGRtTTdMcQ+KJHtddP6Roi1PWwXU0Vjm5go4lgSE0UcQ0wUcQwxUcQxxEQRxxATRRxDTBRxDDFRxDHERBHHEBNFHENMFHEMMVHEMcREEccQE0UcQ0wUcQwxUcQxxEQRl/ehAKtXrzabEFElY0lMFHEMMVHEMcREEccQE0UcQ0wUcQwxUcQxxEQRxxATRRxDTBRxDDFRxJX1ssvvLg/J12cu6enMdwNyfeSG1NTUyOLvz5Ef1N0q8dtvlYXzYmZrIgqjLCH+6ttL8tGRr2Xo2ohZk9+smTPkgdXL5M4l880aIiqkpNXp1NXr8u5/n5D/+ORUqADD8PVR+WV3Ut75rxPqM9fNWiLKp2QhvjRwTd765XHpuzBo1mS7eeZNMm/ubP0a5M8XB+Vf/vO43g8R5VeSEKME/tcPfy+jozfMmjE1alq5dKH85EdL5a+WL9avWMZ6P3we+yl1ifzuu+/K8uXLM9POnTvNO8U7efKk3H///Zl9rV+/Xi5cuGDeJXKvJCH+949PBQYYfqgCe9v8W8xSGpaxPgj28/5vTpkl9xDYN954Qw4ePCinTp3Srx988MGEgtzd3S0PPfSQPPfcc3pfx48fl2XLlsmWLVsYZCoZ5yFGJ1ahKrQ/wBbWF6pa/6H3ollyB6UmAvvKK6/IihUr9Dq8Yhnr8X5YqVRK9u3bJ1u3bpUnnnhCr4vFYvLSSy/p+UOHDulXItechxi90PnEvjfLzAUr9P6hI6fNnDs9PT2yaNEiWblypVkzFsbe3l79fljY/siRI7J27VqzJg3hPXr0qBw+fFjvm8g1pyHGOHChXujU1WEzF6zQ++i1PtfvNgRfffWVru7Onj1bL6PKu2nTJrn33nvlscce0++Hdf78ef1aW1urXwFVcoR327Ztcvr0aRkaGjLvELnjNMS4iKOQa9dHVNX4ilnKhvV4v5CkqqqXCtqzCC6C19TUZNZODE4G6NC644475LXXXpO5c+ead4jcK2uI4ctvzuUEGctYP56v+0oT4o6ODmlra5P3338/0zaeqBMnTuiTQUtLS6ZtTFRKTkOMSynHgz7rEyqwn/3+G/ndqTP6FcvBfdnZznwX3GE2USgpEVy0Wffu3SsLFizQ61HtRfUX74dlq9E7duyQt956SxoaGvQy+KvtRC45DTGuhQ4LVef+gaFxq9BeN26E338Y9fX1smTJEtm4caPuSbZQmp49e1a/72XHgIPGfrEfXKr66KOPZpXm2O7TTz+VNWvWZH0NIlechhg3M4Rx86ybZP4tMalbcIt+xXIYYfcfFsKG0KEqbUOJoL744ot6rNdftUZvNXqhUXIj6F4IKE4Gu3bt0u1rQG/0yy+/rEvhRx55RK8jcs3pDRD/9usv5dvzwVVqXGK5aP5cqb11jswKGA8eViXy+UuDcvbigC6hg9xeO1f+ce0PzZI76MxC+CyEOqg9i4A/9dRTelhq9+7dmeq3FwKMMFtoH6OKzVKYSsVpiP/n8z759P++NUtjflC3QJbeNs8sje+bP/fL1325Vzj9zV/eLn99d51ZIiJwWp3G/cB+CG8xAYZ8nwnaP9F05zTEuKEf9wN73f79iQXP/znslw8MIMrlNMSAG/q9vvzj+OO/Qfyf8++XiNKchxhP5Lht/hyzJHLhSkqOJ/tCDyVhO2yPz1nYH5/0QRTMeYjhsb9bLjNmjA0HXbickt+e6JXec5dkZGTUrM2G9Xgf22F7C/vB/ogoWMmesYUncuR7MACGm+bMniV3/kWt/OFP52VwaDhwWAkB/qcHfyS3zr3ZrCEiv0yIh4eH9eWGAwMDcvHiRScPysMTOXBDP+4HLhaq0CiBZ98806whoiCB1WlXV0YhgD/7+5XyDw3xnF7rfLAdtsfnGGCi8dWoKvQNlMLekhjV6VWrVplN3MH9wLidEHcj4WYGXAvN504TTU5WiL1t4lKEmIjc03Vcb/UZ865vNCCi0sk0VBlcomjK6m2ypTADTRQdM7zB9U5EFA05JfGMGTPkppvC3aRPRFMv07GF4CLAmGbO5PgsUVTUDA8P3xgZGRF76SUeKYPp8uXLcunSJT3khGUMP2Gb0dFRPb4b9Lwr18/AIqLx6RAjmAiyHSseHBzUEy78wCvWIeDYBttishhcoqlVo0pXHWKUsggpwoort7yTvRjEBtiGmAEmmnqZEGOypTEmhNlOCDgmhBbbWAwx0dTTIUYYvUFGYBFkG2q82vB6QwwMMtHUqlGh1CG2QbaBxWSXbcABr8UElyEnKq0aFcpMiDEhtHi1Abbr/eH1zhPR1MmEGBBU8IbWO/kFrSOi8tIhxowNpD+0NtjgD61/mYjKTeT/AeeHdMeImNf2AAAAAElFTkSuQmCC)\r\n",
        "\r\n",
        "Aside from that this division arithmetic operator will always give an answer with a floating point."
      ]
    },
    {
      "cell_type": "code",
      "metadata": {
        "id": "cQeVcFIWZd8o",
        "colab": {
          "base_uri": "https://localhost:8080/"
        },
        "outputId": "d01dc206-faed-432c-a6b6-1fe9a414df9f"
      },
      "source": [
        "### Floor Division\r\n",
        "Fq = a//b\r\n",
        "Fq"
      ],
      "execution_count": null,
      "outputs": [
        {
          "output_type": "execute_result",
          "data": {
            "text/plain": [
              "-4.0"
            ]
          },
          "metadata": {
            "tags": []
          },
          "execution_count": 23
        }
      ]
    },
    {
      "cell_type": "markdown",
      "metadata": {
        "id": "UsqGpUjkC5E_"
      },
      "source": [
        "**Floor Division Arithemetic Operator:**\r\n",
        "This type of division which is sometimes called as integer division, will return an integer even if it returns a quotient that looks like a floating point the decimal after the integer is removed with this type of operator. If a variable holds a negative value, it will automatically round the quotient to negative infinity [6]. Similar with the division operator, FD (Floor Division) will return a different quotient if variables are interchange. Making it perform from the left hand operand to the right hand operand [5].\r\n",
        "\r\n",
        "![SAMPLE 5 FD.png](data:image/png;base64,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)           ![SAMPLE 6 FD.png](data:image/png;base64,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)"
      ]
    },
    {
      "cell_type": "code",
      "metadata": {
        "id": "YLaUu6APZSzR",
        "colab": {
          "base_uri": "https://localhost:8080/"
        },
        "outputId": "c1a39fff-532c-4190-9539-dd70f161de3f"
      },
      "source": [
        "### Exponentiation\r\n",
        "E = a**b\r\n",
        "E"
      ],
      "execution_count": null,
      "outputs": [
        {
          "output_type": "execute_result",
          "data": {
            "text/plain": [
              "0.7071067811865476"
            ]
          },
          "metadata": {
            "tags": []
          },
          "execution_count": 24
        }
      ]
    },
    {
      "cell_type": "markdown",
      "metadata": {
        "id": "_pRmxQUfHGcn"
      },
      "source": [
        "**Exponentiation:**\r\n",
        "This type of arithmetic operator basically calculates values in exponential (power) form [5]. The variable that is in the right hand operand is considered as the exponent.\r\n",
        "\r\n",
        "\r\n",
        "![image.png](data:image/png;base64,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)"
      ]
    },
    {
      "cell_type": "code",
      "metadata": {
        "id": "uf_0sf4CZ1JT",
        "colab": {
          "base_uri": "https://localhost:8080/"
        },
        "outputId": "e367c9d1-3d37-446c-f1d3-c7fe84e8d073"
      },
      "source": [
        "### Modulo\r\n",
        "mod = d%a\r\n",
        "mod"
      ],
      "execution_count": null,
      "outputs": [
        {
          "output_type": "execute_result",
          "data": {
            "text/plain": [
              "0.0"
            ]
          },
          "metadata": {
            "tags": []
          },
          "execution_count": 29
        }
      ]
    },
    {
      "cell_type": "markdown",
      "metadata": {
        "id": "HWKwFNcjHtkH"
      },
      "source": [
        "**Modulo:**\r\n",
        "In this arithmetic operator it divides from the left hand operand to the right hand operand which is similar with the other two divisions that we encountered, but modulo returns the remainder [5].\r\n",
        "\r\n",
        "![image.png](data:image/png;base64,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)\r\n",
        "\r\n",
        "In this case we won't really see the difference. If you look at the next figure, you will see how modulo is use:\r\n",
        "\r\n",
        "![image.png](data:image/png;base64,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)"
      ]
    },
    {
      "cell_type": "markdown",
      "metadata": {
        "id": "afyWvb1ZaJJ6"
      },
      "source": [
        "### **Assignment Operations**\r\n",
        "*This type of operation is used to assign values to a variable. To explain further, an assignment operation function from the right hand side and putting the value to the left hand side [7].*\r\n",
        "\r\n",
        "*To demonstrate this better, the figure below is an example: [7]*\r\n",
        "\r\n",
        "![image.png](data:image/png;base64,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)"
      ]
    },
    {
      "cell_type": "code",
      "metadata": {
        "id": "rMZ8r4WhanaE"
      },
      "source": [
        "G, H, J, K = 0, 100, 2, 2"
      ],
      "execution_count": null,
      "outputs": []
    },
    {
      "cell_type": "markdown",
      "metadata": {
        "id": "dbK-PU2TYJf6"
      },
      "source": [
        "*Values that are assigned to each variable respectively.*"
      ]
    },
    {
      "cell_type": "code",
      "metadata": {
        "id": "IX0EbJ8RaMih",
        "colab": {
          "base_uri": "https://localhost:8080/"
        },
        "outputId": "536307ed-006e-46a4-f770-87084a5cf527"
      },
      "source": [
        "G += a\r\n",
        "G"
      ],
      "execution_count": null,
      "outputs": [
        {
          "output_type": "execute_result",
          "data": {
            "text/plain": [
              "2.0"
            ]
          },
          "metadata": {
            "tags": []
          },
          "execution_count": 32
        }
      ]
    },
    {
      "cell_type": "markdown",
      "metadata": {
        "id": "7sHdwJntNPUD"
      },
      "source": [
        "**THE OPERATOR: (+=)**\r\n",
        "This operator works differently compared with the addition arithmetic operator. (+=) adds from the right hand operand to the left hand operand then assign the values from the left operand [8], which in this case is variable G.\r\n",
        "\r\n",
        "![image.png](data:image/png;base64,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)\r\n",
        "\r\n",
        "So what basically happened, since the variable G has a value assigned to it the process of adding it went something like this:\r\n",
        "\r\n",
        "![image.png](data:image/png;base64,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)"
      ]
    },
    {
      "cell_type": "code",
      "metadata": {
        "id": "aIj4hA-JaRA0"
      },
      "source": [
        "H -= d\n",
        "H"
      ],
      "execution_count": null,
      "outputs": []
    },
    {
      "cell_type": "markdown",
      "metadata": {
        "id": "QHHDewWYQV1C"
      },
      "source": [
        "**THE OPERATOR: (-=)**\r\n",
        "Similar with the first operator that was discussed, the operator (-=) functions the same way. It subtracts from the right hand operand to the left hand operand, assigning the return value to the variable from the left hand operand [8].\r\n",
        "\r\n",
        "![image.png](data:image/png;base64,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)"
      ]
    },
    {
      "cell_type": "code",
      "metadata": {
        "id": "vuuDbAbNaXgS",
        "colab": {
          "base_uri": "https://localhost:8080/"
        },
        "outputId": "8376cd01-2f9a-48b4-8f9c-8e2287dc1285"
      },
      "source": [
        "J *= 2\r\n",
        "J"
      ],
      "execution_count": null,
      "outputs": [
        {
          "output_type": "execute_result",
          "data": {
            "text/plain": [
              "4"
            ]
          },
          "metadata": {
            "tags": []
          },
          "execution_count": 51
        }
      ]
    },
    {
      "cell_type": "markdown",
      "metadata": {
        "id": "qolHdqyWR2rn"
      },
      "source": [
        "**THE OPERATOR: (*=)**\r\n",
        "This operator works the same way as the first two assignment operations. Though from the previous arithmetic operations which is multiplication it multiplies from either sides of the operand. When used in assignement operations, this operand (*=) multiplies from the right hand operand to left hand operand then assigns the return value in the left hand variable [8].\r\n",
        "\r\n",
        "![image.png](data:image/png;base64,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)"
      ]
    },
    {
      "cell_type": "code",
      "metadata": {
        "id": "sGVXGduUaeAj",
        "colab": {
          "base_uri": "https://localhost:8080/"
        },
        "outputId": "b7f01a36-5060-4bbf-9cb6-fe29d2a316b0"
      },
      "source": [
        "K **= 2\r\n",
        "K"
      ],
      "execution_count": null,
      "outputs": [
        {
          "output_type": "execute_result",
          "data": {
            "text/plain": [
              "4"
            ]
          },
          "metadata": {
            "tags": []
          },
          "execution_count": 52
        }
      ]
    },
    {
      "cell_type": "markdown",
      "metadata": {
        "id": "-urrquP4ShsA"
      },
      "source": [
        "**THE OPERATOR:** **(** ****=)**\r\n",
        "This operator performs as an exponential (power) form. It performs the operation from the right hand operand to the left hand operand. Making the variable or value that is in the right hand operand as the exponent even if the symbol (**) which is a representation of an exponent is placed at the left hand operand [8].\r\n",
        "\r\n",
        "![image.png](data:image/png;base64,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)"
      ]
    },
    {
      "cell_type": "markdown",
      "metadata": {
        "id": "UGXuqhVNbW7R"
      },
      "source": [
        "### **Comparators**\r\n",
        "*Comparators are operators that are use to compare the values on either sides. It is also used to decide the relation between variables. Similar with how it is used in basic mathematics comparators also functions the same way in programming [9].*\r\n",
        "\r\n",
        "*Outputs for comparators only return True or False*"
      ]
    },
    {
      "cell_type": "code",
      "metadata": {
        "id": "Oj9xLaEaYeuY"
      },
      "source": [
        "res_1, res_2, res_3 = 1, 2.0, \"1\"\r\n",
        "true_val = 1.0"
      ],
      "execution_count": null,
      "outputs": []
    },
    {
      "cell_type": "markdown",
      "metadata": {
        "id": "vAtMiLHiX_Qf"
      },
      "source": [
        "*Values that are assigned to each variables respectively.*"
      ]
    },
    {
      "cell_type": "code",
      "metadata": {
        "id": "GEXm6RSsbA8Q",
        "colab": {
          "base_uri": "https://localhost:8080/"
        },
        "outputId": "2f907f29-9c5d-41af-bc84-28df6d0ce842"
      },
      "source": [
        "## Equality\r\n",
        "res_1 == true_val"
      ],
      "execution_count": null,
      "outputs": [
        {
          "output_type": "execute_result",
          "data": {
            "text/plain": [
              "True"
            ]
          },
          "metadata": {
            "tags": []
          },
          "execution_count": 55
        }
      ]
    },
    {
      "cell_type": "markdown",
      "metadata": {
        "id": "23W88q3RW_ce"
      },
      "source": [
        "**EQUALITY Comparator:**\r\n",
        "The comparator equality (==) checks if values are equal to each other. If it satisfies the operator (==) then the condition becomes True, otherwise then the condition is considered as False [9].\r\n",
        "\r\n",
        "![image.png](data:image/png;base64,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)"
      ]
    },
    {
      "cell_type": "code",
      "metadata": {
        "id": "SdHk_b58bZhD",
        "colab": {
          "base_uri": "https://localhost:8080/"
        },
        "outputId": "a1602628-b6b3-49c9-bd58-5a14ed1a7890"
      },
      "source": [
        "## Non-equality\r\n",
        "res_2 != true_val"
      ],
      "execution_count": null,
      "outputs": [
        {
          "output_type": "execute_result",
          "data": {
            "text/plain": [
              "True"
            ]
          },
          "metadata": {
            "tags": []
          },
          "execution_count": 56
        }
      ]
    },
    {
      "cell_type": "markdown",
      "metadata": {
        "id": "ZNwBlIlUYPiV"
      },
      "source": [
        "**NON-EQUALITY Comparator:**\r\n",
        "The non-equality comparator (!=) checks if the values are not equal. Similar with the first comparator if it satisfies the condion that both values are not equal then it returns as a True statement [9].\r\n",
        "\r\n",
        "![image.png](data:image/png;base64,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)"
      ]
    },
    {
      "cell_type": "code",
      "metadata": {
        "id": "EnA4q50JbQB5",
        "colab": {
          "base_uri": "https://localhost:8080/"
        },
        "outputId": "bcce28ed-c58d-41e4-914d-d61aa6141a7d"
      },
      "source": [
        "## Inequality\r\n",
        "t1 = res_1 > res_2\r\n",
        "t2 = res_1 < res_2/2\r\n",
        "t3 = res_1 >= res_2/2\r\n",
        "t4 = res_1 <= res_2  \r\n",
        "t1"
      ],
      "execution_count": null,
      "outputs": [
        {
          "output_type": "execute_result",
          "data": {
            "text/plain": [
              "False"
            ]
          },
          "metadata": {
            "tags": []
          },
          "execution_count": 57
        }
      ]
    },
    {
      "cell_type": "markdown",
      "metadata": {
        "id": "50jhhx90YvQx"
      },
      "source": [
        "**INEQUALITY Comparator:**\r\n",
        "In this comparator it deals with 4 different operators. Which familiar when used in basic mathematics. This operators performs the same way [9].\r\n",
        "\r\n",
        "*Note: Inequality Operator is used between two variables. The return value is assigned to the left hand operand that is placed before the equals sign (=). Refer to the example code above.*\r\n",
        "\r\n",
        "The figure below explains how this operators are used:\r\n",
        "![image.png](data:image/png;base64,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)"
      ]
    },
    {
      "cell_type": "markdown",
      "metadata": {
        "id": "-kRX0tJma7lq"
      },
      "source": [
        "Since t1 is the only variable that was called it is the only one who returned a result which is False because based on the value of res_1 and res_2, res_1 is greater than res_2.\r\n",
        "\r\n",
        "Hence, returning us with the output False.\r\n",
        "![image.png](data:image/png;base64,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)"
      ]
    },
    {
      "cell_type": "markdown",
      "metadata": {
        "id": "9WkfdvbfcC1Y"
      },
      "source": [
        "## **Logical**\r\n",
        "---\r\n",
        "From W3School Logical Operators are sectioned into three: Logical, Identity and Membership Operators [10].\r\n",
        "\r\n",
        "*Logical Operators: This operator consists of:* ***and, or, not***.</br>\r\n",
        "*Identity Operators: This operator consists of:* ***is, is not***.</br>"
      ]
    },
    {
      "cell_type": "code",
      "metadata": {
        "id": "cYVG6YeNb-Gz",
        "colab": {
          "base_uri": "https://localhost:8080/"
        },
        "outputId": "e89773d1-2d41-4bbe-8ed3-ba0133e75211"
      },
      "source": [
        "res_1 == true_val"
      ],
      "execution_count": null,
      "outputs": [
        {
          "output_type": "execute_result",
          "data": {
            "text/plain": [
              "True"
            ]
          },
          "metadata": {
            "tags": []
          },
          "execution_count": 61
        }
      ]
    },
    {
      "cell_type": "markdown",
      "metadata": {
        "id": "kGIMrGsMdcKS"
      },
      "source": [
        "*Variables used in this section*"
      ]
    },
    {
      "cell_type": "markdown",
      "metadata": {
        "id": "4jAQUK4Kd6Pp"
      },
      "source": [
        "### **Identity Operators**\r\n",
        "*This type of operators are used to compare objects, not if they are equal, but if they are ACTUALLY the same object [10].*"
      ]
    },
    {
      "cell_type": "code",
      "metadata": {
        "id": "rLe6hpkHcN-z",
        "colab": {
          "base_uri": "https://localhost:8080/"
        },
        "outputId": "c4704146-f2c4-4a5e-c33d-e3157b907d55"
      },
      "source": [
        "res_1 is true_val"
      ],
      "execution_count": null,
      "outputs": [
        {
          "output_type": "execute_result",
          "data": {
            "text/plain": [
              "False"
            ]
          },
          "metadata": {
            "tags": []
          },
          "execution_count": 62
        }
      ]
    },
    {
      "cell_type": "markdown",
      "metadata": {
        "id": "s6eavhaIe1cT"
      },
      "source": [
        "As for this example the result is False because if we look into the values that this variables hold, it is equal but they are not the same. Since res_1 holds an integer value and for true_val holds a float value.\r\n",
        "\r\n",
        "![image.png](data:image/png;base64,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)"
      ]
    },
    {
      "cell_type": "code",
      "metadata": {
        "id": "tr5qxHQmcO-C",
        "colab": {
          "base_uri": "https://localhost:8080/"
        },
        "outputId": "1a25c335-1a44-45c3-a31d-7e910b91104f"
      },
      "source": [
        "res_1 is not true_val"
      ],
      "execution_count": null,
      "outputs": [
        {
          "output_type": "execute_result",
          "data": {
            "text/plain": [
              "True"
            ]
          },
          "metadata": {
            "tags": []
          },
          "execution_count": 63
        }
      ]
    },
    {
      "cell_type": "markdown",
      "metadata": {
        "id": "VZ6f0IwMfQ-u"
      },
      "source": [
        "Therefore making the output for this code True because they are not same even if they hold the equal values.\r\n",
        "\r\n",
        "![image.png](data:image/png;base64,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)"
      ]
    },
    {
      "cell_type": "markdown",
      "metadata": {
        "id": "4tay9HjNeJtd"
      },
      "source": [
        "### **Logical Operators**\r\n",
        "*This type of operators are used to combine two conditional statements [10].*"
      ]
    },
    {
      "cell_type": "code",
      "metadata": {
        "id": "3GU72N-Gcslz",
        "colab": {
          "base_uri": "https://localhost:8080/"
        },
        "outputId": "ff75924f-80c4-43b4-8f85-9173a904a9d0"
      },
      "source": [
        "p, q = True, False\r\n",
        "conj = p and q\r\n",
        "conj"
      ],
      "execution_count": null,
      "outputs": [
        {
          "output_type": "execute_result",
          "data": {
            "text/plain": [
              "False"
            ]
          },
          "metadata": {
            "tags": []
          },
          "execution_count": 1
        }
      ]
    },
    {
      "cell_type": "markdown",
      "metadata": {
        "id": "bXXT00ZBqMqL"
      },
      "source": [
        "**LOGICAL OPERATOR: AND**</br>\r\n",
        "The codes above used the operator *are* when using this type of operator it will only return True if both statements are true. The variables above are p and q the values that they hold respectively is True and False. Since one of the value holds a False it will not return a True [10].\r\n",
        "\r\n",
        "Using the logical operator *are* is good for conditional statements that both needs to be satisfied."
      ]
    },
    {
      "cell_type": "code",
      "metadata": {
        "id": "ihMxcT6KcvQj",
        "colab": {
          "base_uri": "https://localhost:8080/"
        },
        "outputId": "3d3cba94-012f-4a46-c88a-bd7bedd2da7b"
      },
      "source": [
        "p, q = True, False\r\n",
        "disj = p or q\r\n",
        "disj"
      ],
      "execution_count": null,
      "outputs": [
        {
          "output_type": "execute_result",
          "data": {
            "text/plain": [
              "True"
            ]
          },
          "metadata": {
            "tags": []
          },
          "execution_count": 2
        }
      ]
    },
    {
      "cell_type": "markdown",
      "metadata": {
        "id": "TrShPnZ4rJca"
      },
      "source": [
        "**LOGICAL OPERATOR: OR**</br>\r\n",
        "The operator *or* is used in the codes above. The output when the codes were run returned True. Since using the *or* operator it means that one True statement is enough for the whole statement to be true [10].\r\n",
        "\r\n",
        "Using the logical operator *or* is good for conditional statements that both doesn't need to be satisfied for it to be True."
      ]
    },
    {
      "cell_type": "code",
      "metadata": {
        "id": "T-QfmeYgcyGQ",
        "colab": {
          "base_uri": "https://localhost:8080/"
        },
        "outputId": "90ce0b16-4ecf-4748-87b2-ab36ac7072f7"
      },
      "source": [
        "p, q = True, False\r\n",
        "nand = not(p and q)\r\n",
        "nand"
      ],
      "execution_count": null,
      "outputs": [
        {
          "output_type": "execute_result",
          "data": {
            "text/plain": [
              "True"
            ]
          },
          "metadata": {
            "tags": []
          },
          "execution_count": 3
        }
      ]
    },
    {
      "cell_type": "markdown",
      "metadata": {
        "id": "IdNW_0wT0Vyk"
      },
      "source": [
        "**LOGICAL OPERATOR: NAND**</br>\r\n",
        "The operator *not* is used in the codes above. This operator returns False if the statement is True. In the codes above usually the operator *and* wilL return False since q holds a False value but with the use of not with the operator and the return value is True [10]."
      ]
    },
    {
      "cell_type": "code",
      "metadata": {
        "id": "2HL7SlVbc10k",
        "colab": {
          "base_uri": "https://localhost:8080/"
        },
        "outputId": "6457bd48-8355-445f-ec11-c83a587dd975"
      },
      "source": [
        "p, q = True, False\r\n",
        "xor = (not p and q) or (p and not q)\r\n",
        "xor"
      ],
      "execution_count": null,
      "outputs": [
        {
          "output_type": "execute_result",
          "data": {
            "text/plain": [
              "True"
            ]
          },
          "metadata": {
            "tags": []
          },
          "execution_count": 4
        }
      ]
    },
    {
      "cell_type": "markdown",
      "metadata": {
        "id": "poA6_lUu1cG7"
      },
      "source": [
        "**LOGICAL OPERATOR: XOR**</br>\r\n",
        "In this line of code the operator *or* is used but differently because it used along side with other two operators which is the *and* operator and *not* operator. This type of usage with the *or* operator returns a True value if one of the conditional statement is False and returns a False value if both of the conditional statement is True [10]."
      ]
    },
    {
      "cell_type": "markdown",
      "metadata": {
        "id": "AQx4DKafYffJ"
      },
      "source": [
        "## **I/O**\r\n",
        "*The use of Input and Output is a necessity for programming. Since most of the time users are asked for inputs and there are outputs that are needed to be displayed on screen for them to see and follow at times.*</br>\r\n",
        "*In the programming language, Python. When asking for an input the function **input()** is used. As for the output, the function **print()** is used.*"
      ]
    },
    {
      "cell_type": "markdown",
      "metadata": {
        "id": "P9D2llSTIpNw"
      },
      "source": [
        "***print() FUNCTION***<br>\r\n",
        "The example above is how the outputs are shown with the use of print()."
      ]
    },
    {
      "cell_type": "code",
      "metadata": {
        "id": "Q-DVERG5Yk9w",
        "colab": {
          "base_uri": "https://localhost:8080/"
        },
        "outputId": "3ac53ea6-afc5-4d7b-8b36-faf557b17157"
      },
      "source": [
        "print(\"Hello World\")"
      ],
      "execution_count": null,
      "outputs": [
        {
          "output_type": "stream",
          "text": [
            "Hello World\n"
          ],
          "name": "stdout"
        }
      ]
    },
    {
      "cell_type": "markdown",
      "metadata": {
        "id": "aQYbkWHpJI6I"
      },
      "source": [
        "The code above shows the famous hello world syntax in Python version. The print function used in Python literally prints the specified message as an output. The print() function can print a string, an object, or an object that will be converted into a string before printing it as an output. [14]\r\n",
        "\r\n"
      ]
    },
    {
      "cell_type": "code",
      "metadata": {
        "id": "fS5wN51beSVF"
      },
      "source": [
        "cnt = 1"
      ],
      "execution_count": null,
      "outputs": []
    },
    {
      "cell_type": "markdown",
      "metadata": {
        "id": "CaYKlyD9jeS0"
      },
      "source": [
        "The code above ```cnt=1``` is simply declaring a variable and initializing it. \r\n"
      ]
    },
    {
      "cell_type": "code",
      "metadata": {
        "id": "hKNaUXmdZdUo",
        "colab": {
          "base_uri": "https://localhost:8080/"
        },
        "outputId": "25a1fc3f-3511-437c-f808-4f8debcec900"
      },
      "source": [
        "string = \"Hello World\"\r\n",
        "print(string, \", Current run count is:\", cnt)\r\n",
        "cnt +=1"
      ],
      "execution_count": null,
      "outputs": [
        {
          "output_type": "stream",
          "text": [
            "Hello World , Current run count is: 1\n"
          ],
          "name": "stdout"
        }
      ]
    },
    {
      "cell_type": "markdown",
      "metadata": {
        "id": "ym-aWPGDkKF2"
      },
      "source": [
        "The code above further visualizes how print() function works. In this example, ```cnt+=1``` was used but doesn't work because it is placed below the print() function. \r\n",
        "\r\n",
        "If we try to change it into this: \r\n",
        "```\r\n",
        "string = \"Hello World\"\r\n",
        "cnt +=1\r\n",
        "print(string, \", Current run count is:\", cnt)\r\n",
        "```\r\n",
        "\r\n",
        "The ouput would change making it <br>\r\n",
        "```Hello World, Current run count is: 2```<br><br>\r\n",
        "By changing the sequence of the code, the ```cnt +=1``` is executed before the print() function thus making the operation work.  \r\n",
        "\r\n",
        "\r\n",
        "\r\n"
      ]
    },
    {
      "cell_type": "code",
      "metadata": {
        "id": "15_WdzEZcOVX",
        "colab": {
          "base_uri": "https://localhost:8080/"
        },
        "outputId": "27fa79a3-379c-4c19-a851-810bcf93118c"
      },
      "source": [
        "print(f\"{string}, Current count is: {cnt}\")"
      ],
      "execution_count": null,
      "outputs": [
        {
          "output_type": "stream",
          "text": [
            "Hello World, Current count is: 2\n"
          ],
          "name": "stdout"
        }
      ]
    },
    {
      "cell_type": "markdown",
      "metadata": {
        "id": "eZb8igwiov0j"
      },
      "source": [
        "In the set of codes above, f-string is used as an other way to call variables that were previously declared and initialized. "
      ]
    },
    {
      "cell_type": "code",
      "metadata": {
        "id": "5m9XtFOPcOXo",
        "colab": {
          "base_uri": "https://localhost:8080/"
        },
        "outputId": "0dfbe206-fb71-40fe-de34-e0899c70c4e3"
      },
      "source": [
        "sem_grade = 82.243564657461234\r\n",
        "name = \"Yuna\"\r\n",
        "print(\"Hello {}, your semestral grade is: {}\".format(name, sem_grade))"
      ],
      "execution_count": null,
      "outputs": [
        {
          "output_type": "stream",
          "text": [
            "Hello Yuna, your semestral grade is: 82.24356465746123\n"
          ],
          "name": "stdout"
        }
      ]
    },
    {
      "cell_type": "markdown",
      "metadata": {
        "id": "hWzKsM61p21u"
      },
      "source": [
        "The codes above used another type of format in print() function. In this example, placeholders designed as curly braces { } are used inside the print statement. \r\n",
        "```\r\n",
        "\"Hello {}, your semestral grade is: {}\"\r\n",
        "```\r\n",
        "After adding the statement to be printed, **.format** specifies the values to be added to the string's placeholder respectively.  \r\n",
        "\r\n",
        "```\r\n",
        ".format(name, sem_grade)\r\n",
        "```\r\n",
        "\r\n",
        "\r\n"
      ]
    },
    {
      "cell_type": "code",
      "metadata": {
        "id": "SMJx6bTnfdgZ",
        "colab": {
          "base_uri": "https://localhost:8080/"
        },
        "outputId": "534e5a6f-91eb-40e1-9aa6-ffff3a2cee95"
      },
      "source": [
        "w_pg, w_mg, w_fg = 0.3, 0.3, 0.4\r\n",
        "print(\"The weights of your semestral grades are:\\\r\n",
        "\\n\\t{:.2%} for Prelims\\\r\n",
        "\\n\\t{:.2%} for Midterms, and\\\r\n",
        "\\n\\t{:.2%} for Finals.\".format(w_pg, w_mg, w_fg))"
      ],
      "execution_count": null,
      "outputs": [
        {
          "output_type": "stream",
          "text": [
            "The weights of your semestral grades are:\n",
            "\t30.00% for Prelims\n",
            "\t30.00% for Midterms, and\n",
            "\t40.00% for Finals.\n"
          ],
          "name": "stdout"
        }
      ]
    },
    {
      "cell_type": "markdown",
      "metadata": {
        "id": "cdb_a5yur-nB"
      },
      "source": [
        "In this code, we can see that the value for weights of prelim, midterm, and final grades were declared. In the print() function, a placeholder was used again. Inside the placeholder, a **.2%** was added which moves 2 decimal places to its assigned value that's why 0.3 turned to 30% and 0.4 became 40%. "
      ]
    },
    {
      "cell_type": "code",
      "metadata": {
        "id": "Ob2I_zR3jAcZ",
        "colab": {
          "base_uri": "https://localhost:8080/",
          "height": 52
        },
        "outputId": "1807cf11-0de4-4584-e411-df0e9a8352d9"
      },
      "source": [
        "x = input(\"enter a number: \")\r\n",
        "x"
      ],
      "execution_count": null,
      "outputs": [
        {
          "output_type": "stream",
          "text": [
            "enter a number: 35\n"
          ],
          "name": "stdout"
        },
        {
          "output_type": "execute_result",
          "data": {
            "application/vnd.google.colaboratory.intrinsic+json": {
              "type": "string"
            },
            "text/plain": [
              "'35'"
            ]
          },
          "metadata": {
            "tags": []
          },
          "execution_count": 4
        }
      ]
    },
    {
      "cell_type": "markdown",
      "metadata": {
        "id": "45nsq5Jc0T36"
      },
      "source": [
        "In the given syntax above, the user would be asked to enter a number. The inputted number would then be displayed as a string. "
      ]
    },
    {
      "cell_type": "code",
      "metadata": {
        "id": "T7ODFfcMh9Pg",
        "colab": {
          "base_uri": "https://localhost:8080/"
        },
        "outputId": "f8b12871-9399-453b-fe7c-cc80258b243f"
      },
      "source": [
        "name = input(\"Kimi no nawa: \")\r\n",
        "pg = float(input(\"Enter prelim grade: \"))\r\n",
        "mg = float(input(\"Enter midterm grade: \"))\r\n",
        "fg = float(input(\"Enter finals grade: \"))\r\n",
        "sem_grade = (pg * .3) + (mg * .3) + (fg * .4)\r\n",
        "print(\"Hello {}, your semestral grade is: {}\".format(name, sem_grade))"
      ],
      "execution_count": null,
      "outputs": [
        {
          "output_type": "stream",
          "text": [
            "Kimi no nawa: Sera\n",
            "Enter prelim grade: 75\n",
            "Enter midterm grade: 85\n",
            "Enter finals grade: 82\n",
            "Hello Sera, your semestral grade is: 80.80000000000001\n"
          ],
          "name": "stdout"
        }
      ]
    },
    {
      "cell_type": "markdown",
      "metadata": {
        "id": "OTQF52pcx9sC"
      },
      "source": [
        "In this set of codes, the program would be asking the user to input his/her name, the prelim grade, midterm grade, and final grade. After getting the set grades from prelim to finals, the sem_grade variable would then compute it based on the given operations.\r\n",
        "\r\n",
        "Placeholder was also used in the print() function calling the inputted name and the sem_grade in the output.\r\n"
      ]
    },
    {
      "cell_type": "markdown",
      "metadata": {
        "id": "i0g3EothhvqL"
      },
      "source": [
        "# **Looping Statements**\r\n",
        "---\r\n",
        "**Looping statements**  in programming are used when we want to execute a group of statements or variables repeatedly or multiple times. There are different types of looping statements in python which includes the **while loop** and the **for loop** which will be further discussed below.\r\n"
      ]
    },
    {
      "cell_type": "markdown",
      "metadata": {
        "id": "j8i0OXNJkgm6"
      },
      "source": [
        "![image](https://www.tutorialspoint.com/python3/images/loop_architecture.jpg)\r\n",
        "\r\n",
        "\r\n",
        "> As shown in the diagram above, this is how a looping statement works in programming. When the given condition is satisfied by the input provided, it will proceed to execute the code intended for it but if it doesn't satisfy the given condition, it would be redirected to other blocks of codes.\r\n",
        "\r\n",
        "\r\n",
        "\r\n"
      ]
    },
    {
      "cell_type": "markdown",
      "metadata": {
        "id": "j4w90VAIjcFJ"
      },
      "source": [
        "## **While**\r\n",
        "\r\n",
        "\r\n",
        "---\r\n",
        "\r\n",
        "\r\n",
        "This type of looping statement works by testing the given conditions before executing a loop. The conditions given may be in any form of expression. [1] The while loop statement below gave a condition: \r\n",
        "```\r\n",
        "while(i<=j)\r\n",
        "``` \r\n",
        "which means that ***if the given value for i is less than the value of j (which is 10)***, then it will execute this statement:\r\n",
        "``` \r\n",
        "print(f\"{i}\\t|\\t{j}\")\r\n",
        "i+=1\r\n",
        "``` \r\n",
        "Satisfying this condition would create an output as shown in that format. It would copy the value of i which is 1 and will continuously add 1 to it until the condition becomes FALSE (in this situation, the value of i becomes greater than 9). "
      ]
    },
    {
      "cell_type": "code",
      "metadata": {
        "id": "4vtSrBPThlse",
        "colab": {
          "base_uri": "https://localhost:8080/"
        },
        "outputId": "f54dde6a-2bfd-4d76-a2a0-92f1fa0e21f0"
      },
      "source": [
        "## while loops\r\n",
        "i, j = 0, 10\r\n",
        "while(i<=j):\r\n",
        "    print(f\"{i}\\t|\\t{j}\")\r\n",
        "    i+=1"
      ],
      "execution_count": null,
      "outputs": [
        {
          "output_type": "stream",
          "text": [
            "0\t|\t10\n",
            "1\t|\t10\n",
            "2\t|\t10\n",
            "3\t|\t10\n",
            "4\t|\t10\n",
            "5\t|\t10\n",
            "6\t|\t10\n",
            "7\t|\t10\n",
            "8\t|\t10\n",
            "9\t|\t10\n",
            "10\t|\t10\n"
          ],
          "name": "stdout"
        }
      ]
    },
    {
      "cell_type": "markdown",
      "metadata": {
        "id": "pVjv6pmMv6kI"
      },
      "source": [
        "The example above shows that the *looping statement stopped when i=10*. It means that it could no longer add 1 to its value because **it didn't satisy the given condition** of having a lesser value than j."
      ]
    },
    {
      "cell_type": "markdown",
      "metadata": {
        "id": "Qz6AH6jRjfUg"
      },
      "source": [
        "## **For**\r\n",
        "---\r\n",
        "The for looping statement can iterate the items of any sequence like list or string. In this looping statement, the `range()` function is the one responsible for iteration with the use of arithmetic progressions [2]. \r\n",
        "<br>\r\n",
        "In the example below, the for loop conditional statement is used \r\n",
        "```\r\n",
        "for i in range(10):\r\n",
        "    print(i) \r\n",
        "```\r\n",
        "Since we used the function ***range()***, it will process an iteration using the value of i until it reaches n-1, where n is the value be found in range(n) which is 10.\r\n",
        "\r\n",
        "\r\n"
      ]
    },
    {
      "cell_type": "code",
      "metadata": {
        "id": "q0DUwfRkjZY7",
        "colab": {
          "base_uri": "https://localhost:8080/"
        },
        "outputId": "84b1d5a6-8a29-4b37-92fd-80bf75ba655a"
      },
      "source": [
        "# for(int i=0; i<10; i++){\r\n",
        "# printf(i)\r\n",
        "# }\r\n",
        "\r\n",
        "i=0\r\n",
        "for i in range(10):\r\n",
        "    print(i)"
      ],
      "execution_count": null,
      "outputs": [
        {
          "output_type": "stream",
          "text": [
            "0\n",
            "1\n",
            "2\n",
            "3\n",
            "4\n",
            "5\n",
            "6\n",
            "7\n",
            "8\n",
            "9\n"
          ],
          "name": "stdout"
        }
      ]
    },
    {
      "cell_type": "code",
      "metadata": {
        "id": "zaM--lUhjiUg",
        "colab": {
          "base_uri": "https://localhost:8080/"
        },
        "outputId": "6cc90dd5-73f4-429f-9bf3-39d4e2b003e9"
      },
      "source": [
        "playlist = ['Kyouran Hey Kids!', 'Silhouette', 'Unravel', 'Veil', 'Black Catcher', 'Sangenshoku', 'Hikaru nara']\r\n",
        "print('Now Playing:\\n')\r\n",
        "for song in playlist: \r\n",
        "    print(song) "
      ],
      "execution_count": null,
      "outputs": [
        {
          "output_type": "stream",
          "text": [
            "Now Playing:\n",
            "\n",
            "Kyouran Hey Kids!\n",
            "Silhouette\n",
            "Unravel\n",
            "Veil\n",
            "Black Catcher\n",
            "Sangenshoku\n",
            "Hikaru nara\n"
          ],
          "name": "stdout"
        }
      ]
    },
    {
      "cell_type": "markdown",
      "metadata": {
        "id": "BU22EHzRG1s3"
      },
      "source": [
        "In the for loop statement above, a list ```playlist``` is used. The foor loop iterated the list and displayed it as an output. \r\n"
      ]
    },
    {
      "cell_type": "markdown",
      "metadata": {
        "id": "N6jTqTZojnSg"
      },
      "source": [
        "# **Flow Control**\r\n",
        "---\r\n",
        "Flow control in python is the order in which the program follows and executes. Flow control uses conditional statements, function calls, and loops.[3]"
      ]
    },
    {
      "cell_type": "markdown",
      "metadata": {
        "id": "uhnsV2CijrWQ"
      },
      "source": [
        "## Condition Statements"
      ]
    },
    {
      "cell_type": "code",
      "metadata": {
        "id": "seJplrJojmTg",
        "colab": {
          "base_uri": "https://localhost:8080/"
        },
        "outputId": "3d8c4a41-32a5-4e61-afd9-37d130f86d10"
      },
      "source": [
        "numeral1, numeral2 = 12, 12\r\n",
        "if(numeral1 == numeral2):\r\n",
        "    print(\"Yey\")\r\n",
        "elif(numeral1>numeral2):\r\n",
        "    print(\"Hoho\")\r\n",
        "else:\r\n",
        "    print(\"Aww\")\r\n",
        "print(\"Hip hip\")"
      ],
      "execution_count": null,
      "outputs": [
        {
          "output_type": "stream",
          "text": [
            "Yey\n",
            "Hip hip\n"
          ],
          "name": "stdout"
        }
      ]
    },
    {
      "cell_type": "markdown",
      "metadata": {
        "id": "-bXILQXUKLuA"
      },
      "source": [
        "In programming, we can use **if statements** in doing simple to complex tasks. \r\n",
        "<br>\r\n",
        "If statements first check the condition. If the condition is satisfied or TRUE, it will execute a block of statements under the if statement. On the other hand, if the condition is classified as FALSE, it would execute other block of statements.\r\n",
        "<br>\r\n",
        "In the example above, two variables numeral1 and numeral2 are initialized and the given conditional statement made use of if, elif, and else statement.\r\n",
        "\r\n",
        "```\r\n",
        "if(numeral1 == numeral2):\r\n",
        "    print(\"Yey\")\r\n",
        "elif(numeral1>numeral2):\r\n",
        "    print(\"Hoho\")\r\n",
        "else:\r\n",
        "    print(\"Aww\")\r\n",
        "```\r\n",
        "The if statement above would execute the ```print(\"Yey\") ``` if numeral1 is equivalent to numeral2. Since the initialized value of both numeral1 and numeral2 is 12; the condition is TRUE hence executing the code under if-block.\r\n",
        "```\r\n",
        "numeral1, numeral2 = 75, 12\r\n",
        "if(numeral1 == numeral2):\r\n",
        "    print(\"Yey\")\r\n",
        "elif(numeral1>numeral2):\r\n",
        "    print(\"Hoho\")\r\n",
        "else:\r\n",
        "    print(\"Aww\")\r\n",
        "print(\"Hip hip\")\r\n",
        "```\r\n",
        "If we change the value of numeral1 to 75, it wouldn't satisfy the condition of if statement which is to have equivalent value of numeral1 and numeral2. <br>\r\n",
        "numeral1 having a greater value than numeral2 would satisfy the condition of **elif statement** and would execute the code under elif-block which is ```print(\"Hoho\")```. \r\n",
        "\r\n",
        "The **else statement** would be disregarded unless the value of numeral2 is greater than numeral1. "
      ]
    },
    {
      "cell_type": "markdown",
      "metadata": {
        "id": "tlnG1OKilNLo"
      },
      "source": [
        "# Functions"
      ]
    },
    {
      "cell_type": "markdown",
      "metadata": {
        "id": "bsS7Uf8ITMos"
      },
      "source": [
        "Functions are a blocks of codes that runs only when it's called.\r\n",
        "\r\n",
        "A function starts with the \"def\" keyword. It's followed by the function name. Inside the parenthesis beside the function are the parameters or arguments. These are data that will be used in the function when it is called. Functions may be given multiple or no parameters. A default value may also be assigned [11].\r\n",
        "\r\n",
        "\".format(userid)\" in the delete_user function basically inserts userid into the placeholder of curly brackets ( {} )[12]. These functions are just meant to print."
      ]
    },
    {
      "cell_type": "code",
      "metadata": {
        "id": "1iMUEipnlUKY"
      },
      "source": [
        "# void DeleteUser(int userid){\r\n",
        "#     delete(userid);\r\n",
        "# }\r\n",
        "\r\n",
        "def delete_user (userid):\r\n",
        "    print(\"Successfully deleted user: {}\".format(userid))\r\n",
        "    \r\n",
        "def delete_all_users ():\r\n",
        "    print(\"Successfully deleted all users\")"
      ],
      "execution_count": null,
      "outputs": []
    },
    {
      "cell_type": "markdown",
      "metadata": {
        "id": "36KQWksLTU5X"
      },
      "source": [
        "userid is given a value of 0. This value is inserted as a parameter when calling the delete_user function. It will be put in the placeholder. delete_all_users doesn't have any parameters so it will run the function without inserting anything in the parenthesis when calling it.\r\n"
      ]
    },
    {
      "cell_type": "code",
      "metadata": {
        "id": "v_TkrftylUEA"
      },
      "source": [
        "userid = 0\r\n",
        "delete_user(0)\r\n",
        "delete_all_users()"
      ],
      "execution_count": null,
      "outputs": []
    },
    {
      "cell_type": "markdown",
      "metadata": {
        "id": "azIgXq_QTcBK"
      },
      "source": [
        "There are two parameters in the add function. When a function asks for two parameters, there must exactly be two paramaters when calling this function. There'll be an error otherwise. Adding two asterisks (**) before a parameter name might be useful if the number of parameters that will be inputted is unknown. Using a return statement lets the function return a value [11].\r\n"
      ]
    },
    {
      "cell_type": "code",
      "metadata": {
        "id": "M0ffjw31lT8Y"
      },
      "source": [
        "def add(addend1, addend2):\r\n",
        "    return addend1 + addend2\r\n",
        "\r\n",
        "def power_of_base2(exponent):\r\n",
        "    return 2**exponent"
      ],
      "execution_count": null,
      "outputs": []
    },
    {
      "cell_type": "markdown",
      "metadata": {
        "id": "AbqW1pYjTiSQ"
      },
      "source": [
        "Parameters can be written as is in the parenthesis or be given a value before inserting like the userid above. Just calling the functions as is like the previous example only gave the output for power_of_base2.\r\n",
        "\r\n",
        "![image.png](data:image/png;base64,iVBORw0KGgoAAAANSUhEUgAAAMIAAABcCAYAAAA8jWoCAAAHIElEQVR4Ae2cPXLcSAyFle4xfBWldioHm+gkjr0XcapD6BCOdQuFswVrn4WF0X9kUzU9/FTFQgMNgM3XeAQ5M/bdy8vL5RqP19fXCwcYfFQN3F0jCWxNHwUA54FsVgMQgc7DTQcicDekI77VAB2BjkBHoCPQEegIdATuhHTD3zXAoxHF8LsYztwdIAJEgAi8I/COcOYu4K99c0f48ePH5du3b5fHx8fL/f39r8PGZnt6etr9bbVfJGMIe3QNDBPBivzh4eF38YsEUZrPHkIcfeHkh1y+BoaI8P379yYBIiEsZsvPOPwiGVO0R9dANxG2kECk2EKGoy+c/JDL10AXEewRR0W9VY4+JvlFzhjf3d1VPx2pzdfmZqwt5vjo88Xzn1HvIsLXr1+LRPAvyzWS2DvDyCPS7M1oFVdpvmT/65+/L/4YWa+Ps3EWWzpv5ottf3drEsE+HaoV+M+fP399UlTz0dxIV5i9ua3CyuYzm60rK97M1nsNpdjS+Xvz4tdPkCYR7ONQFXImdZc3wnz58qXqa7nk35I9m2iFUisWzUvGnLJLZvPRVtJLxVzy9/ZSrK3L+zHuL+xRrJpEaD36+IJ+fn7+3/cKkTiWy/vXxq0L8UXix4qLtr268pZkqZhL/t5ei43r9nGM5xGjSYRYzFGPxdx6VIr+JX1kk2OxRN1yeZsf6zzRFnX5ZbJWyJm/2SxGR8nH7CPrqOVhrk6aZYlgBeIPv9FZ8XibHysu2qIuvyh7ijnGRL1GpN51xJzo9cKP+DSJcI2PRrE4WrpdtPfxYwESbVGXn5czSGD5IMJY0fo9mDVuEmHkZfnz588f8rLsi9TGXjdgom1UV44ayD0kiOct5YMICxDhWj8+VZFJxiKT3WRW2K35LEbnEAmi1LykziFdshUnP61dOvI4wjQ7gr3MzvhCzXKUXowz+zVs+oxC3JNjT+w14LfSGrqIcAs/sdi6KVuL0eK2xtpa98RuvdYzx3URwe7YZ/7R3UcX5Uef78wE0LV3E2ErGbb88tTOpQUij3suBtt3bIeIYAVqj0m1dwZ94WY+I78tstz+YJPeNwksjsdimAgqVity+2jVf89gY7PtIYDys/nHbz4Yv2O8mQgq2KMkm/S+SWBxPBYQgf/Ohfcx+5TuqDv63rzcBY+/C4LxO8YQ4co7gn2UqqO3cFf7+HV0vaP+PbhBhCsmwtYN3xrXUzC9PrYGf5TisrXGn6CYHuOzuOgzokMEiPBHkY0UUOabFWmvzfJlhd97nsyvx7YkEQSqSR3xYmWX1LzpGnsZ7YqTzHyzOe9XGytWMvO1uczesilOuaXHOM1Hu+mak4w+skvG+aibX4/NfCCC+1Itgub1CP6Inm2I5fb2kXwx1q+zNO7NLz+/tlJOb1ecbFE3u8/px3FOObyM+aLufTUeOUcvESx3zKvzjcqlO4K/WA+IH8tHNkmz94xjfIzLdMWUpD+vfHpt8q/J0VzRP+rxXNl8ZlNcNpfZ5G9E8IfsmazlyfxLttMSQQBGaUCZLTsEomKkj8osvtfWc66eXObjj5i3d67mZzk1n+WPtpJe6xCWvxQ3YocI/wHpAfXjDMzWfBbjbVl8r83nKY1bueJ81GPeOB/16C/d/Eq+JbtivYQIhU90IoiZ7m02lt6StgHe32+IxsohfVTG/FFXvq3niXE1vXRurcFkFh9t3l8xNZ/anM+lRyRv8+PePD4mGy/bEQwAHemFufkIVku3fMrtpc4T42UfkT5vKV/J3jpPb27v53N6e2kN0cf7ZXN+XufKbDan4peUf5Sl+OjXoy9LhJ6Lw+f9JwTXiMXeQt4b7zGBCIXHLw8S4+MItbWYt8aV9hIiTCaCbVDtKG1Er72We3Zx9K5pr9/oukf9e9a3JBF6Lgyf4+7it4gtRJjcEW6xSM5wTRABIkz5Qmp1skAEiAAR7OPyvf+S7Kj41e8wrH+tdxSIQEegI9AR1rpr0WWO2y86Ah2BjkBHOO4Ow917LWzpCHQEOgIdYa27Fl3muP2iI9AR6AjWES78gQAIQARqAAQMAToCdQACEIEaAIE3BOgIVAII0BGoARB4Q4COQCWAAB2BGgCBNwToCFQCCNARqAEQeEOAjkAlgAAdgRoAgTcElusInz59uvgj20g/b2P+QKCFwHJEiBcUCz3q5p/ZYh70cyNwc0TIthMiZKhg8whABI8G49MisCQR7A6vo7VzdIMWQswbAksSwW9drdB7yeLzMT4nAjdLBEhwzoLeetU3SQRIsLUczhu3HBFU5JJx62SPMvqhg4BHYDki+MUzBoFZCECEWUiSZ2kEIMLS28fiZyEAEWYhSZ6lEYAIS28fi5+FAESYhSR5lkYAIiy9fSx+FgIQYRaS5FkaAYiw9Pax+FkIQIRZSJJnaQQgwtLbx+JnIQARZiFJnqURgAhLbx+Ln4XAvyZ8NfatKDA2AAAAAElFTkSuQmCC)"
      ]
    },
    {
      "cell_type": "markdown",
      "metadata": {
        "id": "EwBVysV7TuI9"
      },
      "source": [
        "Adding a print statement adds a new line which allows the user to see both outputs. A print statement can be concatenated with a function by separating them with commas.\r\n"
      ]
    },
    {
      "cell_type": "code",
      "metadata": {
        "id": "FRHtsZkVTtLE",
        "colab": {
          "base_uri": "https://localhost:8080/"
        },
        "outputId": "35967b22-1a71-4746-ab37-3d3f1168a22e"
      },
      "source": [
        "print(\"2 + 3 =\", add(2,3))\r\n",
        "print(\"2^5 =\", power_of_base2(5))"
      ],
      "execution_count": null,
      "outputs": [
        {
          "output_type": "stream",
          "text": [
            "2 + 3 = 5\n",
            "2^5 = 32\n"
          ],
          "name": "stdout"
        }
      ]
    },
    {
      "cell_type": "markdown",
      "metadata": {
        "id": "2_tDT01oFEGQ"
      },
      "source": [
        "### Lambda Functions"
      ]
    },
    {
      "cell_type": "markdown",
      "metadata": {
        "id": "0N7m3GCTUIvo"
      },
      "source": [
        "It's a small anonymous function. It can take any number of parameters, but will maintain only one expression [13]."
      ]
    },
    {
      "cell_type": "code",
      "metadata": {
        "id": "tmmBNW9pFg-4"
      },
      "source": [
        "x = 4"
      ],
      "execution_count": null,
      "outputs": []
    },
    {
      "cell_type": "markdown",
      "metadata": {
        "id": "c2qYT21lUMoI"
      },
      "source": [
        "The code below is a function named f and uses the value of x declared above."
      ]
    },
    {
      "cell_type": "code",
      "metadata": {
        "id": "_9KYzCrIFCpI"
      },
      "source": [
        "def f(x):\r\n",
        "  return 2*(x*x)-1\r\n",
        "f(x)"
      ],
      "execution_count": null,
      "outputs": []
    },
    {
      "cell_type": "markdown",
      "metadata": {
        "id": "VqF2w3-uUN3Z"
      },
      "source": [
        "The Lambda Function below produces the same output as the function above. If a function can produce the same output as a lambda, what's the use of using lambda? That is better shown when a lambda is used inside a function [13]. This example only shows the basic use of lambda with a single parameter.\r\n"
      ]
    },
    {
      "cell_type": "code",
      "metadata": {
        "id": "a2uwKwqFFafn"
      },
      "source": [
        "g = lambda x: 2*(x*x)-1\r\n",
        "print(g(x))"
      ],
      "execution_count": null,
      "outputs": []
    },
    {
      "cell_type": "markdown",
      "metadata": {
        "id": "JnDaVFFjpJp6"
      },
      "source": [
        "# **GRADE CALCULATOR**"
      ]
    },
    {
      "cell_type": "code",
      "metadata": {
        "id": "Rjm9RFrGlMgA"
      },
      "source": [
        "'''\r\n",
        "Create a grade calculator that computes for the semestral grade of a course.\r\n",
        "Students could type their names, the name of the course, then their prelim,\r\n",
        "midterm, and final grade.\r\n",
        "The program should print the semestral grade in 2 decimal points and should\r\n",
        "display the following emojis depending on the situation:\r\n",
        "happy - when grade is greater than 70.00\r\n",
        "laughing - when grade is exactly 70.00\r\n",
        "sad - when grade is below 70.00\r\n",
        "'''\r\n",
        "happy, lol, sad = \"\\U0001F600\",\"\\U0001F923\",\"\\U0001F619\""
      ],
      "execution_count": null,
      "outputs": []
    },
    {
      "cell_type": "code",
      "metadata": {
        "id": "TDZEDpWog6pR",
        "colab": {
          "base_uri": "https://localhost:8080/"
        },
        "outputId": "f7c2171a-a81c-49c0-e8c7-aeeed1bde9b8"
      },
      "source": [
        "name, course = input(\"Name: \"), input(\"Course: \")\r\n",
        "\r\n",
        "print(\"\\nHi\" , name + \" from the program\", course +\"!\")\r\n",
        "\r\n",
        "print(\"Please enter your Prelim, Midterm, and Final Grades below:\")\r\n",
        "prelim = float(input(\"\\nPrelim Grade: \"))\r\n",
        "midterm = float(input(\"Midterm Grade: \"))\r\n",
        "finals = float(input(\"Final Grade: \"))\r\n",
        "\r\n",
        "\r\n",
        "semGrade = 0.00\r\n",
        "semGrade = (prelim * .3) + (midterm * .3) + (finals * .4)\r\n",
        "if(semGrade > 70.00):\r\n",
        "  print(\"Semestral Grade:\", semGrade , \"\\U0001F600\")\r\n",
        "elif(semGrade == 70.00):\r\n",
        "  print(\"Semestral Grade:\", semGrade , \"\\U0001F923\")\r\n",
        "elif(semGrade < 70.00):\r\n",
        "  print(\"\\nSemestral Grade:\", semGrade, \"\\U0001F619\")"
      ],
      "execution_count": null,
      "outputs": [
        {
          "output_type": "stream",
          "text": [
            "Name: Kaze\n",
            "Course: BS Cpe\n",
            "\n",
            "Hi Kaze from the program BS Cpe!\n",
            "Please enter your Prelim, Midterm, and Final Grades below:\n",
            "\n",
            "Prelim Grade: 25.25\n",
            "Midterm Grade: 32.25\n",
            "Final Grade: 100\n",
            "\n",
            "Semestral Grade: 57.25 😙\n"
          ],
          "name": "stdout"
        }
      ]
    },
    {
      "cell_type": "code",
      "metadata": {
        "id": "o9vyYjbrmV3h"
      },
      "source": [
        ""
      ],
      "execution_count": null,
      "outputs": []
    },
    {
      "cell_type": "markdown",
      "metadata": {
        "id": "-mJhQrNNpWqD"
      },
      "source": [
        "### **REFERENCES**\r\n",
        "[1] Tutorialspoint (n.d.).Python 3 - Loops.[Online]. Available: https://www.tutorialspoint.com/python3/python_loops.htm <br>\r\n",
        "[2] Tutorialspoint (n.d.).Python 3 - Loops.[Online]. Available: https://www.tutorialspoint.com/python3/python_for_loop.htm <br>\r\n",
        "[3] O'reilly (2003). [Online]. Available: https://www.oreilly.com/library/view/python-in-a/0596001886/ch04s09.html <br>\r\n",
        "[4] Tutorialspoint (n.d.). Python - Variable Types. [Online]. Available: https://www.tutorialspoint.com/python/python_variable_types.htm <br>\r\n",
        "[5] Tutorialspoint (n.d.). Python - Basic Operators. [Online]. Available: https://www.tutorialspoint.com/python/python_basic_operators.htm <br>\r\n",
        "[6] EdpressoTeam. (n.d.). Edpresso: a shot of dev knowledge - Floor Division. [Online]. Available: https://www.educative.io/edpresso/floor-division <br>\r\n",
        "[7] W3Schools. (n.d.). Python Assignment Operators. [Online]. Available: https://www.w3schools.com/python/gloss_python_assignment_operators.asp <br>\r\n",
        "[8] Tutorialspoint. (n.d.). Python Assignment Operators Examples. [Online]. Available: https://www.tutorialspoint.com/python/assignment_operators_example.htm <br>\r\n",
        "[9] Tutorialspoint. (n.d.). Python Comparison Operators Examples. [Online]. Available: https://www.tutorialspoint.com/python/comparison_operators_example.htm <br>\r\n",
        "[10] W3Schools. (n.d.) Python Operators: Python Identity Operators and Python Logical Operators. [Online]. Available: https://www.w3schools.com/python/python_operators.asp <br>\r\n",
        "[11] W3Schools. (n.d.). Phython Functions. [Online]. Available: https://www.w3schools.com/python/python_functions.asp <br>\r\n",
        "[12] W3Schools. (n.d.). Python String format() Method. [Online]. Available: https://www.w3schools.com/python/ref_string_format.asp <br>\r\n",
        "[13] W3Schools. (n.d.). Phython Lambda. [Online]. Available: https://www.w3schools.com/python/python_lambda.asp <br>\r\n",
        "[14] W3Schools. (n.d.). Phython print() Function. [Online]. Available: https://www.w3schools.com/python/ref_func_print.asp <br>\r\n"
      ]
    }
  ]
}

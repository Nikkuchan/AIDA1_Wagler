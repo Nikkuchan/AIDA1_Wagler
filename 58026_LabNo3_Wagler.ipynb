{
  "nbformat": 4,
  "nbformat_minor": 0,
  "metadata": {
    "colab": {
      "name": "58026_LabNo3_Wagler.ipynb",
      "provenance": [],
      "authorship_tag": "ABX9TyO5lrI5H1Is8YmcBf4BbKaG",
      "include_colab_link": true
    },
    "kernelspec": {
      "name": "python3",
      "display_name": "Python 3"
    },
    "language_info": {
      "name": "python"
    }
  },
  "cells": [
    {
      "cell_type": "markdown",
      "metadata": {
        "id": "view-in-github",
        "colab_type": "text"
      },
      "source": [
        "<a href=\"https://colab.research.google.com/github/Nikkuchan/CpE-AIML/blob/main/58026_LabNo3_Wagler.ipynb\" target=\"_parent\"><img src=\"https://colab.research.google.com/assets/colab-badge.svg\" alt=\"Open In Colab\"/></a>"
      ]
    },
    {
      "cell_type": "markdown",
      "source": [
        "#**Lab 03 - CNN vs DNN**\n",
        "CPE ELECTIVE 3AIDA- DEEP LEARNING LAB 1030-1330 Wed"
      ],
      "metadata": {
        "id": "h-EEedwJppcG"
      }
    },
    {
      "cell_type": "markdown",
      "source": [
        "**Dataset for Analysis**\n",
        "\n",
        "Study and explain the MNIST Handwriting Dataset by Yan LeCunn and explain how it can be imported in a Colab Notebook.\n",
        "\n",
        "**Code Requirements**\n",
        "1.   Perform Descriptive Analytics with the MNIST dataset.\n",
        "2.   Design and implement an experiment for a classification routine with the MNIST dataset\n",
        "  \n",
        "  * Create 3 different experiment designs for MNIST classification for DNNs.\n",
        "  * Create 3 different experiment designs for MNIST classification for CNNs (must be comparative with the DNNs).\n",
        "3. Perform an analysis with the training results of the 6 experiments for the DNNs and CNNs\n",
        "4. Use TensorBoard in visualizing your work.\n",
        "\n",
        "\n",
        "\n"
      ],
      "metadata": {
        "id": "BFtyv9E_p7b-"
      }
    },
    {
      "cell_type": "code",
      "execution_count": null,
      "metadata": {
        "id": "tmUOLWp6pV6q"
      },
      "outputs": [],
      "source": [
        ""
      ]
    }
  ]
}
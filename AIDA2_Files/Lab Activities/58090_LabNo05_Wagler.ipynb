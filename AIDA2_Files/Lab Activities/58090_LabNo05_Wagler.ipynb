{
  "nbformat": 4,
  "nbformat_minor": 0,
  "metadata": {
    "colab": {
      "name": "58090_LabNo05_Wagler",
      "provenance": [],
      "include_colab_link": true
    },
    "kernelspec": {
      "name": "python3",
      "display_name": "Python 3"
    },
    "language_info": {
      "name": "python"
    }
  },
  "cells": [
    {
      "cell_type": "markdown",
      "metadata": {
        "id": "view-in-github",
        "colab_type": "text"
      },
      "source": [
        "<a href=\"https://colab.research.google.com/github/Nikkuchan/CpE-AIML/blob/main/58090_LabNo05_Wagler/58090_LabNo05_Wagler.ipynb\" target=\"_parent\"><img src=\"https://colab.research.google.com/assets/colab-badge.svg\" alt=\"Open In Colab\"/></a>"
      ]
    },
    {
      "cell_type": "markdown",
      "metadata": {
        "id": "m1Evgke-ClXZ"
      },
      "source": [
        "# Topic 05.1: Classification\n",
        "$_{\\text{©D.J. Lopez | 2021 | Fundamentals of Machine Learning}}$\n",
        "\n",
        "Another vital activity of Machine Learning is Classification. In this module we are going to understand the concepts and applications of classification in machine learning. In this module, we are going to discuss:\n",
        "* Linear Classification\n",
        "* Logistic Regression"
      ]
    },
    {
      "cell_type": "markdown",
      "source": [
        "### **Purpose of the Dataset**"
      ],
      "metadata": {
        "id": "9rzfHx5TrERb"
      }
    },
    {
      "cell_type": "markdown",
      "source": [
        "The dataset uploaded by Ruchu Bhatia in kaggle in 2019 aims to visualize the number of accidental deaths caused by drug overdose in the year 2012 to 2018. The purpose of this dataset is to examine trends in polysubstance detection associated with drug-related overdose deaths. The dataset aims to show the drug used by people that is most likely to cause death when overdosed from 2012 to 2018 but the team shall focus on knowing the rate of overdose deaths according to the age group. [1]"
      ],
      "metadata": {
        "id": "qJZbywN-iui2"
      }
    },
    {
      "cell_type": "markdown",
      "source": [
        "### **Needs statement**"
      ],
      "metadata": {
        "id": "b_AE8gY4rRUz"
      }
    },
    {
      "cell_type": "markdown",
      "source": [
        "Drug overdoses happen when a person intake a drug but takes a surplus of what was prescribed by the doctor. It can be intentional or accidental. Either way, this can cause death if left untreated. Knowing what kind of drug has a higher chance of causing death can help hospitals to be prepared with their medical equipment. \n",
        "\n",
        "There are a lot of factors that raises the risk of someone to misuse drugs and age can be considered as one of the most important aspect that influence the vulnerability of someone to use drugs. In a report published in 2016, it is said that ages 12 to 17 have the overwhelming tendency to begin using substance use which just shows the importance of having proper prevention programs in order to reducing these cases. [2] \n"
      ],
      "metadata": {
        "id": "zx1HkqH7rXns"
      }
    },
    {
      "cell_type": "markdown",
      "source": [
        "### **Significance**"
      ],
      "metadata": {
        "id": "YLoHKlnarjen"
      }
    },
    {
      "cell_type": "markdown",
      "source": [
        "The significance of this dataset is to see how overdose deaths escalated over the years. Classifying deaths per drug will help in knowing which kind of drug causes the highest chance of overdosing can help with putting a stop to it and can help with medical treatments. \n",
        "\n",
        "Drug overdose has been a cause of death among many in Connecticut. The majority of this has occurred on those aged 35-64. This dataset is used to determine whether an age group had drug-related overdose deaths during the year 2012-2018 in Connecticut. Solutions starting out from determining the main problem of that age group would be of help to reduce the number.\n"
      ],
      "metadata": {
        "id": "TzbgUzPorlYw"
      }
    },
    {
      "cell_type": "markdown",
      "source": [
        "### **Logistic Regression**"
      ],
      "metadata": {
        "id": "WJ5nme7Jyqra"
      }
    },
    {
      "cell_type": "markdown",
      "source": [
        "In this laboratory activity, Logistic regression is used in computing the probability of the occurrence from dying due to accidental drug abuse according to age groups. Logistic Regression is a statistical method similar to linear regression that is used for predicting binary classes. Logistic Model is used in examining the association of independent variable(s) with one dependent variable that is considered dichotomous.\n",
        "\n",
        "$$y = \\beta_0 + \\beta_1 X_1 + \\beta_2 X_2 ... + \\beta_n X_n \\\\ _{\\text{Eq. 1}}$$\n",
        "\n",
        "Equation 1 shows the equation for linear regression wherein \n",
        "$$y = dependent \\ variable $$\n",
        "$$X_n = explanatory \\ variables $$\n",
        "\n",
        "In order to return a probability value, we apply sigmoid funtion to the equation of linear regression. \n",
        "\n",
        "$$p = \\frac{{1}}{1+e^{-\\beta_0 + \\beta_1 X_1 + \\beta_2 X_2 ... + \\beta_n X_n}} \\\\_{\\text{Eq. 2}}$$\n",
        "Logistic Model is used in examining the association of independent variable(s) with one dependent variable that is considered dichotomous. In this activity, the age feature will be the independent variable and the dichotomous variable will be the data that shows whether there was a recorded death due to drug overdose or none.  [3]\n",
        "\n",
        "\n",
        " "
      ],
      "metadata": {
        "id": "b04AfPenyukF"
      }
    },
    {
      "cell_type": "markdown",
      "source": [
        "###**Implementation**\n"
      ],
      "metadata": {
        "id": "Bnm9qn-K6cju"
      }
    },
    {
      "cell_type": "code",
      "metadata": {
        "id": "7dJHlNdAedsN"
      },
      "source": [
        "import numpy as np\n",
        "import matplotlib.pyplot as plt\n",
        "import seaborn as sns\n",
        "from sklearn import metrics\n",
        "import pandas as pd\n",
        "from sklearn.linear_model import LogisticRegression"
      ],
      "execution_count": 111,
      "outputs": []
    },
    {
      "cell_type": "code",
      "source": [
        "class LRegression():\n",
        "  def train(self,X,y):\n",
        "    if len(X.shape) == 1: X = self._reshape_x(X)\n",
        "    X = self._concatenate_ones(X)\n",
        "    self.coefficients = np.linalg.inv(X.transpose().dot(X)).dot(X.transpose()).dot(y)\n",
        "\n",
        "  def predict(self):\n",
        "    log_model = LogisticRegression(random_state=0)\n",
        "    log_model.fit(X,y)\n",
        "    preds = log_model.predict(X)\n",
        "    return preds\n",
        "\n",
        "  def evaluate(self,X,y):\n",
        "    class_metrics = {\n",
        "    'accuracy': [metrics.accuracy_score(y, preds)],\n",
        "    'precision': [metrics.precision_score(y, preds)],\n",
        "    'recall': [metrics.recall_score(y,preds)],\n",
        "    'f1-score': [metrics.f1_score(y, preds)]}\n",
        "    dataf = pd.DataFrame(class_metrics)\n",
        "    return dataf\n",
        "  \n",
        "  def visualize(self,X,y):\n",
        "    log_model = LogisticRegression(random_state=0)\n",
        "    log_model.fit(X,y)\n",
        "    preds = log_model.predict(X)\n",
        "    plt.figure()\n",
        "    plt.scatter(X,y, color='green')\n",
        "    plt.scatter(X,preds, color='orange')\n",
        "    plt.grid()\n",
        "\n",
        "    plt.figure()\n",
        "    conf_mat = metrics.confusion_matrix(y, preds)\n",
        "    sns.heatmap(conf_mat, cmap=\"summer\", annot=True)\n",
        "    plt.xlabel(\"Predicted\")\n",
        "    plt.ylabel(\"Ground Truth\")\n",
        "    return plt.show()\n",
        "\n",
        "  #helper functions\n",
        "  def __init__(self):\n",
        "    self.model_ = self.train(X,y)\n",
        "    \n",
        "  def _reshape_x(self,X):\n",
        "    return X.reshape(-1,1)\n",
        "    \n",
        "  def _concatenate_ones(self, X):\n",
        "    ones = np.ones(shape=X.shape[0]).reshape(-1,1)\n",
        "    return np.concatenate((ones,X),1)"
      ],
      "metadata": {
        "id": "wFW8TR5JdxR6"
      },
      "execution_count": 215,
      "outputs": []
    },
    {
      "cell_type": "code",
      "metadata": {
        "id": "NTWehnvL_rsK"
      },
      "source": [
        "df_drugDeaths = pd.read_csv('/content/drugDeaths_clean.csv').head(100)\n",
        "X = df_drugDeaths['Age'].to_numpy().reshape((-1,1))\n",
        "y = df_drugDeaths['DateType'].to_numpy().reshape((-1,1))"
      ],
      "execution_count": 217,
      "outputs": []
    },
    {
      "cell_type": "code",
      "source": [
        "classification = LRegression()"
      ],
      "metadata": {
        "id": "aEpNizHYi9KE"
      },
      "execution_count": 218,
      "outputs": []
    },
    {
      "cell_type": "code",
      "source": [
        "classification.predict()"
      ],
      "metadata": {
        "id": "i3rkMj0SxvBh",
        "outputId": "9e7d6207-abc0-42fe-bc2f-2c4869d23bee",
        "colab": {
          "base_uri": "https://localhost:8080/"
        }
      },
      "execution_count": 219,
      "outputs": [
        {
          "output_type": "stream",
          "name": "stderr",
          "text": [
            "/usr/local/lib/python3.7/dist-packages/sklearn/utils/validation.py:985: DataConversionWarning: A column-vector y was passed when a 1d array was expected. Please change the shape of y to (n_samples, ), for example using ravel().\n",
            "  y = column_or_1d(y, warn=True)\n"
          ]
        },
        {
          "output_type": "execute_result",
          "data": {
            "text/plain": [
              "array([1., 0., 0., 0., 0., 0., 0., 0., 1., 0., 1., 1., 0., 1., 0., 0., 1.,\n",
              "       0., 1., 0., 0., 0., 0., 0., 1., 0., 0., 0., 1., 1., 0., 1., 0., 1.,\n",
              "       0., 1., 1., 0., 0., 0., 0., 0., 0., 1., 1., 1., 1., 0., 1., 0., 1.,\n",
              "       1., 0., 1., 1., 0., 1., 1., 1., 1., 0., 0., 0., 0., 0., 0., 1., 0.,\n",
              "       0., 0., 1., 0., 0., 1., 0., 0., 1., 0., 1., 1., 0., 1., 1., 0., 0.,\n",
              "       1., 0., 1., 0., 0., 0., 1., 0., 0., 0., 1., 0., 0., 0., 0.])"
            ]
          },
          "metadata": {},
          "execution_count": 219
        }
      ]
    },
    {
      "cell_type": "code",
      "source": [
        "classification.visualize(X,y)"
      ],
      "metadata": {
        "colab": {
          "base_uri": "https://localhost:8080/",
          "height": 582
        },
        "id": "4LbUiN1VpC_m",
        "outputId": "cfe52277-d5a9-488f-befc-1783959765a7"
      },
      "execution_count": 220,
      "outputs": [
        {
          "output_type": "stream",
          "name": "stderr",
          "text": [
            "/usr/local/lib/python3.7/dist-packages/sklearn/utils/validation.py:985: DataConversionWarning: A column-vector y was passed when a 1d array was expected. Please change the shape of y to (n_samples, ), for example using ravel().\n",
            "  y = column_or_1d(y, warn=True)\n"
          ]
        },
        {
          "output_type": "display_data",
          "data": {
            "image/png": "[encoded data removed]",
            "text/plain": [
              "<Figure size 432x288 with 1 Axes>"
            ]
          },
          "metadata": {
            "needs_background": "light"
          }
        },
        {
          "output_type": "display_data",
          "data": {
            "image/png": "[encoded data removed]",
            "text/plain": [
              "<Figure size 432x288 with 2 Axes>"
            ]
          },
          "metadata": {
            "needs_background": "light"
          }
        }
      ]
    },
    {
      "cell_type": "code",
      "source": [
        "classification.evaluate(X,y)"
      ],
      "metadata": {
        "colab": {
          "base_uri": "https://localhost:8080/",
          "height": 81
        },
        "id": "RITRmLtXjGSw",
        "outputId": "ee5e1210-835e-459c-fa4f-4f20f4131b3c"
      },
      "execution_count": null,
      "outputs": [
        {
          "output_type": "execute_result",
          "data": {
            "text/html": [
              "<div>\n",
              "<style scoped>\n",
              "    .dataframe tbody tr th:only-of-type {\n",
              "        vertical-align: middle;\n",
              "    }\n",
              "\n",
              "    .dataframe tbody tr th {\n",
              "        vertical-align: top;\n",
              "    }\n",
              "\n",
              "    .dataframe thead th {\n",
              "        text-align: right;\n",
              "    }\n",
              "</style>\n",
              "<table border=\"1\" class=\"dataframe\">\n",
              "  <thead>\n",
              "    <tr style=\"text-align: right;\">\n",
              "      <th></th>\n",
              "      <th>accuracy</th>\n",
              "      <th>precision</th>\n",
              "      <th>recall</th>\n",
              "      <th>f1-score</th>\n",
              "    </tr>\n",
              "  </thead>\n",
              "  <tbody>\n",
              "    <tr>\n",
              "      <th>0</th>\n",
              "      <td>0.53</td>\n",
              "      <td>0.512821</td>\n",
              "      <td>0.416667</td>\n",
              "      <td>0.45977</td>\n",
              "    </tr>\n",
              "  </tbody>\n",
              "</table>\n",
              "</div>"
            ],
            "text/plain": [
              "   accuracy  precision    recall  f1-score\n",
              "0      0.53   0.512821  0.416667   0.45977"
            ]
          },
          "metadata": {},
          "execution_count": 113
        }
      ]
    },
    {
      "cell_type": "markdown",
      "source": [
        "### **REFERENCE**"
      ],
      "metadata": {
        "id": "xeVlM9dJsKZN"
      }
    },
    {
      "cell_type": "markdown",
      "source": [
        "[1] Bhatia, R. (2019).\"Drug overdose deaths\". [Online]. Available: https://www.kaggle.com/ruchi798/drug-overdose-deaths\n",
        "\n",
        "[2] Surgeon General (2016). PREVENTION PROGRAMS AND POLICIES. [Online]. Available: https://addiction.surgeongeneral.gov/executive-summary/report/prevention-programs-and-policies\n",
        "\n",
        "[3] Hoffman, J. (2019). Basic Biostatistics for Medical and Biomedical Practitioners (Second Edition). [Online]. Available: https://www.sciencedirect.com/topics/medicine-and-dentistry/logistic-regression-analysis "
      ],
      "metadata": {
        "id": "jIYAhhus4sIy"
      }
    }
  ]
}
